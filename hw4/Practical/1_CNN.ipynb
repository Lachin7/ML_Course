{
  "cells": [
    {
      "cell_type": "markdown",
      "metadata": {
        "id": "jlCucj7R2F-E"
      },
      "source": [
        "<img src='http://www-scf.usc.edu/~ghasemig/images/sharif.png' alt=\"SUT logo\" width=200 height=200 align=left class=\"saturate\" >\n",
        "\n",
        "<br>\n",
        "<font face=\"Times New Roman\">\n",
        "<div dir=ltr align=center>\n",
        "<font color=0F5298 size=7>\n",
        "    Introduction to Machine Learning <br>\n",
        "<font color=2565AE size=5>\n",
        "    Computer Engineering Department <br>\n",
        "    Fall 2022<br>\n",
        "<font color=3C99D size=5>\n",
        "    Homework 4: Practical - Convolutional Neural Networks <br>\n",
        "<font color=696880 size=4>\n",
        "    Arian Amani\n",
        "    \n",
        "    \n",
        "____\n"
      ]
    },
    {
      "cell_type": "markdown",
      "metadata": {
        "id": "ZmB1EZwv2F-G"
      },
      "source": [
        "### Full Name : Lachin Naghashyar\n",
        "### Student Number : 98110179\n",
        "___"
      ]
    },
    {
      "cell_type": "markdown",
      "metadata": {
        "id": "vx6JAhWS2F-G"
      },
      "source": [
        "# Problem\n",
        "This assignment uses PyTorch to build and implement a residual CNN for solving a classification problem. Our goal is to classify handwritten digits from 0 to 9 on the MNIST dataset. You can try larger and more fun datasets if you have access to Google Colab. (for example: [facial emotion detection](https://www.kaggle.com/datasets/msambare/fer2013))\n",
        "\n",
        "* It is highly recommended to run this notebook on Google Colab so that you can utilize its GPU.\n",
        "* If you need to change the inputs of functions you are implementing, or want to add new cells or functions, feel free to do so."
      ]
    },
    {
      "cell_type": "markdown",
      "metadata": {
        "id": "W0bGV8AXO3Yx"
      },
      "source": [
        "# Setup"
      ]
    },
    {
      "cell_type": "code",
      "execution_count": 1,
      "metadata": {
        "id": "CdrZr6HWO2p8"
      },
      "outputs": [],
      "source": [
        "import torch\n",
        "from torch import nn\n",
        "from torch.nn import functional as F\n",
        "from torch.utils.data import Dataset, DataLoader, random_split\n",
        "from torchvision import transforms, datasets\n",
        "\n",
        "from tqdm import tqdm\n",
        "import numpy as np\n",
        "import pandas as pd\n",
        "import matplotlib.pyplot as plt\n",
        "\n",
        "plt.style.use('ggplot')\n",
        "###########################################################\n",
        "##  If you need any other packages, import them below    ##\n",
        "###########################################################\n"
      ]
    },
    {
      "cell_type": "code",
      "execution_count": 2,
      "metadata": {
        "colab": {
          "base_uri": "https://localhost:8080/"
        },
        "id": "dQz5prlp2F-I",
        "outputId": "a2ba7b46-f718-4b72-f18b-3a2f71aec2b4"
      },
      "outputs": [
        {
          "output_type": "execute_result",
          "data": {
            "text/plain": [
              "device(type='cuda')"
            ]
          },
          "metadata": {},
          "execution_count": 2
        }
      ],
      "source": [
        "device = torch.device('cuda' if torch.cuda.is_available() else 'cpu')\n",
        "device"
      ]
    },
    {
      "cell_type": "markdown",
      "metadata": {
        "id": "gzydGC2SNuAu"
      },
      "source": [
        "# Prepare The Data (10 Points)"
      ]
    },
    {
      "cell_type": "markdown",
      "metadata": {
        "id": "Suygsns-2F-I"
      },
      "source": [
        "Write a composed transformation to transform our dataset's PIL images to tensors and normalize them with ```mean: 0.1307``` and ```std: 0.3081```: "
      ]
    },
    {
      "cell_type": "markdown",
      "metadata": {
        "id": "jnynWgKs2F-I"
      },
      "source": [
        "<details>\n",
        "<summary>Hint</summary>\n",
        "<br>\n",
        "<a href=\"https://pytorch.org/vision/stable/generated/torchvision.transforms.Compose.html\">torchvision.transforms.Compose</a>\n",
        "</details>"
      ]
    },
    {
      "cell_type": "code",
      "execution_count": 3,
      "metadata": {
        "id": "DgVZhjdA2F-J"
      },
      "outputs": [],
      "source": [
        "import torchvision\n",
        "###############################################################\n",
        "##                Compose your transformations               ##\n",
        "###############################################################\n",
        "transformation = torchvision.transforms.Compose([\n",
        "    transforms.ToTensor(),\n",
        "    transforms.Normalize((0.1307,), (0.3081,)),\n",
        "])"
      ]
    },
    {
      "cell_type": "markdown",
      "metadata": {
        "id": "ANdYnd04N0ze"
      },
      "source": [
        "Split the downloaded MNIST dataset into two dataloaders ```train``` & ```val```"
      ]
    },
    {
      "cell_type": "code",
      "execution_count": 4,
      "metadata": {
        "colab": {
          "base_uri": "https://localhost:8080/",
          "height": 469,
          "referenced_widgets": [
            "4e02ebf876d546f3ad46283791eac2d3",
            "8903a1992ecb4565b78c712ebe2cabc6",
            "d86bfe774433470ab25c71b84e2ae7e7",
            "b3a9c9aa21be4bad84e2a0a73c101373",
            "58679810b4054772a75c249f64e061f9",
            "39df3080a4a542cfaf9c52f8938a9644",
            "adbb893c6ff44b9f9a634d460f39b5b9",
            "d77990b97757495795173180aa3f1f49",
            "e02c2cc0aafa4bb1b11ae875b6a89934",
            "5c260f1d293d4b02955c6dcaa131ea03",
            "f01b8875159f4645b1dd3ed9a8e77b08",
            "bbc455037d2f4c6c89b107d09a2a4bdb",
            "c1c15ee88cb94dd3a7c5fb7802ab0700",
            "9f29a62e05f4412596927421e2fe9d1e",
            "a68469007d0b4e05a31c0695d1c82516",
            "a6760e83f01e411d975d6ade3dccd010",
            "8bce99d8908f49109eb9a6c12fc327ff",
            "3b23a9733aff4a41861c7471b77103b1",
            "60386d9881aa4b60ab840ddbd3614c22",
            "8ed62ca6d5b647a4a1f9f73f40d64ef1",
            "53382601ccd04d51ace8ad972f759b0b",
            "dec618b003994a7db1c9c4934235d67e",
            "0d959ba9c3cc4999a6f42c6305bf13c2",
            "c35d235715d848b28e992914cfd6a13f",
            "c4363a40c21b456cb8dac063897b0020",
            "ce6ab220a1104f2e86d21dbfd511fa49",
            "a26f2a2a4d954b6d875ebdd3b2858e35",
            "3cc66c6b6d8b4e74af46f801d435f0d5",
            "f81344ab4ab64ea4b11b1167a4fb045b",
            "3707eaf6c1bf4c3abdb1ab6e6eafeb27",
            "62d74eb2925d466db3c1095c43fe1bcf",
            "31bccff9ff5947af9aa2636a220025be",
            "5523b43a7129450297d7945fbe384a5a",
            "9c90b5cd12f44e308599428a8d635499",
            "c6d589abe7704400ba0f479117a56037",
            "313751bd593f4a03a99a9deb83d30a01",
            "151611f1a1a94659989f5870707bdee9",
            "d296c9343e704f46a72fc64828fe50c6",
            "ddc2fe9890b844ab9779882d3f917fd5",
            "1db80dc8db9b43458636ff6f02e9a50e",
            "0580f9f9451142b7848ae1af0376e553",
            "5fbe62ae82c34ea58c01b8aad6615bbc",
            "ce484dd939514903bf590f7e5f9a1acd",
            "6c6d65d508e44e2092e528ddd0dcbc17"
          ]
        },
        "id": "9KRvhsWm2F-J",
        "outputId": "666ad057-a455-40f3-87d7-05d72736a61e"
      },
      "outputs": [
        {
          "output_type": "stream",
          "name": "stdout",
          "text": [
            "Downloading http://yann.lecun.com/exdb/mnist/train-images-idx3-ubyte.gz\n",
            "Downloading http://yann.lecun.com/exdb/mnist/train-images-idx3-ubyte.gz to data/MNIST/raw/train-images-idx3-ubyte.gz\n"
          ]
        },
        {
          "output_type": "display_data",
          "data": {
            "text/plain": [
              "  0%|          | 0/9912422 [00:00<?, ?it/s]"
            ],
            "application/vnd.jupyter.widget-view+json": {
              "version_major": 2,
              "version_minor": 0,
              "model_id": "4e02ebf876d546f3ad46283791eac2d3"
            }
          },
          "metadata": {}
        },
        {
          "output_type": "stream",
          "name": "stdout",
          "text": [
            "Extracting data/MNIST/raw/train-images-idx3-ubyte.gz to data/MNIST/raw\n",
            "\n",
            "Downloading http://yann.lecun.com/exdb/mnist/train-labels-idx1-ubyte.gz\n",
            "Downloading http://yann.lecun.com/exdb/mnist/train-labels-idx1-ubyte.gz to data/MNIST/raw/train-labels-idx1-ubyte.gz\n"
          ]
        },
        {
          "output_type": "display_data",
          "data": {
            "text/plain": [
              "  0%|          | 0/28881 [00:00<?, ?it/s]"
            ],
            "application/vnd.jupyter.widget-view+json": {
              "version_major": 2,
              "version_minor": 0,
              "model_id": "bbc455037d2f4c6c89b107d09a2a4bdb"
            }
          },
          "metadata": {}
        },
        {
          "output_type": "stream",
          "name": "stdout",
          "text": [
            "Extracting data/MNIST/raw/train-labels-idx1-ubyte.gz to data/MNIST/raw\n",
            "\n",
            "Downloading http://yann.lecun.com/exdb/mnist/t10k-images-idx3-ubyte.gz\n",
            "Downloading http://yann.lecun.com/exdb/mnist/t10k-images-idx3-ubyte.gz to data/MNIST/raw/t10k-images-idx3-ubyte.gz\n"
          ]
        },
        {
          "output_type": "display_data",
          "data": {
            "text/plain": [
              "  0%|          | 0/1648877 [00:00<?, ?it/s]"
            ],
            "application/vnd.jupyter.widget-view+json": {
              "version_major": 2,
              "version_minor": 0,
              "model_id": "0d959ba9c3cc4999a6f42c6305bf13c2"
            }
          },
          "metadata": {}
        },
        {
          "output_type": "stream",
          "name": "stdout",
          "text": [
            "Extracting data/MNIST/raw/t10k-images-idx3-ubyte.gz to data/MNIST/raw\n",
            "\n",
            "Downloading http://yann.lecun.com/exdb/mnist/t10k-labels-idx1-ubyte.gz\n",
            "Downloading http://yann.lecun.com/exdb/mnist/t10k-labels-idx1-ubyte.gz to data/MNIST/raw/t10k-labels-idx1-ubyte.gz\n"
          ]
        },
        {
          "output_type": "display_data",
          "data": {
            "text/plain": [
              "  0%|          | 0/4542 [00:00<?, ?it/s]"
            ],
            "application/vnd.jupyter.widget-view+json": {
              "version_major": 2,
              "version_minor": 0,
              "model_id": "9c90b5cd12f44e308599428a8d635499"
            }
          },
          "metadata": {}
        },
        {
          "output_type": "stream",
          "name": "stdout",
          "text": [
            "Extracting data/MNIST/raw/t10k-labels-idx1-ubyte.gz to data/MNIST/raw\n",
            "\n",
            "60000\n"
          ]
        }
      ],
      "source": [
        "# Download the MNIST dataset\n",
        "mnist_data = datasets.MNIST(root='data/', download=True, transform=transformation)\n",
        "\n",
        "# Number of images in the dataset: 60,000\n",
        "print(len(mnist_data))\n",
        "\n",
        "# Split the dataset into training and validation sets\n",
        "train_data, valid_data = random_split(mnist_data, [50000, 10000]) "
      ]
    },
    {
      "cell_type": "markdown",
      "metadata": {
        "id": "5Asum-722F-K"
      },
      "source": [
        "Create dataloaders for your train and validation data with ```batch size 16``` and ```shuffle = True``` for train loader."
      ]
    },
    {
      "cell_type": "markdown",
      "metadata": {
        "id": "yxh6QlzQ2F-K"
      },
      "source": [
        "<details>\n",
        "<summary>Hint</summary>\n",
        "<br>\n",
        "<a href=\"https://pytorch.org/tutorials/beginner/basics/data_tutorial.html\">DATASETS & DATALOADERS</a>\n",
        "</details>"
      ]
    },
    {
      "cell_type": "code",
      "execution_count": 5,
      "metadata": {
        "id": "4CEUTGaFQI51"
      },
      "outputs": [],
      "source": [
        "###############################################################\n",
        "##           Load the datasets into train/valid              ##\n",
        "##                       dataloaders                         ##\n",
        "###############################################################\n",
        "\n",
        "train_loader = DataLoader(train_data, batch_size=16, shuffle=True, num_workers=2)\n",
        "val_loader = DataLoader(valid_data, batch_size=16, shuffle=False, num_workers=2)"
      ]
    },
    {
      "cell_type": "markdown",
      "metadata": {
        "id": "HF_40_3rQ5Uv"
      },
      "source": [
        "# Define Model (40 Points)"
      ]
    },
    {
      "cell_type": "markdown",
      "metadata": {
        "id": "AFjyKCEj2F-K"
      },
      "source": [
        "### You need to implement a model with the architecture below:\n",
        "[Input: (BS, 1, 28, 28)] -- > [Conv2D (BS, 16, 28, 28)] --> ReLU --> [MaxPool2D (BS, 16, 14, 14): Residual1]\n",
        "\n",
        "--> [Conv2D (BS, 16, 14, 14)] --> ReLU --> [Conv2D (BS, 16, 14, 14)] --> ReLU --> [Addition with Residual1]\n",
        "\n",
        "--> [MaxPool2D (BS, 16, 7, 7)] --> [Conv2D (BS, 64, 7, 7)] --> [ReLU: Residual2]\n",
        "\n",
        "--> [Conv2D (BS, 64, 7, 7)] --> ReLU --> [Conv2D (BS, 64, 7, 7)] --> ReLU --> [Addition with Residual2]\n",
        "\n",
        "--> [GlobalAveragePooling (BS, 64, 1, 1)] --> [Flatten (BS, 64)] --> [Linear (BS, 10)] --> OUT\n",
        "\n",
        "Here you can see the drawn schematic of the architecture, too: [Link](https://drive.google.com/file/d/1acQve-TOYd6wYtogpHCblhoDZt9jWQdf/view?usp=share_link)"
      ]
    },
    {
      "cell_type": "markdown",
      "metadata": {
        "id": "ZW2QTEiD2F-L"
      },
      "source": [
        "<details>\n",
        "<summary>Hint</summary>\n",
        "<br>\n",
        "These might be helpful:\n",
        "<br>\n",
        "<a href=\"https://pytorch.org/docs/stable/generated/torch.clone.html\">TORCH.CLONE</a>\n",
        "<br><br>\n",
        "<a href=\"https://pytorch.org/docs/master/generated/torch.nn.AdaptiveAvgPool2d.html#torch.nn.AdaptiveAvgPool2d\">AdaptiveAvgPool2d</a> with output size (1, 1) for global average pooling\n",
        "<br><br>\n",
        "<a href=\"https://arxiv.org/pdf/1512.03385.pdf\">Deep Residual Learning for Image Recognition</a>\n",
        "</details>"
      ]
    },
    {
      "cell_type": "code",
      "execution_count": 6,
      "metadata": {
        "id": "jQfGVj2rQ90G"
      },
      "outputs": [],
      "source": [
        "#####################################\n",
        "##        Define your model        ##\n",
        "##            Your Code            ##\n",
        "#####################################\n",
        "class ResidualClassifier(nn.Module):\n",
        "\n",
        "     def __init__(self):\n",
        "        super(ResidualClassifier, self).__init__()\n",
        "        self.conv1 = nn.Sequential(\n",
        "            nn.Conv2d(in_channels=1, out_channels=16, kernel_size = 3, stride=1, padding = 1),   #padding = (kernel - stride) /2                           \n",
        "            nn.ReLU(),                      \n",
        "            nn.MaxPool2d(kernel_size=2, stride=2),    \n",
        "        )\n",
        "        self.conv2 = nn.Sequential(         \n",
        "            nn.Conv2d(in_channels=16, out_channels=16, kernel_size=3, stride=1, padding=1),     \n",
        "            nn.ReLU(),                 \n",
        "            nn.Conv2d(in_channels=16, out_channels=16, kernel_size=3, stride=1, padding=1),     \n",
        "            nn.ReLU()              \n",
        "        )\n",
        "        self.conv3 = nn.Sequential(        \n",
        "            nn.MaxPool2d(kernel_size=2, stride=2),     \n",
        "            nn.Conv2d(in_channels=16, out_channels=64, kernel_size=3, stride=1, padding=1),     \n",
        "            nn.ReLU()\n",
        "        )\n",
        "        self.conv4 = nn.Sequential(         \n",
        "            nn.Conv2d(in_channels=64, out_channels=64, kernel_size=3, stride=1, padding=1),     \n",
        "            nn.ReLU(),                 \n",
        "            nn.Conv2d(in_channels=64, out_channels=64, kernel_size=3, stride=1, padding=1),     \n",
        "            nn.ReLU()              \n",
        "        )\n",
        "        self.out = nn.Sequential(\n",
        "            nn.AdaptiveAvgPool2d((1,1)),\n",
        "            nn.Flatten(), \n",
        "            nn.Linear(64, 10)\n",
        "        )\n",
        "    \n",
        "\n",
        "     def forward(self, x):\n",
        "        res1 = self.conv1(x)\n",
        "        out1 = res1 + self.conv2(res1)\n",
        "        res2 = self.conv3(out1)\n",
        "        out2 = res2 + self.conv4(res2)\n",
        "        return self.out(out2)"
      ]
    },
    {
      "cell_type": "markdown",
      "metadata": {
        "id": "1jZeKXV9Rbq3"
      },
      "source": [
        "# Train Model (30 Points)"
      ]
    },
    {
      "cell_type": "code",
      "execution_count": 7,
      "metadata": {
        "id": "koMk0TkKRazn"
      },
      "outputs": [],
      "source": [
        "######################################################################\n",
        "##        Instantiate model, define hyper parameters, optimizer,    ##\n",
        "##        loss function and etc                                     ##\n",
        "######################################################################\n",
        "model = ResidualClassifier().to(device)\n",
        "criterion = nn.CrossEntropyLoss()\n",
        "optimizer = torch.optim.SGD(model.parameters(), lr=0.001, weight_decay = 0.0005, momentum = 0.95)"
      ]
    },
    {
      "cell_type": "code",
      "execution_count": 8,
      "metadata": {
        "colab": {
          "base_uri": "https://localhost:8080/"
        },
        "id": "B25VhaME2F-M",
        "outputId": "953a7d31-c957-4c04-e80c-84d3cf78f5d0"
      },
      "outputs": [
        {
          "output_type": "stream",
          "name": "stdout",
          "text": [
            "Epoch: 1/20..  Training Loss: 3248.294..  Training Accuracy: 0.627 Validation Loss: 0.250..  Validation Accuracy: 0.919\n",
            "Epoch: 2/20..  Training Loss: 500.968..  Training Accuracy: 0.952 Validation Loss: 0.099..  Validation Accuracy: 0.969\n",
            "Epoch: 3/20..  Training Loss: 342.450..  Training Accuracy: 0.967 Validation Loss: 0.092..  Validation Accuracy: 0.973\n",
            "Epoch: 4/20..  Training Loss: 268.667..  Training Accuracy: 0.973 Validation Loss: 0.084..  Validation Accuracy: 0.978\n",
            "Epoch: 5/20..  Training Loss: 222.242..  Training Accuracy: 0.978 Validation Loss: 0.074..  Validation Accuracy: 0.977\n",
            "Epoch: 6/20..  Training Loss: 194.566..  Training Accuracy: 0.981 Validation Loss: 0.055..  Validation Accuracy: 0.982\n",
            "Epoch: 7/20..  Training Loss: 170.148..  Training Accuracy: 0.983 Validation Loss: 0.053..  Validation Accuracy: 0.983\n",
            "Epoch: 8/20..  Training Loss: 153.153..  Training Accuracy: 0.986 Validation Loss: 0.071..  Validation Accuracy: 0.977\n",
            "Epoch: 9/20..  Training Loss: 136.482..  Training Accuracy: 0.987 Validation Loss: 0.067..  Validation Accuracy: 0.980\n",
            "Epoch: 10/20..  Training Loss: 130.838..  Training Accuracy: 0.987 Validation Loss: 0.053..  Validation Accuracy: 0.983\n",
            "Epoch: 11/20..  Training Loss: 117.195..  Training Accuracy: 0.988 Validation Loss: 0.039..  Validation Accuracy: 0.987\n",
            "Epoch: 12/20..  Training Loss: 113.783..  Training Accuracy: 0.989 Validation Loss: 0.043..  Validation Accuracy: 0.985\n",
            "Epoch: 13/20..  Training Loss: 113.127..  Training Accuracy: 0.989 Validation Loss: 0.038..  Validation Accuracy: 0.988\n",
            "Epoch: 14/20..  Training Loss: 105.173..  Training Accuracy: 0.990 Validation Loss: 0.046..  Validation Accuracy: 0.987\n",
            "Epoch: 15/20..  Training Loss: 97.646..  Training Accuracy: 0.991 Validation Loss: 0.040..  Validation Accuracy: 0.988\n",
            "Epoch: 16/20..  Training Loss: 97.046..  Training Accuracy: 0.991 Validation Loss: 0.041..  Validation Accuracy: 0.987\n",
            "Epoch: 17/20..  Training Loss: 94.804..  Training Accuracy: 0.991 Validation Loss: 0.040..  Validation Accuracy: 0.988\n",
            "Epoch: 18/20..  Training Loss: 84.900..  Training Accuracy: 0.992 Validation Loss: 0.045..  Validation Accuracy: 0.986\n",
            "Epoch: 19/20..  Training Loss: 89.395..  Training Accuracy: 0.991 Validation Loss: 0.032..  Validation Accuracy: 0.990\n",
            "Epoch: 20/20..  Training Loss: 83.537..  Training Accuracy: 0.992 Validation Loss: 0.035..  Validation Accuracy: 0.990\n"
          ]
        }
      ],
      "source": [
        "######################################################################\n",
        "##        Train your model (Complete the code below)                ##\n",
        "######################################################################\n",
        "# Measure the validation loss and accuracy\n",
        "def validation(model, dataloader, criterion, device):\n",
        "    loss = 0\n",
        "    accuracy = 0\n",
        "    with torch.no_grad():\n",
        "        for images, labels in dataloader:\n",
        "            \n",
        "            images, labels = images.to(device), labels.to(device) # Move input and label tensors to the GPU\n",
        "            \n",
        "            output = model.forward(images)\n",
        "            loss += criterion(output, labels).item()\n",
        "\n",
        "            ps = torch.exp(output) # get the class probabilities from log-softmax\n",
        "            equality = (labels.data == ps.max(dim=1)[1])\n",
        "            accuracy += equality.type(torch.FloatTensor).mean()\n",
        "            # del images, labels, output\n",
        "    \n",
        "    return loss, accuracy  \n",
        "\n",
        "\n",
        "total_step = len(train_loader)\n",
        "num_epochs = 20\n",
        "running_loss = 0.0\n",
        "train_accuracy = 0\n",
        "train_loss = []\n",
        "train_acc = [] \n",
        "val_loss = []\n",
        "val_accs = []\n",
        "\n",
        "for e in range(num_epochs):\n",
        "\n",
        "    model.train()\n",
        "    for images, labels in train_loader:\n",
        "        images, labels= images.to(device), labels.to(device)\n",
        "\n",
        "        optimizer.zero_grad()\n",
        "        output = model.forward(images)\n",
        "        loss = criterion(output, labels)\n",
        "        loss.backward()\n",
        "        optimizer.step()\n",
        "        running_loss += loss.item()\n",
        "\n",
        "        ps = torch.exp(output) \n",
        "        equality = (labels.data == ps.max(1)[1])\n",
        "        train_accuracy += equality.type(torch.FloatTensor).mean()\n",
        "        train_loss.append(running_loss)\n",
        "        train_acc.append(train_accuracy)\n",
        "        # del images, labels, output\n",
        "        # torch.cuda.empty_cache()\n",
        "\n",
        "    model.eval() \n",
        "\n",
        "    with torch.no_grad():\n",
        "        valid_loss, val_acc = validation(model, val_loader, criterion, device)\n",
        "        val_loss.append(valid_loss)\n",
        "        val_accs.append(val_acc)\n",
        "        \n",
        "\n",
        "        print(\"Epoch: {}/{}.. \".format(e+1, num_epochs),\n",
        "              \"Training Loss: {:.3f}.. \".format(running_loss),\n",
        "              \"Training Accuracy: {:.3f}\".format(train_accuracy/len(train_loader)),\n",
        "              \"Validation Loss: {:.3f}.. \".format(valid_loss/len(val_loader)),\n",
        "              \"Validation Accuracy: {:.3f}\".format(val_acc/len(val_loader)))\n",
        "\n",
        "        running_loss = 0.0\n",
        "        train_accuracy = 0\n",
        "        model.train() "
      ]
    },
    {
      "cell_type": "code",
      "execution_count": 9,
      "metadata": {
        "id": "_YSWvcEGSVor",
        "colab": {
          "base_uri": "https://localhost:8080/",
          "height": 1000
        },
        "outputId": "33e0731e-2592-4c71-b9ee-12f6481c987d"
      },
      "outputs": [
        {
          "output_type": "display_data",
          "data": {
            "text/plain": [
              "<Figure size 432x288 with 1 Axes>"
            ],
            "image/png": "[encoded data removed]"
          },
          "metadata": {}
        },
        {
          "output_type": "display_data",
          "data": {
            "text/plain": [
              "<Figure size 432x288 with 1 Axes>"
            ],
            "image/png": "[encoded data removed]"
          },
          "metadata": {}
        },
        {
          "output_type": "display_data",
          "data": {
            "text/plain": [
              "<Figure size 432x288 with 1 Axes>"
            ],
            "image/png": "[encoded data removed]"
          },
          "metadata": {}
        },
        {
          "output_type": "display_data",
          "data": {
            "text/plain": [
              "<Figure size 432x288 with 1 Axes>"
            ],
            "image/png": "[encoded data removed]"
          },
          "metadata": {}
        }
      ],
      "source": [
        "##############################################################\n",
        "##          Plot metrics graph for different epochs         ##\n",
        "##                        Your Code                         ##\n",
        "##############################################################\n",
        "plt.plot(train_loss)\n",
        "plt.show()\n",
        "plt.plot(train_acc)\n",
        "plt.show()\n",
        "plt.plot(val_loss)\n",
        "plt.show()\n",
        "plt.plot(val_accs)\n",
        "plt.show()"
      ]
    },
    {
      "cell_type": "markdown",
      "metadata": {
        "id": "LzhCrIFkSE1D"
      },
      "source": [
        "# Test Model (20 Points)"
      ]
    },
    {
      "cell_type": "code",
      "execution_count": 10,
      "metadata": {
        "id": "ihixveNISFwE",
        "colab": {
          "base_uri": "https://localhost:8080/",
          "height": 318
        },
        "outputId": "038b1b01-192c-47bd-fbef-3443a274c1d9"
      },
      "outputs": [
        {
          "output_type": "stream",
          "name": "stdout",
          "text": [
            "10000\n"
          ]
        },
        {
          "output_type": "execute_result",
          "data": {
            "text/plain": [
              "<sklearn.metrics._plot.confusion_matrix.ConfusionMatrixDisplay at 0x7f8310156520>"
            ]
          },
          "metadata": {},
          "execution_count": 10
        },
        {
          "output_type": "display_data",
          "data": {
            "text/plain": [
              "<Figure size 432x288 with 2 Axes>"
            ],
            "image/png": "[encoded data removed]"
          },
          "metadata": {}
        }
      ],
      "source": [
        "##################################################\n",
        "##          Test your model on test-set         ##\n",
        "##          and plot confusion matrix           ##\n",
        "##################################################\n",
        "test_data = datasets.MNIST(root='data/', download=True, transform=transformation, train=False)\n",
        "test_loader = DataLoader(test_data, batch_size=64, shuffle=False)\n",
        "print(len(test_data))\n",
        "\n",
        "y_true = []\n",
        "y_pred = []\n",
        "with torch.no_grad():\n",
        "    for images, labels in iter(test_loader):\n",
        "        images,labels = images.to(device), labels.to(device) # Move input and label tensors to the GPU\n",
        "        output = model.forward(images)\n",
        "        predicted = torch.max(torch.exp(output), 1)[1]\n",
        "        y_true.extend(labels.cpu().numpy())\n",
        "        y_pred.extend(predicted.cpu().numpy())\n",
        "\n",
        "from sklearn.metrics import confusion_matrix, ConfusionMatrixDisplay\n",
        "ConfusionMatrixDisplay(confusion_matrix(y_true, y_pred)).plot()"
      ]
    },
    {
      "cell_type": "code",
      "source": [],
      "metadata": {
        "id": "CsyzKxly9go1"
      },
      "execution_count": 10,
      "outputs": []
    }
  ],
  "metadata": {
    "colab": {
      "provenance": []
    },
    "kernelspec": {
      "display_name": "Python 3 (ipykernel)",
      "language": "python",
      "name": "python3"
    },
    "language_info": {
      "codemirror_mode": {
        "name": "ipython",
        "version": 3
      },
      "file_extension": ".py",
      "mimetype": "text/x-python",
      "name": "python",
      "nbconvert_exporter": "python",
      "pygments_lexer": "ipython3",
      "version": "3.8.5"
    },
    "varInspector": {
      "cols": {
        "lenName": 16,
        "lenType": 16,
        "lenVar": 40
      },
      "kernels_config": {
        "python": {
          "delete_cmd_postfix": "",
          "delete_cmd_prefix": "del ",
          "library": "var_list.py",
          "varRefreshCmd": "print(var_dic_list())"
        },
        "r": {
          "delete_cmd_postfix": ") ",
          "delete_cmd_prefix": "rm(",
          "library": "var_list.r",
          "varRefreshCmd": "cat(var_dic_list()) "
        }
      },
      "types_to_exclude": [
        "module",
        "function",
        "builtin_function_or_method",
        "instance",
        "_Feature"
      ],
      "window_display": false
    },
    "vscode": {
      "interpreter": {
        "hash": "bb93c294e1388593f3ce88f4c5e050b65c17fc54b955fa171f33a4b9b3d10054"
      }
    },
    "widgets": {
      "application/vnd.jupyter.widget-state+json": {
        "4e02ebf876d546f3ad46283791eac2d3": {
          "model_module": "@jupyter-widgets/controls",
          "model_name": "HBoxModel",
          "model_module_version": "1.5.0",
          "state": {
            "_dom_classes": [],
            "_model_module": "@jupyter-widgets/controls",
            "_model_module_version": "1.5.0",
            "_model_name": "HBoxModel",
            "_view_count": null,
            "_view_module": "@jupyter-widgets/controls",
            "_view_module_version": "1.5.0",
            "_view_name": "HBoxView",
            "box_style": "",
            "children": [
              "IPY_MODEL_8903a1992ecb4565b78c712ebe2cabc6",
              "IPY_MODEL_d86bfe774433470ab25c71b84e2ae7e7",
              "IPY_MODEL_b3a9c9aa21be4bad84e2a0a73c101373"
            ],
            "layout": "IPY_MODEL_58679810b4054772a75c249f64e061f9"
          }
        },
        "8903a1992ecb4565b78c712ebe2cabc6": {
          "model_module": "@jupyter-widgets/controls",
          "model_name": "HTMLModel",
          "model_module_version": "1.5.0",
          "state": {
            "_dom_classes": [],
            "_model_module": "@jupyter-widgets/controls",
            "_model_module_version": "1.5.0",
            "_model_name": "HTMLModel",
            "_view_count": null,
            "_view_module": "@jupyter-widgets/controls",
            "_view_module_version": "1.5.0",
            "_view_name": "HTMLView",
            "description": "",
            "description_tooltip": null,
            "layout": "IPY_MODEL_39df3080a4a542cfaf9c52f8938a9644",
            "placeholder": "​",
            "style": "IPY_MODEL_adbb893c6ff44b9f9a634d460f39b5b9",
            "value": "100%"
          }
        },
        "d86bfe774433470ab25c71b84e2ae7e7": {
          "model_module": "@jupyter-widgets/controls",
          "model_name": "FloatProgressModel",
          "model_module_version": "1.5.0",
          "state": {
            "_dom_classes": [],
            "_model_module": "@jupyter-widgets/controls",
            "_model_module_version": "1.5.0",
            "_model_name": "FloatProgressModel",
            "_view_count": null,
            "_view_module": "@jupyter-widgets/controls",
            "_view_module_version": "1.5.0",
            "_view_name": "ProgressView",
            "bar_style": "success",
            "description": "",
            "description_tooltip": null,
            "layout": "IPY_MODEL_d77990b97757495795173180aa3f1f49",
            "max": 9912422,
            "min": 0,
            "orientation": "horizontal",
            "style": "IPY_MODEL_e02c2cc0aafa4bb1b11ae875b6a89934",
            "value": 9912422
          }
        },
        "b3a9c9aa21be4bad84e2a0a73c101373": {
          "model_module": "@jupyter-widgets/controls",
          "model_name": "HTMLModel",
          "model_module_version": "1.5.0",
          "state": {
            "_dom_classes": [],
            "_model_module": "@jupyter-widgets/controls",
            "_model_module_version": "1.5.0",
            "_model_name": "HTMLModel",
            "_view_count": null,
            "_view_module": "@jupyter-widgets/controls",
            "_view_module_version": "1.5.0",
            "_view_name": "HTMLView",
            "description": "",
            "description_tooltip": null,
            "layout": "IPY_MODEL_5c260f1d293d4b02955c6dcaa131ea03",
            "placeholder": "​",
            "style": "IPY_MODEL_f01b8875159f4645b1dd3ed9a8e77b08",
            "value": " 9912422/9912422 [00:00&lt;00:00, 101529476.00it/s]"
          }
        },
        "58679810b4054772a75c249f64e061f9": {
          "model_module": "@jupyter-widgets/base",
          "model_name": "LayoutModel",
          "model_module_version": "1.2.0",
          "state": {
            "_model_module": "@jupyter-widgets/base",
            "_model_module_version": "1.2.0",
            "_model_name": "LayoutModel",
            "_view_count": null,
            "_view_module": "@jupyter-widgets/base",
            "_view_module_version": "1.2.0",
            "_view_name": "LayoutView",
            "align_content": null,
            "align_items": null,
            "align_self": null,
            "border": null,
            "bottom": null,
            "display": null,
            "flex": null,
            "flex_flow": null,
            "grid_area": null,
            "grid_auto_columns": null,
            "grid_auto_flow": null,
            "grid_auto_rows": null,
            "grid_column": null,
            "grid_gap": null,
            "grid_row": null,
            "grid_template_areas": null,
            "grid_template_columns": null,
            "grid_template_rows": null,
            "height": null,
            "justify_content": null,
            "justify_items": null,
            "left": null,
            "margin": null,
            "max_height": null,
            "max_width": null,
            "min_height": null,
            "min_width": null,
            "object_fit": null,
            "object_position": null,
            "order": null,
            "overflow": null,
            "overflow_x": null,
            "overflow_y": null,
            "padding": null,
            "right": null,
            "top": null,
            "visibility": null,
            "width": null
          }
        },
        "39df3080a4a542cfaf9c52f8938a9644": {
          "model_module": "@jupyter-widgets/base",
          "model_name": "LayoutModel",
          "model_module_version": "1.2.0",
          "state": {
            "_model_module": "@jupyter-widgets/base",
            "_model_module_version": "1.2.0",
            "_model_name": "LayoutModel",
            "_view_count": null,
            "_view_module": "@jupyter-widgets/base",
            "_view_module_version": "1.2.0",
            "_view_name": "LayoutView",
            "align_content": null,
            "align_items": null,
            "align_self": null,
            "border": null,
            "bottom": null,
            "display": null,
            "flex": null,
            "flex_flow": null,
            "grid_area": null,
            "grid_auto_columns": null,
            "grid_auto_flow": null,
            "grid_auto_rows": null,
            "grid_column": null,
            "grid_gap": null,
            "grid_row": null,
            "grid_template_areas": null,
            "grid_template_columns": null,
            "grid_template_rows": null,
            "height": null,
            "justify_content": null,
            "justify_items": null,
            "left": null,
            "margin": null,
            "max_height": null,
            "max_width": null,
            "min_height": null,
            "min_width": null,
            "object_fit": null,
            "object_position": null,
            "order": null,
            "overflow": null,
            "overflow_x": null,
            "overflow_y": null,
            "padding": null,
            "right": null,
            "top": null,
            "visibility": null,
            "width": null
          }
        },
        "adbb893c6ff44b9f9a634d460f39b5b9": {
          "model_module": "@jupyter-widgets/controls",
          "model_name": "DescriptionStyleModel",
          "model_module_version": "1.5.0",
          "state": {
            "_model_module": "@jupyter-widgets/controls",
            "_model_module_version": "1.5.0",
            "_model_name": "DescriptionStyleModel",
            "_view_count": null,
            "_view_module": "@jupyter-widgets/base",
            "_view_module_version": "1.2.0",
            "_view_name": "StyleView",
            "description_width": ""
          }
        },
        "d77990b97757495795173180aa3f1f49": {
          "model_module": "@jupyter-widgets/base",
          "model_name": "LayoutModel",
          "model_module_version": "1.2.0",
          "state": {
            "_model_module": "@jupyter-widgets/base",
            "_model_module_version": "1.2.0",
            "_model_name": "LayoutModel",
            "_view_count": null,
            "_view_module": "@jupyter-widgets/base",
            "_view_module_version": "1.2.0",
            "_view_name": "LayoutView",
            "align_content": null,
            "align_items": null,
            "align_self": null,
            "border": null,
            "bottom": null,
            "display": null,
            "flex": null,
            "flex_flow": null,
            "grid_area": null,
            "grid_auto_columns": null,
            "grid_auto_flow": null,
            "grid_auto_rows": null,
            "grid_column": null,
            "grid_gap": null,
            "grid_row": null,
            "grid_template_areas": null,
            "grid_template_columns": null,
            "grid_template_rows": null,
            "height": null,
            "justify_content": null,
            "justify_items": null,
            "left": null,
            "margin": null,
            "max_height": null,
            "max_width": null,
            "min_height": null,
            "min_width": null,
            "object_fit": null,
            "object_position": null,
            "order": null,
            "overflow": null,
            "overflow_x": null,
            "overflow_y": null,
            "padding": null,
            "right": null,
            "top": null,
            "visibility": null,
            "width": null
          }
        },
        "e02c2cc0aafa4bb1b11ae875b6a89934": {
          "model_module": "@jupyter-widgets/controls",
          "model_name": "ProgressStyleModel",
          "model_module_version": "1.5.0",
          "state": {
            "_model_module": "@jupyter-widgets/controls",
            "_model_module_version": "1.5.0",
            "_model_name": "ProgressStyleModel",
            "_view_count": null,
            "_view_module": "@jupyter-widgets/base",
            "_view_module_version": "1.2.0",
            "_view_name": "StyleView",
            "bar_color": null,
            "description_width": ""
          }
        },
        "5c260f1d293d4b02955c6dcaa131ea03": {
          "model_module": "@jupyter-widgets/base",
          "model_name": "LayoutModel",
          "model_module_version": "1.2.0",
          "state": {
            "_model_module": "@jupyter-widgets/base",
            "_model_module_version": "1.2.0",
            "_model_name": "LayoutModel",
            "_view_count": null,
            "_view_module": "@jupyter-widgets/base",
            "_view_module_version": "1.2.0",
            "_view_name": "LayoutView",
            "align_content": null,
            "align_items": null,
            "align_self": null,
            "border": null,
            "bottom": null,
            "display": null,
            "flex": null,
            "flex_flow": null,
            "grid_area": null,
            "grid_auto_columns": null,
            "grid_auto_flow": null,
            "grid_auto_rows": null,
            "grid_column": null,
            "grid_gap": null,
            "grid_row": null,
            "grid_template_areas": null,
            "grid_template_columns": null,
            "grid_template_rows": null,
            "height": null,
            "justify_content": null,
            "justify_items": null,
            "left": null,
            "margin": null,
            "max_height": null,
            "max_width": null,
            "min_height": null,
            "min_width": null,
            "object_fit": null,
            "object_position": null,
            "order": null,
            "overflow": null,
            "overflow_x": null,
            "overflow_y": null,
            "padding": null,
            "right": null,
            "top": null,
            "visibility": null,
            "width": null
          }
        },
        "f01b8875159f4645b1dd3ed9a8e77b08": {
          "model_module": "@jupyter-widgets/controls",
          "model_name": "DescriptionStyleModel",
          "model_module_version": "1.5.0",
          "state": {
            "_model_module": "@jupyter-widgets/controls",
            "_model_module_version": "1.5.0",
            "_model_name": "DescriptionStyleModel",
            "_view_count": null,
            "_view_module": "@jupyter-widgets/base",
            "_view_module_version": "1.2.0",
            "_view_name": "StyleView",
            "description_width": ""
          }
        },
        "bbc455037d2f4c6c89b107d09a2a4bdb": {
          "model_module": "@jupyter-widgets/controls",
          "model_name": "HBoxModel",
          "model_module_version": "1.5.0",
          "state": {
            "_dom_classes": [],
            "_model_module": "@jupyter-widgets/controls",
            "_model_module_version": "1.5.0",
            "_model_name": "HBoxModel",
            "_view_count": null,
            "_view_module": "@jupyter-widgets/controls",
            "_view_module_version": "1.5.0",
            "_view_name": "HBoxView",
            "box_style": "",
            "children": [
              "IPY_MODEL_c1c15ee88cb94dd3a7c5fb7802ab0700",
              "IPY_MODEL_9f29a62e05f4412596927421e2fe9d1e",
              "IPY_MODEL_a68469007d0b4e05a31c0695d1c82516"
            ],
            "layout": "IPY_MODEL_a6760e83f01e411d975d6ade3dccd010"
          }
        },
        "c1c15ee88cb94dd3a7c5fb7802ab0700": {
          "model_module": "@jupyter-widgets/controls",
          "model_name": "HTMLModel",
          "model_module_version": "1.5.0",
          "state": {
            "_dom_classes": [],
            "_model_module": "@jupyter-widgets/controls",
            "_model_module_version": "1.5.0",
            "_model_name": "HTMLModel",
            "_view_count": null,
            "_view_module": "@jupyter-widgets/controls",
            "_view_module_version": "1.5.0",
            "_view_name": "HTMLView",
            "description": "",
            "description_tooltip": null,
            "layout": "IPY_MODEL_8bce99d8908f49109eb9a6c12fc327ff",
            "placeholder": "​",
            "style": "IPY_MODEL_3b23a9733aff4a41861c7471b77103b1",
            "value": "100%"
          }
        },
        "9f29a62e05f4412596927421e2fe9d1e": {
          "model_module": "@jupyter-widgets/controls",
          "model_name": "FloatProgressModel",
          "model_module_version": "1.5.0",
          "state": {
            "_dom_classes": [],
            "_model_module": "@jupyter-widgets/controls",
            "_model_module_version": "1.5.0",
            "_model_name": "FloatProgressModel",
            "_view_count": null,
            "_view_module": "@jupyter-widgets/controls",
            "_view_module_version": "1.5.0",
            "_view_name": "ProgressView",
            "bar_style": "success",
            "description": "",
            "description_tooltip": null,
            "layout": "IPY_MODEL_60386d9881aa4b60ab840ddbd3614c22",
            "max": 28881,
            "min": 0,
            "orientation": "horizontal",
            "style": "IPY_MODEL_8ed62ca6d5b647a4a1f9f73f40d64ef1",
            "value": 28881
          }
        },
        "a68469007d0b4e05a31c0695d1c82516": {
          "model_module": "@jupyter-widgets/controls",
          "model_name": "HTMLModel",
          "model_module_version": "1.5.0",
          "state": {
            "_dom_classes": [],
            "_model_module": "@jupyter-widgets/controls",
            "_model_module_version": "1.5.0",
            "_model_name": "HTMLModel",
            "_view_count": null,
            "_view_module": "@jupyter-widgets/controls",
            "_view_module_version": "1.5.0",
            "_view_name": "HTMLView",
            "description": "",
            "description_tooltip": null,
            "layout": "IPY_MODEL_53382601ccd04d51ace8ad972f759b0b",
            "placeholder": "​",
            "style": "IPY_MODEL_dec618b003994a7db1c9c4934235d67e",
            "value": " 28881/28881 [00:00&lt;00:00, 1099494.38it/s]"
          }
        },
        "a6760e83f01e411d975d6ade3dccd010": {
          "model_module": "@jupyter-widgets/base",
          "model_name": "LayoutModel",
          "model_module_version": "1.2.0",
          "state": {
            "_model_module": "@jupyter-widgets/base",
            "_model_module_version": "1.2.0",
            "_model_name": "LayoutModel",
            "_view_count": null,
            "_view_module": "@jupyter-widgets/base",
            "_view_module_version": "1.2.0",
            "_view_name": "LayoutView",
            "align_content": null,
            "align_items": null,
            "align_self": null,
            "border": null,
            "bottom": null,
            "display": null,
            "flex": null,
            "flex_flow": null,
            "grid_area": null,
            "grid_auto_columns": null,
            "grid_auto_flow": null,
            "grid_auto_rows": null,
            "grid_column": null,
            "grid_gap": null,
            "grid_row": null,
            "grid_template_areas": null,
            "grid_template_columns": null,
            "grid_template_rows": null,
            "height": null,
            "justify_content": null,
            "justify_items": null,
            "left": null,
            "margin": null,
            "max_height": null,
            "max_width": null,
            "min_height": null,
            "min_width": null,
            "object_fit": null,
            "object_position": null,
            "order": null,
            "overflow": null,
            "overflow_x": null,
            "overflow_y": null,
            "padding": null,
            "right": null,
            "top": null,
            "visibility": null,
            "width": null
          }
        },
        "8bce99d8908f49109eb9a6c12fc327ff": {
          "model_module": "@jupyter-widgets/base",
          "model_name": "LayoutModel",
          "model_module_version": "1.2.0",
          "state": {
            "_model_module": "@jupyter-widgets/base",
            "_model_module_version": "1.2.0",
            "_model_name": "LayoutModel",
            "_view_count": null,
            "_view_module": "@jupyter-widgets/base",
            "_view_module_version": "1.2.0",
            "_view_name": "LayoutView",
            "align_content": null,
            "align_items": null,
            "align_self": null,
            "border": null,
            "bottom": null,
            "display": null,
            "flex": null,
            "flex_flow": null,
            "grid_area": null,
            "grid_auto_columns": null,
            "grid_auto_flow": null,
            "grid_auto_rows": null,
            "grid_column": null,
            "grid_gap": null,
            "grid_row": null,
            "grid_template_areas": null,
            "grid_template_columns": null,
            "grid_template_rows": null,
            "height": null,
            "justify_content": null,
            "justify_items": null,
            "left": null,
            "margin": null,
            "max_height": null,
            "max_width": null,
            "min_height": null,
            "min_width": null,
            "object_fit": null,
            "object_position": null,
            "order": null,
            "overflow": null,
            "overflow_x": null,
            "overflow_y": null,
            "padding": null,
            "right": null,
            "top": null,
            "visibility": null,
            "width": null
          }
        },
        "3b23a9733aff4a41861c7471b77103b1": {
          "model_module": "@jupyter-widgets/controls",
          "model_name": "DescriptionStyleModel",
          "model_module_version": "1.5.0",
          "state": {
            "_model_module": "@jupyter-widgets/controls",
            "_model_module_version": "1.5.0",
            "_model_name": "DescriptionStyleModel",
            "_view_count": null,
            "_view_module": "@jupyter-widgets/base",
            "_view_module_version": "1.2.0",
            "_view_name": "StyleView",
            "description_width": ""
          }
        },
        "60386d9881aa4b60ab840ddbd3614c22": {
          "model_module": "@jupyter-widgets/base",
          "model_name": "LayoutModel",
          "model_module_version": "1.2.0",
          "state": {
            "_model_module": "@jupyter-widgets/base",
            "_model_module_version": "1.2.0",
            "_model_name": "LayoutModel",
            "_view_count": null,
            "_view_module": "@jupyter-widgets/base",
            "_view_module_version": "1.2.0",
            "_view_name": "LayoutView",
            "align_content": null,
            "align_items": null,
            "align_self": null,
            "border": null,
            "bottom": null,
            "display": null,
            "flex": null,
            "flex_flow": null,
            "grid_area": null,
            "grid_auto_columns": null,
            "grid_auto_flow": null,
            "grid_auto_rows": null,
            "grid_column": null,
            "grid_gap": null,
            "grid_row": null,
            "grid_template_areas": null,
            "grid_template_columns": null,
            "grid_template_rows": null,
            "height": null,
            "justify_content": null,
            "justify_items": null,
            "left": null,
            "margin": null,
            "max_height": null,
            "max_width": null,
            "min_height": null,
            "min_width": null,
            "object_fit": null,
            "object_position": null,
            "order": null,
            "overflow": null,
            "overflow_x": null,
            "overflow_y": null,
            "padding": null,
            "right": null,
            "top": null,
            "visibility": null,
            "width": null
          }
        },
        "8ed62ca6d5b647a4a1f9f73f40d64ef1": {
          "model_module": "@jupyter-widgets/controls",
          "model_name": "ProgressStyleModel",
          "model_module_version": "1.5.0",
          "state": {
            "_model_module": "@jupyter-widgets/controls",
            "_model_module_version": "1.5.0",
            "_model_name": "ProgressStyleModel",
            "_view_count": null,
            "_view_module": "@jupyter-widgets/base",
            "_view_module_version": "1.2.0",
            "_view_name": "StyleView",
            "bar_color": null,
            "description_width": ""
          }
        },
        "53382601ccd04d51ace8ad972f759b0b": {
          "model_module": "@jupyter-widgets/base",
          "model_name": "LayoutModel",
          "model_module_version": "1.2.0",
          "state": {
            "_model_module": "@jupyter-widgets/base",
            "_model_module_version": "1.2.0",
            "_model_name": "LayoutModel",
            "_view_count": null,
            "_view_module": "@jupyter-widgets/base",
            "_view_module_version": "1.2.0",
            "_view_name": "LayoutView",
            "align_content": null,
            "align_items": null,
            "align_self": null,
            "border": null,
            "bottom": null,
            "display": null,
            "flex": null,
            "flex_flow": null,
            "grid_area": null,
            "grid_auto_columns": null,
            "grid_auto_flow": null,
            "grid_auto_rows": null,
            "grid_column": null,
            "grid_gap": null,
            "grid_row": null,
            "grid_template_areas": null,
            "grid_template_columns": null,
            "grid_template_rows": null,
            "height": null,
            "justify_content": null,
            "justify_items": null,
            "left": null,
            "margin": null,
            "max_height": null,
            "max_width": null,
            "min_height": null,
            "min_width": null,
            "object_fit": null,
            "object_position": null,
            "order": null,
            "overflow": null,
            "overflow_x": null,
            "overflow_y": null,
            "padding": null,
            "right": null,
            "top": null,
            "visibility": null,
            "width": null
          }
        },
        "dec618b003994a7db1c9c4934235d67e": {
          "model_module": "@jupyter-widgets/controls",
          "model_name": "DescriptionStyleModel",
          "model_module_version": "1.5.0",
          "state": {
            "_model_module": "@jupyter-widgets/controls",
            "_model_module_version": "1.5.0",
            "_model_name": "DescriptionStyleModel",
            "_view_count": null,
            "_view_module": "@jupyter-widgets/base",
            "_view_module_version": "1.2.0",
            "_view_name": "StyleView",
            "description_width": ""
          }
        },
        "0d959ba9c3cc4999a6f42c6305bf13c2": {
          "model_module": "@jupyter-widgets/controls",
          "model_name": "HBoxModel",
          "model_module_version": "1.5.0",
          "state": {
            "_dom_classes": [],
            "_model_module": "@jupyter-widgets/controls",
            "_model_module_version": "1.5.0",
            "_model_name": "HBoxModel",
            "_view_count": null,
            "_view_module": "@jupyter-widgets/controls",
            "_view_module_version": "1.5.0",
            "_view_name": "HBoxView",
            "box_style": "",
            "children": [
              "IPY_MODEL_c35d235715d848b28e992914cfd6a13f",
              "IPY_MODEL_c4363a40c21b456cb8dac063897b0020",
              "IPY_MODEL_ce6ab220a1104f2e86d21dbfd511fa49"
            ],
            "layout": "IPY_MODEL_a26f2a2a4d954b6d875ebdd3b2858e35"
          }
        },
        "c35d235715d848b28e992914cfd6a13f": {
          "model_module": "@jupyter-widgets/controls",
          "model_name": "HTMLModel",
          "model_module_version": "1.5.0",
          "state": {
            "_dom_classes": [],
            "_model_module": "@jupyter-widgets/controls",
            "_model_module_version": "1.5.0",
            "_model_name": "HTMLModel",
            "_view_count": null,
            "_view_module": "@jupyter-widgets/controls",
            "_view_module_version": "1.5.0",
            "_view_name": "HTMLView",
            "description": "",
            "description_tooltip": null,
            "layout": "IPY_MODEL_3cc66c6b6d8b4e74af46f801d435f0d5",
            "placeholder": "​",
            "style": "IPY_MODEL_f81344ab4ab64ea4b11b1167a4fb045b",
            "value": "100%"
          }
        },
        "c4363a40c21b456cb8dac063897b0020": {
          "model_module": "@jupyter-widgets/controls",
          "model_name": "FloatProgressModel",
          "model_module_version": "1.5.0",
          "state": {
            "_dom_classes": [],
            "_model_module": "@jupyter-widgets/controls",
            "_model_module_version": "1.5.0",
            "_model_name": "FloatProgressModel",
            "_view_count": null,
            "_view_module": "@jupyter-widgets/controls",
            "_view_module_version": "1.5.0",
            "_view_name": "ProgressView",
            "bar_style": "success",
            "description": "",
            "description_tooltip": null,
            "layout": "IPY_MODEL_3707eaf6c1bf4c3abdb1ab6e6eafeb27",
            "max": 1648877,
            "min": 0,
            "orientation": "horizontal",
            "style": "IPY_MODEL_62d74eb2925d466db3c1095c43fe1bcf",
            "value": 1648877
          }
        },
        "ce6ab220a1104f2e86d21dbfd511fa49": {
          "model_module": "@jupyter-widgets/controls",
          "model_name": "HTMLModel",
          "model_module_version": "1.5.0",
          "state": {
            "_dom_classes": [],
            "_model_module": "@jupyter-widgets/controls",
            "_model_module_version": "1.5.0",
            "_model_name": "HTMLModel",
            "_view_count": null,
            "_view_module": "@jupyter-widgets/controls",
            "_view_module_version": "1.5.0",
            "_view_name": "HTMLView",
            "description": "",
            "description_tooltip": null,
            "layout": "IPY_MODEL_31bccff9ff5947af9aa2636a220025be",
            "placeholder": "​",
            "style": "IPY_MODEL_5523b43a7129450297d7945fbe384a5a",
            "value": " 1648877/1648877 [00:00&lt;00:00, 16582922.86it/s]"
          }
        },
        "a26f2a2a4d954b6d875ebdd3b2858e35": {
          "model_module": "@jupyter-widgets/base",
          "model_name": "LayoutModel",
          "model_module_version": "1.2.0",
          "state": {
            "_model_module": "@jupyter-widgets/base",
            "_model_module_version": "1.2.0",
            "_model_name": "LayoutModel",
            "_view_count": null,
            "_view_module": "@jupyter-widgets/base",
            "_view_module_version": "1.2.0",
            "_view_name": "LayoutView",
            "align_content": null,
            "align_items": null,
            "align_self": null,
            "border": null,
            "bottom": null,
            "display": null,
            "flex": null,
            "flex_flow": null,
            "grid_area": null,
            "grid_auto_columns": null,
            "grid_auto_flow": null,
            "grid_auto_rows": null,
            "grid_column": null,
            "grid_gap": null,
            "grid_row": null,
            "grid_template_areas": null,
            "grid_template_columns": null,
            "grid_template_rows": null,
            "height": null,
            "justify_content": null,
            "justify_items": null,
            "left": null,
            "margin": null,
            "max_height": null,
            "max_width": null,
            "min_height": null,
            "min_width": null,
            "object_fit": null,
            "object_position": null,
            "order": null,
            "overflow": null,
            "overflow_x": null,
            "overflow_y": null,
            "padding": null,
            "right": null,
            "top": null,
            "visibility": null,
            "width": null
          }
        },
        "3cc66c6b6d8b4e74af46f801d435f0d5": {
          "model_module": "@jupyter-widgets/base",
          "model_name": "LayoutModel",
          "model_module_version": "1.2.0",
          "state": {
            "_model_module": "@jupyter-widgets/base",
            "_model_module_version": "1.2.0",
            "_model_name": "LayoutModel",
            "_view_count": null,
            "_view_module": "@jupyter-widgets/base",
            "_view_module_version": "1.2.0",
            "_view_name": "LayoutView",
            "align_content": null,
            "align_items": null,
            "align_self": null,
            "border": null,
            "bottom": null,
            "display": null,
            "flex": null,
            "flex_flow": null,
            "grid_area": null,
            "grid_auto_columns": null,
            "grid_auto_flow": null,
            "grid_auto_rows": null,
            "grid_column": null,
            "grid_gap": null,
            "grid_row": null,
            "grid_template_areas": null,
            "grid_template_columns": null,
            "grid_template_rows": null,
            "height": null,
            "justify_content": null,
            "justify_items": null,
            "left": null,
            "margin": null,
            "max_height": null,
            "max_width": null,
            "min_height": null,
            "min_width": null,
            "object_fit": null,
            "object_position": null,
            "order": null,
            "overflow": null,
            "overflow_x": null,
            "overflow_y": null,
            "padding": null,
            "right": null,
            "top": null,
            "visibility": null,
            "width": null
          }
        },
        "f81344ab4ab64ea4b11b1167a4fb045b": {
          "model_module": "@jupyter-widgets/controls",
          "model_name": "DescriptionStyleModel",
          "model_module_version": "1.5.0",
          "state": {
            "_model_module": "@jupyter-widgets/controls",
            "_model_module_version": "1.5.0",
            "_model_name": "DescriptionStyleModel",
            "_view_count": null,
            "_view_module": "@jupyter-widgets/base",
            "_view_module_version": "1.2.0",
            "_view_name": "StyleView",
            "description_width": ""
          }
        },
        "3707eaf6c1bf4c3abdb1ab6e6eafeb27": {
          "model_module": "@jupyter-widgets/base",
          "model_name": "LayoutModel",
          "model_module_version": "1.2.0",
          "state": {
            "_model_module": "@jupyter-widgets/base",
            "_model_module_version": "1.2.0",
            "_model_name": "LayoutModel",
            "_view_count": null,
            "_view_module": "@jupyter-widgets/base",
            "_view_module_version": "1.2.0",
            "_view_name": "LayoutView",
            "align_content": null,
            "align_items": null,
            "align_self": null,
            "border": null,
            "bottom": null,
            "display": null,
            "flex": null,
            "flex_flow": null,
            "grid_area": null,
            "grid_auto_columns": null,
            "grid_auto_flow": null,
            "grid_auto_rows": null,
            "grid_column": null,
            "grid_gap": null,
            "grid_row": null,
            "grid_template_areas": null,
            "grid_template_columns": null,
            "grid_template_rows": null,
            "height": null,
            "justify_content": null,
            "justify_items": null,
            "left": null,
            "margin": null,
            "max_height": null,
            "max_width": null,
            "min_height": null,
            "min_width": null,
            "object_fit": null,
            "object_position": null,
            "order": null,
            "overflow": null,
            "overflow_x": null,
            "overflow_y": null,
            "padding": null,
            "right": null,
            "top": null,
            "visibility": null,
            "width": null
          }
        },
        "62d74eb2925d466db3c1095c43fe1bcf": {
          "model_module": "@jupyter-widgets/controls",
          "model_name": "ProgressStyleModel",
          "model_module_version": "1.5.0",
          "state": {
            "_model_module": "@jupyter-widgets/controls",
            "_model_module_version": "1.5.0",
            "_model_name": "ProgressStyleModel",
            "_view_count": null,
            "_view_module": "@jupyter-widgets/base",
            "_view_module_version": "1.2.0",
            "_view_name": "StyleView",
            "bar_color": null,
            "description_width": ""
          }
        },
        "31bccff9ff5947af9aa2636a220025be": {
          "model_module": "@jupyter-widgets/base",
          "model_name": "LayoutModel",
          "model_module_version": "1.2.0",
          "state": {
            "_model_module": "@jupyter-widgets/base",
            "_model_module_version": "1.2.0",
            "_model_name": "LayoutModel",
            "_view_count": null,
            "_view_module": "@jupyter-widgets/base",
            "_view_module_version": "1.2.0",
            "_view_name": "LayoutView",
            "align_content": null,
            "align_items": null,
            "align_self": null,
            "border": null,
            "bottom": null,
            "display": null,
            "flex": null,
            "flex_flow": null,
            "grid_area": null,
            "grid_auto_columns": null,
            "grid_auto_flow": null,
            "grid_auto_rows": null,
            "grid_column": null,
            "grid_gap": null,
            "grid_row": null,
            "grid_template_areas": null,
            "grid_template_columns": null,
            "grid_template_rows": null,
            "height": null,
            "justify_content": null,
            "justify_items": null,
            "left": null,
            "margin": null,
            "max_height": null,
            "max_width": null,
            "min_height": null,
            "min_width": null,
            "object_fit": null,
            "object_position": null,
            "order": null,
            "overflow": null,
            "overflow_x": null,
            "overflow_y": null,
            "padding": null,
            "right": null,
            "top": null,
            "visibility": null,
            "width": null
          }
        },
        "5523b43a7129450297d7945fbe384a5a": {
          "model_module": "@jupyter-widgets/controls",
          "model_name": "DescriptionStyleModel",
          "model_module_version": "1.5.0",
          "state": {
            "_model_module": "@jupyter-widgets/controls",
            "_model_module_version": "1.5.0",
            "_model_name": "DescriptionStyleModel",
            "_view_count": null,
            "_view_module": "@jupyter-widgets/base",
            "_view_module_version": "1.2.0",
            "_view_name": "StyleView",
            "description_width": ""
          }
        },
        "9c90b5cd12f44e308599428a8d635499": {
          "model_module": "@jupyter-widgets/controls",
          "model_name": "HBoxModel",
          "model_module_version": "1.5.0",
          "state": {
            "_dom_classes": [],
            "_model_module": "@jupyter-widgets/controls",
            "_model_module_version": "1.5.0",
            "_model_name": "HBoxModel",
            "_view_count": null,
            "_view_module": "@jupyter-widgets/controls",
            "_view_module_version": "1.5.0",
            "_view_name": "HBoxView",
            "box_style": "",
            "children": [
              "IPY_MODEL_c6d589abe7704400ba0f479117a56037",
              "IPY_MODEL_313751bd593f4a03a99a9deb83d30a01",
              "IPY_MODEL_151611f1a1a94659989f5870707bdee9"
            ],
            "layout": "IPY_MODEL_d296c9343e704f46a72fc64828fe50c6"
          }
        },
        "c6d589abe7704400ba0f479117a56037": {
          "model_module": "@jupyter-widgets/controls",
          "model_name": "HTMLModel",
          "model_module_version": "1.5.0",
          "state": {
            "_dom_classes": [],
            "_model_module": "@jupyter-widgets/controls",
            "_model_module_version": "1.5.0",
            "_model_name": "HTMLModel",
            "_view_count": null,
            "_view_module": "@jupyter-widgets/controls",
            "_view_module_version": "1.5.0",
            "_view_name": "HTMLView",
            "description": "",
            "description_tooltip": null,
            "layout": "IPY_MODEL_ddc2fe9890b844ab9779882d3f917fd5",
            "placeholder": "​",
            "style": "IPY_MODEL_1db80dc8db9b43458636ff6f02e9a50e",
            "value": "100%"
          }
        },
        "313751bd593f4a03a99a9deb83d30a01": {
          "model_module": "@jupyter-widgets/controls",
          "model_name": "FloatProgressModel",
          "model_module_version": "1.5.0",
          "state": {
            "_dom_classes": [],
            "_model_module": "@jupyter-widgets/controls",
            "_model_module_version": "1.5.0",
            "_model_name": "FloatProgressModel",
            "_view_count": null,
            "_view_module": "@jupyter-widgets/controls",
            "_view_module_version": "1.5.0",
            "_view_name": "ProgressView",
            "bar_style": "success",
            "description": "",
            "description_tooltip": null,
            "layout": "IPY_MODEL_0580f9f9451142b7848ae1af0376e553",
            "max": 4542,
            "min": 0,
            "orientation": "horizontal",
            "style": "IPY_MODEL_5fbe62ae82c34ea58c01b8aad6615bbc",
            "value": 4542
          }
        },
        "151611f1a1a94659989f5870707bdee9": {
          "model_module": "@jupyter-widgets/controls",
          "model_name": "HTMLModel",
          "model_module_version": "1.5.0",
          "state": {
            "_dom_classes": [],
            "_model_module": "@jupyter-widgets/controls",
            "_model_module_version": "1.5.0",
            "_model_name": "HTMLModel",
            "_view_count": null,
            "_view_module": "@jupyter-widgets/controls",
            "_view_module_version": "1.5.0",
            "_view_name": "HTMLView",
            "description": "",
            "description_tooltip": null,
            "layout": "IPY_MODEL_ce484dd939514903bf590f7e5f9a1acd",
            "placeholder": "​",
            "style": "IPY_MODEL_6c6d65d508e44e2092e528ddd0dcbc17",
            "value": " 4542/4542 [00:00&lt;00:00, 241454.63it/s]"
          }
        },
        "d296c9343e704f46a72fc64828fe50c6": {
          "model_module": "@jupyter-widgets/base",
          "model_name": "LayoutModel",
          "model_module_version": "1.2.0",
          "state": {
            "_model_module": "@jupyter-widgets/base",
            "_model_module_version": "1.2.0",
            "_model_name": "LayoutModel",
            "_view_count": null,
            "_view_module": "@jupyter-widgets/base",
            "_view_module_version": "1.2.0",
            "_view_name": "LayoutView",
            "align_content": null,
            "align_items": null,
            "align_self": null,
            "border": null,
            "bottom": null,
            "display": null,
            "flex": null,
            "flex_flow": null,
            "grid_area": null,
            "grid_auto_columns": null,
            "grid_auto_flow": null,
            "grid_auto_rows": null,
            "grid_column": null,
            "grid_gap": null,
            "grid_row": null,
            "grid_template_areas": null,
            "grid_template_columns": null,
            "grid_template_rows": null,
            "height": null,
            "justify_content": null,
            "justify_items": null,
            "left": null,
            "margin": null,
            "max_height": null,
            "max_width": null,
            "min_height": null,
            "min_width": null,
            "object_fit": null,
            "object_position": null,
            "order": null,
            "overflow": null,
            "overflow_x": null,
            "overflow_y": null,
            "padding": null,
            "right": null,
            "top": null,
            "visibility": null,
            "width": null
          }
        },
        "ddc2fe9890b844ab9779882d3f917fd5": {
          "model_module": "@jupyter-widgets/base",
          "model_name": "LayoutModel",
          "model_module_version": "1.2.0",
          "state": {
            "_model_module": "@jupyter-widgets/base",
            "_model_module_version": "1.2.0",
            "_model_name": "LayoutModel",
            "_view_count": null,
            "_view_module": "@jupyter-widgets/base",
            "_view_module_version": "1.2.0",
            "_view_name": "LayoutView",
            "align_content": null,
            "align_items": null,
            "align_self": null,
            "border": null,
            "bottom": null,
            "display": null,
            "flex": null,
            "flex_flow": null,
            "grid_area": null,
            "grid_auto_columns": null,
            "grid_auto_flow": null,
            "grid_auto_rows": null,
            "grid_column": null,
            "grid_gap": null,
            "grid_row": null,
            "grid_template_areas": null,
            "grid_template_columns": null,
            "grid_template_rows": null,
            "height": null,
            "justify_content": null,
            "justify_items": null,
            "left": null,
            "margin": null,
            "max_height": null,
            "max_width": null,
            "min_height": null,
            "min_width": null,
            "object_fit": null,
            "object_position": null,
            "order": null,
            "overflow": null,
            "overflow_x": null,
            "overflow_y": null,
            "padding": null,
            "right": null,
            "top": null,
            "visibility": null,
            "width": null
          }
        },
        "1db80dc8db9b43458636ff6f02e9a50e": {
          "model_module": "@jupyter-widgets/controls",
          "model_name": "DescriptionStyleModel",
          "model_module_version": "1.5.0",
          "state": {
            "_model_module": "@jupyter-widgets/controls",
            "_model_module_version": "1.5.0",
            "_model_name": "DescriptionStyleModel",
            "_view_count": null,
            "_view_module": "@jupyter-widgets/base",
            "_view_module_version": "1.2.0",
            "_view_name": "StyleView",
            "description_width": ""
          }
        },
        "0580f9f9451142b7848ae1af0376e553": {
          "model_module": "@jupyter-widgets/base",
          "model_name": "LayoutModel",
          "model_module_version": "1.2.0",
          "state": {
            "_model_module": "@jupyter-widgets/base",
            "_model_module_version": "1.2.0",
            "_model_name": "LayoutModel",
            "_view_count": null,
            "_view_module": "@jupyter-widgets/base",
            "_view_module_version": "1.2.0",
            "_view_name": "LayoutView",
            "align_content": null,
            "align_items": null,
            "align_self": null,
            "border": null,
            "bottom": null,
            "display": null,
            "flex": null,
            "flex_flow": null,
            "grid_area": null,
            "grid_auto_columns": null,
            "grid_auto_flow": null,
            "grid_auto_rows": null,
            "grid_column": null,
            "grid_gap": null,
            "grid_row": null,
            "grid_template_areas": null,
            "grid_template_columns": null,
            "grid_template_rows": null,
            "height": null,
            "justify_content": null,
            "justify_items": null,
            "left": null,
            "margin": null,
            "max_height": null,
            "max_width": null,
            "min_height": null,
            "min_width": null,
            "object_fit": null,
            "object_position": null,
            "order": null,
            "overflow": null,
            "overflow_x": null,
            "overflow_y": null,
            "padding": null,
            "right": null,
            "top": null,
            "visibility": null,
            "width": null
          }
        },
        "5fbe62ae82c34ea58c01b8aad6615bbc": {
          "model_module": "@jupyter-widgets/controls",
          "model_name": "ProgressStyleModel",
          "model_module_version": "1.5.0",
          "state": {
            "_model_module": "@jupyter-widgets/controls",
            "_model_module_version": "1.5.0",
            "_model_name": "ProgressStyleModel",
            "_view_count": null,
            "_view_module": "@jupyter-widgets/base",
            "_view_module_version": "1.2.0",
            "_view_name": "StyleView",
            "bar_color": null,
            "description_width": ""
          }
        },
        "ce484dd939514903bf590f7e5f9a1acd": {
          "model_module": "@jupyter-widgets/base",
          "model_name": "LayoutModel",
          "model_module_version": "1.2.0",
          "state": {
            "_model_module": "@jupyter-widgets/base",
            "_model_module_version": "1.2.0",
            "_model_name": "LayoutModel",
            "_view_count": null,
            "_view_module": "@jupyter-widgets/base",
            "_view_module_version": "1.2.0",
            "_view_name": "LayoutView",
            "align_content": null,
            "align_items": null,
            "align_self": null,
            "border": null,
            "bottom": null,
            "display": null,
            "flex": null,
            "flex_flow": null,
            "grid_area": null,
            "grid_auto_columns": null,
            "grid_auto_flow": null,
            "grid_auto_rows": null,
            "grid_column": null,
            "grid_gap": null,
            "grid_row": null,
            "grid_template_areas": null,
            "grid_template_columns": null,
            "grid_template_rows": null,
            "height": null,
            "justify_content": null,
            "justify_items": null,
            "left": null,
            "margin": null,
            "max_height": null,
            "max_width": null,
            "min_height": null,
            "min_width": null,
            "object_fit": null,
            "object_position": null,
            "order": null,
            "overflow": null,
            "overflow_x": null,
            "overflow_y": null,
            "padding": null,
            "right": null,
            "top": null,
            "visibility": null,
            "width": null
          }
        },
        "6c6d65d508e44e2092e528ddd0dcbc17": {
          "model_module": "@jupyter-widgets/controls",
          "model_name": "DescriptionStyleModel",
          "model_module_version": "1.5.0",
          "state": {
            "_model_module": "@jupyter-widgets/controls",
            "_model_module_version": "1.5.0",
            "_model_name": "DescriptionStyleModel",
            "_view_count": null,
            "_view_module": "@jupyter-widgets/base",
            "_view_module_version": "1.2.0",
            "_view_name": "StyleView",
            "description_width": ""
          }
        }
      }
    },
    "accelerator": "GPU",
    "gpuClass": "standard"
  },
  "nbformat": 4,
  "nbformat_minor": 0
}