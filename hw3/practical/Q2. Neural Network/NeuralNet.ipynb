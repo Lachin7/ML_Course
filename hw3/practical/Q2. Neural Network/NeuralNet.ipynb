{
 "cells": [
  {
   "cell_type": "markdown",
   "metadata": {},
   "source": [
    "<img src='http://www-scf.usc.edu/~ghasemig/images/sharif.png' alt=\"SUT logo\" width=200 height=200 align=left class=\"saturate\" >\n",
    "\n",
    "<br>\n",
    "<font face=\"Times New Roman\">\n",
    "<div dir=ltr align=center>\n",
    "<font color=0F5298 size=7>\n",
    "    Introduction to Machine Learning <br>\n",
    "<font color=2565AE size=5>\n",
    "    Computer Engineering Department <br>\n",
    "    Fall 2022<br>\n",
    "<font color=3C99D size=5>\n",
    "    Homework 3: Practical - Neural Network <br>\n",
    "<font color=696880 size=4>\n",
    "    Javad Hezareh \n",
    "    \n",
    "    \n",
    "____\n"
   ]
  },
  {
   "cell_type": "markdown",
   "metadata": {},
   "source": [
    "### Full Name : Lachin Naghashyar\n",
    "### Student Number : 98110179\n",
    "___"
   ]
  },
  {
   "cell_type": "markdown",
   "metadata": {},
   "source": [
    "# Problem\n",
    "In this assignment our goal is to develop a framework for simple neural networks, multi layer perceptrons. We are going to use only `numpy` and no other packages to build our own classes and network."
   ]
  },
  {
   "cell_type": "markdown",
   "metadata": {},
   "source": [
    "# Setup"
   ]
  },
  {
   "cell_type": "code",
   "execution_count": 11,
   "metadata": {
    "id": "D_a46D-Gz3Rj"
   },
   "outputs": [],
   "source": [
    "###################################\n",
    "#  Do Not Add any other packages  #\n",
    "###################################\n",
    "\n",
    "import numpy as np\n",
    "import seaborn as sn\n",
    "import matplotlib.pyplot as plt\n",
    "import tqdm\n",
    "import copy\n",
    "from utils import *\n",
    "\n",
    "plt.style.use('ggplot')"
   ]
  },
  {
   "cell_type": "markdown",
   "metadata": {},
   "source": [
    "# Section 1: Modules implementation (65 Points)\n",
    "We are going to implement required modules for a neural net. Each of this modules must implement the neccessery functions, `_forward` and `backward`. In the following parts, we will implement `LinearLayer`, `ReLU` and `SoftMax` layers."
   ]
  },
  {
   "cell_type": "markdown",
   "metadata": {},
   "source": [
    "## Layers"
   ]
  },
  {
   "cell_type": "markdown",
   "metadata": {},
   "source": [
    "#### Linear Layer (10 Points)"
   ]
  },
  {
   "cell_type": "code",
   "execution_count": 2,
   "outputs": [],
   "source": [
    "class LinearLayer(Module):\n",
    "    \"\"\"\n",
    "    A linear layer module which calculate (Wx + b).\n",
    "    \"\"\"\n",
    "\n",
    "    def __init__(self, dim_in, dim_out, initializer, reg, alpha):\n",
    "        \"\"\"\n",
    "        Args:\n",
    "            - dim_in: input dimension,\n",
    "            - dim_out: output dimension,\n",
    "            - initializer: a function which get (dim_in, dim_out) and initialize\n",
    "                a [dim_in x dim_out] matrix,\n",
    "            - reg: L2-regularization flag\n",
    "            - alpha: L2-regularization coefficient\n",
    "        \"\"\"\n",
    "        self.dim_in = dim_in\n",
    "        self.dim_out = dim_out\n",
    "        self.params = {\n",
    "            #########################################\n",
    "            ##          Initialize parameters      ##\n",
    "            ##              Your Code              ##\n",
    "            #########################################\n",
    "            'W': initializer(dim_in, dim_out),\n",
    "            'b': np.zeros(dim_out),\n",
    "            'alpha':alpha,\n",
    "            'reg':reg\n",
    "        }\n",
    "        self.grads = dict()\n",
    "        self.cache = dict()\n",
    "        self.reg = reg\n",
    "        self.alpha = alpha\n",
    "\n",
    "\n",
    "    def _forward(self, x):\n",
    "        \"\"\"\n",
    "        linear forward function, calculate Wx+b for a batch of data\n",
    "\n",
    "        Args:\n",
    "            x : a batch of data\n",
    "\n",
    "        Note:\n",
    "            you need to store some values in cache to be able to\n",
    "            calculate backward path.\n",
    "        \"\"\"\n",
    "        #########################################\n",
    "        ##              Your Code              ##\n",
    "        #########################################\n",
    "        W = np.array(self.params['W'])\n",
    "        b = np.array(self.params['b'])\n",
    "        y = np.dot(x, W.T) + b\n",
    "        self.cache = (x, W, np.ones(self.dim_out))\n",
    "        return y\n",
    "\n",
    "    def backward(self, upstream):\n",
    "        \"\"\"\n",
    "        get upstream gradient and returns downstream gradient\n",
    "\n",
    "        Args:\n",
    "            upstream : upstream gradient of loss w.r.t module output\n",
    "\n",
    "        Note:\n",
    "            you need to calculate gradient of loss w.r.t module input\n",
    "            and parameters and store them in grads.\n",
    "        \"\"\"\n",
    "        #########################################\n",
    "        ##              Your Code              ##\n",
    "        #########################################\n",
    "\n",
    "\n",
    "        ### START CODE HERE ### (≈ 3 lines of code)\n",
    "        print(upstream.shape)\n",
    "        x, W, b = self.cache\n",
    "        grad_b = upstream * b\n",
    "        grad_w = np.dot(upstream.T , x)\n",
    "        grad_x = np.dot(upstream, W)\n",
    "        grad_reg = 2*self.alpha*W\n",
    "\n",
    "        self.grads = {\n",
    "            'W': grad_w,\n",
    "            'b': grad_b,\n",
    "            'x': grad_x,\n",
    "            'reg': grad_reg\n",
    "        }\n"
   ],
   "metadata": {
    "collapsed": false
   }
  },
  {
   "cell_type": "code",
   "execution_count": 3,
   "metadata": {},
   "outputs": [
    {
     "name": "stdout",
     "output_type": "stream",
     "text": [
      "(10, 12)\n",
      "Gradient of loss w.r.t output:\n",
      "[[0.82955535 0.21114721 0.29056745 0.76196253 0.48381119 0.26313752\n",
      "  0.17058744 0.68924104 0.14521547 0.36108282 0.17969557 0.61131998]\n",
      " [0.90547691 0.09465278 0.04351438 0.82898441 0.53347611 0.25746229\n",
      "  0.83709683 0.91589097 0.95338569 0.53886974 0.68147718 0.14543317]\n",
      " [0.36605854 0.25725115 0.64065521 0.99467217 0.84735271 0.6116583\n",
      "  0.6585274  0.09264464 0.55180917 0.84839143 0.74920247 0.66146217]\n",
      " [0.48228694 0.96546312 0.48159736 0.23890255 0.62490249 0.71391215\n",
      "  0.39654666 0.08349731 0.25206548 0.14235356 0.84943899 0.30579129]\n",
      " [0.18025764 0.72632517 0.07006783 0.77688796 0.90754448 0.97929669\n",
      "  0.15398316 0.39885902 0.85437948 0.42579468 0.34963434 0.91473698]\n",
      " [0.92071169 0.33599422 0.31872931 0.63541889 0.58434891 0.17077758\n",
      "  0.11395208 0.59733395 0.64102327 0.2976854  0.36232214 0.94163488]\n",
      " [0.10551311 0.04220206 0.55321597 0.03134844 0.82945429 0.71557495\n",
      "  0.4421455  0.89943093 0.15358404 0.01888662 0.93738637 0.70363497]\n",
      " [0.25615749 0.52405876 0.07851757 0.82801702 0.82128155 0.6839097\n",
      "  0.43418109 0.88647521 0.26329912 0.97095353 0.84626562 0.99043451]\n",
      " [0.17365826 0.97193332 0.63421181 0.30386288 0.67835468 0.6601781\n",
      "  0.80468593 0.42069812 0.34247869 0.41258744 0.15539917 0.12872808]\n",
      " [0.50912333 0.76242788 0.23354037 0.83329713 0.27259661 0.37348566\n",
      "  0.09703369 0.62817394 0.98414259 0.63421196 0.12645117 0.32862426]]\n",
      "Gradient of loss w.r.t input:\n",
      "[[-0.39408861 -1.59820534 -1.24584068  0.87336911 -0.721955  ]\n",
      " [ 0.18508504 -0.52192766 -1.16692288  1.9458306  -2.83345576]\n",
      " [ 0.71867511 -1.66495566 -1.29742096  1.14288016 -0.76883893]\n",
      " [ 0.13577318 -1.85372595 -2.73229091  1.83536328 -2.05123289]\n",
      " [-0.25980643 -0.97801253 -0.68794991  0.79151603 -1.63791824]\n",
      " [-0.04600198 -1.0567884  -0.87847113  0.30374443 -1.14876255]\n",
      " [-0.42679417 -1.11383696 -0.39443104  1.43706902 -1.67748532]\n",
      " [-1.13475072 -1.02217631 -2.03011196  1.25244945 -1.70976008]\n",
      " [ 0.54235694 -1.43476427 -1.88874717  1.75907015 -2.24680185]\n",
      " [-0.22021754 -1.26695954 -0.84458936  0.28202787 -2.77036963]]\n",
      "Gradient of loss w.r.t W:\n",
      "[[ 0.60296793  2.64325465  0.87670883 -1.72008307  1.80180035]\n",
      " [-1.61883506  1.28293081 -1.5340714  -0.11545109  2.78578139]\n",
      " [-1.16068484  1.06887546 -1.75629507 -0.12894812  1.6593709 ]\n",
      " [ 0.4545917   3.05520758  1.44496446 -0.04507846  2.47594291]\n",
      " [ 0.49302393  1.2461954   0.36367171  1.10414817  1.82555873]\n",
      " [ 0.07483492  0.18079655 -0.42817094  1.03425058  2.05791696]\n",
      " [ 0.25953707  0.37095     1.6139916  -0.30006248  0.67160284]\n",
      " [ 2.19551969  1.02177659  2.69240881  0.60108166 -0.87012326]\n",
      " [ 1.2727168   1.28753926  1.40102579  0.22004613  1.56993439]\n",
      " [-0.11174944  2.12204373  1.48540106  0.42674775  1.30315133]\n",
      " [ 0.97263339 -0.1022656   0.81737232 -0.2647868   1.35368133]\n",
      " [ 0.73973444  2.2344255   0.03261304  1.87558462  1.24209346]]\n",
      "Gradient of loss w.r.t b:\n",
      "[[0.82955535 0.21114721 0.29056745 0.76196253 0.48381119 0.26313752\n",
      "  0.17058744 0.68924104 0.14521547 0.36108282 0.17969557 0.61131998]\n",
      " [0.90547691 0.09465278 0.04351438 0.82898441 0.53347611 0.25746229\n",
      "  0.83709683 0.91589097 0.95338569 0.53886974 0.68147718 0.14543317]\n",
      " [0.36605854 0.25725115 0.64065521 0.99467217 0.84735271 0.6116583\n",
      "  0.6585274  0.09264464 0.55180917 0.84839143 0.74920247 0.66146217]\n",
      " [0.48228694 0.96546312 0.48159736 0.23890255 0.62490249 0.71391215\n",
      "  0.39654666 0.08349731 0.25206548 0.14235356 0.84943899 0.30579129]\n",
      " [0.18025764 0.72632517 0.07006783 0.77688796 0.90754448 0.97929669\n",
      "  0.15398316 0.39885902 0.85437948 0.42579468 0.34963434 0.91473698]\n",
      " [0.92071169 0.33599422 0.31872931 0.63541889 0.58434891 0.17077758\n",
      "  0.11395208 0.59733395 0.64102327 0.2976854  0.36232214 0.94163488]\n",
      " [0.10551311 0.04220206 0.55321597 0.03134844 0.82945429 0.71557495\n",
      "  0.4421455  0.89943093 0.15358404 0.01888662 0.93738637 0.70363497]\n",
      " [0.25615749 0.52405876 0.07851757 0.82801702 0.82128155 0.6839097\n",
      "  0.43418109 0.88647521 0.26329912 0.97095353 0.84626562 0.99043451]\n",
      " [0.17365826 0.97193332 0.63421181 0.30386288 0.67835468 0.6601781\n",
      "  0.80468593 0.42069812 0.34247869 0.41258744 0.15539917 0.12872808]\n",
      " [0.50912333 0.76242788 0.23354037 0.83329713 0.27259661 0.37348566\n",
      "  0.09703369 0.62817394 0.98414259 0.63421196 0.12645117 0.32862426]]\n",
      "Relative error of delta-loss (for linear unit):\n",
      "1.9943897353250255e-05\n",
      "Relative error of delta-loss (for regularization):\n",
      "1.9262175075920588e-05\n"
     ]
    }
   ],
   "source": [
    "# sanity check, output must be from o(e-5)\n",
    "initializer = lambda x, y: np.random.normal(size=(y, x))\n",
    "linear = LinearLayer(5, 12, initializer, reg=True, alpha=1)\n",
    "check_gradient_linear(linear, h=0.00001)"
   ]
  },
  {
   "cell_type": "markdown",
   "metadata": {},
   "source": [
    " #### ReLU Layer (5 Points)"
   ]
  },
  {
   "cell_type": "code",
   "execution_count": 4,
   "metadata": {
    "id": "RSsLumM29_eT"
   },
   "outputs": [],
   "source": [
    "class ReLU(Module):\n",
    "    \"\"\"\n",
    "    Rectified Linear Unit function\n",
    "    \"\"\"\n",
    "\n",
    "    def __init__(self):\n",
    "        self.cache = dict()\n",
    "        self.grads = dict()\n",
    "\n",
    "    def _forward(self, x):\n",
    "        \"\"\"\n",
    "        applies relu function on x\n",
    "\n",
    "        Args:\n",
    "            x : a batch of data\n",
    "\n",
    "        Returns:\n",
    "            y : relu of input\n",
    "        \"\"\"\n",
    "        #########################################\n",
    "        ##              Your Code              ##\n",
    "        #########################################\n",
    "        y = np.maximum(0, x)\n",
    "        self.cache = x\n",
    "        return y\n",
    "\n",
    "    def backward(self, upstream):\n",
    "        \"\"\"\n",
    "        calculate and store gradient of loss w.r.t module input\n",
    "\n",
    "        Args:\n",
    "            upstream : gradient of loss w.r.t model output\n",
    "        \"\"\"\n",
    "        #########################################\n",
    "        ##              Your Code              ##\n",
    "        #########################################\n",
    "        grad_x = np.array(upstream, copy=True)\n",
    "        grad_x[self.cache <= 0] = 0\n",
    "\n",
    "        self.grads['x'] = grad_x\n"
   ]
  },
  {
   "cell_type": "code",
   "execution_count": 5,
   "metadata": {},
   "outputs": [
    {
     "name": "stdout",
     "output_type": "stream",
     "text": [
      "Gradient of loss w.r.t output:\n",
      "[[0.0584373  0.88325126 0.26846461 0.89464548 0.50320908]\n",
      " [0.09177401 0.38804983 0.72265477 0.53096799 0.3455338 ]\n",
      " [0.24378035 0.21950653 0.93640053 0.87820106 0.33644566]\n",
      " [0.87531923 0.36254974 0.54245228 0.95475059 0.96677731]\n",
      " [0.52121319 0.0189511  0.32733035 0.67793154 0.20010495]\n",
      " [0.7436883  0.46844046 0.26309046 0.4595906  0.83244012]\n",
      " [0.62944357 0.72287473 0.73348264 0.21539666 0.77413853]\n",
      " [0.20357441 0.51746258 0.75884962 0.6687436  0.51406511]\n",
      " [0.71992879 0.77988594 0.72842911 0.12522849 0.8795159 ]\n",
      " [0.64932805 0.24568954 0.25430494 0.42654584 0.25253977]]\n",
      "Gradient of loss w.r.t input:\n",
      "[[0.         0.88325126 0.         0.         0.        ]\n",
      " [0.         0.         0.         0.         0.        ]\n",
      " [0.         0.         0.93640053 0.         0.33644566]\n",
      " [0.87531923 0.36254974 0.         0.         0.96677731]\n",
      " [0.52121319 0.0189511  0.         0.67793154 0.20010495]\n",
      " [0.         0.46844046 0.26309046 0.         0.        ]\n",
      " [0.62944357 0.         0.         0.21539666 0.        ]\n",
      " [0.20357441 0.         0.75884962 0.         0.51406511]\n",
      " [0.         0.         0.72842911 0.         0.        ]\n",
      " [0.64932805 0.24568954 0.25430494 0.42654584 0.25253977]]\n",
      "Relative error of delta-loss:\n",
      "2.484727903125079e-14\n"
     ]
    }
   ],
   "source": [
    "# sanity check - output must be from o(e-8)\n",
    "relu = ReLU()\n",
    "check_gradient_relu(relu)"
   ]
  },
  {
   "cell_type": "markdown",
   "metadata": {},
   "source": [
    "#### SoftMax Layer (15 Points)\n",
    "\n",
    "We could have a layer that calculate softmax for us. In other word, for input $x\\in\\mathcal{R}^N$ it would return $y\\in\\mathcal{R}^n$ where $y_i = \\frac{e^{x_i}}{\\sum e^{x_i}}$. But this method is not numerical stable because $e^{x_i}$ in this formulation can get very large easly and return `nan`. Instead of that we will implement a logarithmic version of softmax which instead of calculating $\\frac{e^{x_i}}{\\sum e^{x_i}}$, we will calculate $\\log\\left(\\frac{e^{x_i}}{\\sum e^{x_i}}\\right) = x_i - \\log\\sum e^{x_i}$. In order to calculate second term you can use `np.logaddexp` but this function only works on two input. For more than two input, fill in the following function to be able to calculate log sum exp of an array of shape (b,n). `axis=1` means sum over columns and `axis=0` sum over rows."
   ]
  },
  {
   "cell_type": "code",
   "execution_count": 75,
   "metadata": {},
   "outputs": [],
   "source": [
    "def logsumexp(array, axis=0):\n",
    "    \"\"\"\n",
    "    calculate log(sum(exp(array))) using np.logaddexp\n",
    "\n",
    "    Args:\n",
    "        array : input array\n",
    "        axis : reduce axis, 1 means columns and 0 means rows\n",
    "    \"\"\"\n",
    "    assert len(array) >= 2\n",
    "\n",
    "    # b = x.max(axis=axis, keepdims=True)\n",
    "    # return b + (x - b).exp().sum(axis=axis, keepdims=True).log()\n",
    "    # from scipy.special import logsumexp\n",
    "    # return logsumexp(array, axis=axis)\n",
    "\n",
    "    a_max = np.amax(array, axis=axis, keepdims=True)\n",
    "    return np.log(np.sum(np.exp(array - a_max), axis=axis)) + a_max\n",
    "    #########################################\n",
    "    ##              Your Code              ##\n",
    "    #########################################\n",
    "    # c = np.amax(array, axis=axis, keepdims=True)\n",
    "    # array -= c\n",
    "    # res = np.logaddexp(array[0], array[1])\n",
    "    # for j in range(2,len(array)):\n",
    "    #     res = np.logaddexp(res, array[j])\n",
    "    #\n",
    "    # return res + c"
   ]
  },
  {
   "cell_type": "code",
   "execution_count": 76,
   "metadata": {
    "id": "R4v5_UBB-BCK"
   },
   "outputs": [],
   "source": [
    "class LogSoftMax(Module):\n",
    "    def __init__(self):\n",
    "        self.cache = dict()\n",
    "        self.grads = dict()\n",
    "\n",
    "    def _forward(self, x):\n",
    "        \"\"\"\n",
    "        get x and calculate softmax of that.\n",
    "\n",
    "        Args:\n",
    "            x : batch of data with shape (b,m)\n",
    "\n",
    "        Returns:\n",
    "            y : log softmax of x with shape (b,m)\n",
    "        \"\"\"\n",
    "        #########################################\n",
    "        ##              Your Code              ##\n",
    "        #########################################\n",
    "\n",
    "        # x_max = np.amax(x, axis=0, keepdims=True)\n",
    "        #\n",
    "        #\n",
    "        # tmp = x - x_max\n",
    "        # exp_tmp = np.exp(tmp)\n",
    "        # s = np.sum(exp_tmp, axis=0, keepdims=True)\n",
    "        # out = np.log(s)\n",
    "        # self.cache = tmp - out\n",
    "        # return tmp - out\n",
    "\n",
    "        y = x - logsumexp(x, 0)\n",
    "        self.cache = y\n",
    "        return y\n",
    "\n",
    "\n",
    "    def backward(self, upstream):\n",
    "        \"\"\"\n",
    "        calculate gradient of loss w.r.t module input and save that in grads.\n",
    "\n",
    "        Args:\n",
    "            upstream : gradient of loss w.r.t module output with sahpe (b,m)\n",
    "        \"\"\"\n",
    "        #########################################\n",
    "        ##              Your Code              ##\n",
    "        #########################################\n",
    "        y = self.cache\n",
    "        softmax = np.exp(y)\n",
    "        grad_x = upstream - np.sum(upstream, 0, keepdims=True) * softmax\n",
    "        self.grads['x'] = grad_x\n"
   ]
  },
  {
   "cell_type": "code",
   "execution_count": 77,
   "metadata": {},
   "outputs": [
    {
     "name": "stdout",
     "output_type": "stream",
     "text": [
      "Gradient of loss w.r.t output:\n",
      "[[0.1630331  0.13488387 0.64710355 0.267412   0.38909318]\n",
      " [0.17558247 0.28087961 0.28324271 0.94903849 0.49365313]\n",
      " [0.66110396 0.48183119 0.81942941 0.72267524 0.05972474]\n",
      " [0.23687506 0.58419898 0.63517021 0.34454597 0.22345524]\n",
      " [0.88441083 0.96840966 0.22989379 0.11408372 0.45871137]\n",
      " [0.00832097 0.74025973 0.43923602 0.0739073  0.96269913]\n",
      " [0.17190485 0.1383921  0.6479173  0.88009471 0.35911365]\n",
      " [0.42453736 0.08015594 0.24649505 0.0371008  0.95956135]\n",
      " [0.14149331 0.25348514 0.93081829 0.36581357 0.52428419]\n",
      " [0.23683714 0.9252707  0.18926396 0.4527474  0.47814843]]\n",
      "Gradient of loss w.r.t input:\n",
      "[[-0.17856701 -0.20837871  0.28868052 -0.13110957  0.00794666]\n",
      " [-0.11931073 -0.23982889 -0.24886216  0.45537549 -0.13800207]\n",
      " [ 0.34995133  0.20770767  0.27077555  0.19970769 -0.56142173]\n",
      " [ 0.05658271  0.26589525  0.29967548  0.11011559 -0.3690436 ]\n",
      " [ 0.50457597  0.37681144 -0.18053008 -0.35363145 -0.05209772]\n",
      " [-0.18495426  0.22872216 -0.24353994 -0.35373101  0.64580012]\n",
      " [-0.25314381 -0.33879778  0.05878168  0.37461933  0.08348218]\n",
      " [ 0.09730231 -0.3551013  -0.55441948 -0.19870621  0.59228741]\n",
      " [-0.25117539 -0.22987343  0.55891653 -0.10801566 -0.14536666]\n",
      " [-0.02126113  0.29284359 -0.2494781   0.00537581 -0.0635846 ]]\n",
      "Relative error of delta-loss:\n",
      "1.8417663597839936e-07\n"
     ]
    }
   ],
   "source": [
    "# sanity check, output must be from o(e-7)\n",
    "sm = LogSoftMax()\n",
    "check_gradient_softmax(sm)"
   ]
  },
  {
   "cell_type": "markdown",
   "metadata": {},
   "source": [
    "## Model (10 Points)\n",
    "We need a model class which gathers our layers togather and performs forward and backward on all of them."
   ]
  },
  {
   "cell_type": "code",
   "execution_count": null,
   "metadata": {},
   "outputs": [],
   "source": [
    "class MLPModel(Module):\n",
    "    \"\"\"\n",
    "    A multilayer neural network model\n",
    "    \"\"\"\n",
    "\n",
    "    def __init__(self, layers):\n",
    "        \"\"\"\n",
    "        Args:\n",
    "            layers : list of model layers\n",
    "        \"\"\"\n",
    "        self.layers = layers\n",
    "\n",
    "    def _forward(self, x):\n",
    "        \"\"\"\n",
    "        Perform forward on x\n",
    "\n",
    "        Args:\n",
    "            x : a batch of data\n",
    "\n",
    "        Returns:\n",
    "            o : model output\n",
    "        \"\"\"\n",
    "        #########################################\n",
    "        ##              Your Code              ##\n",
    "        #########################################\n",
    "        for layer in self.layers:\n",
    "            x = layer._forward(x)\n",
    "\n",
    "        return x\n",
    "    \n",
    "    def backward(self, upstream):\n",
    "        \"\"\"\n",
    "        Perform backward path on whole model\n",
    "\n",
    "        Args:\n",
    "            upstream : gradient of loss w.r.t model output\n",
    "        \"\"\"\n",
    "        #########################################\n",
    "        ##              Your Code              ##\n",
    "        #########################################\n",
    "        for layer in reversed(self.layers):\n",
    "            upstream = layer.backward(upstream)\n",
    "\n",
    "\n",
    "    def get_parameters(self):\n",
    "        \"\"\"\n",
    "        Returns:\n",
    "            parametric_layers : all layers of model which have parameter\n",
    "        \"\"\"\n",
    "        pass"
   ]
  },
  {
   "cell_type": "markdown",
   "metadata": {},
   "source": [
    "## Loss functions (10 Points)\n",
    "We need to implement loss functions to be able to train our network. We will implement CrossEntropy loss function. But notice that we have implemented `LogSoftMax` in logarithmic way so input of the following class will be logarithm of probabilities."
   ]
  },
  {
   "cell_type": "code",
   "execution_count": 89,
   "metadata": {
    "id": "HIBN2fmBpYGG"
   },
   "outputs": [],
   "source": [
    "class CrossEntropyLoss(Module):\n",
    "    def __init__(self, mean=False):\n",
    "        self.mean = mean\n",
    "        self.cache = dict()\n",
    "        self.grads = dict()\n",
    "\n",
    "    def _forward(self, logprobs, targets):\n",
    "        \"\"\"\n",
    "        Calculate cross entropy of inputs.\n",
    "\n",
    "        Args:\n",
    "            probs : matrix of probabilities with shape (b,n)\n",
    "            targets : list of samples classes with shape (b,)\n",
    "\n",
    "        Returns:\n",
    "            y : cross entropy loss\n",
    "        \"\"\"\n",
    "        #########################################\n",
    "        ##              Your Code              ##\n",
    "        #########################################\n",
    "        b = logprobs.shape[0]\n",
    "        onehot = np.zeros((targets.shape[0], logprobs.shape[1]))\n",
    "        for i in range(len(targets)):\n",
    "            onehot[i,targets[i]] = 1\n",
    "        y = - np.mean(np.sum(logprobs * onehot, axis=1))\n",
    "        self.cache = (y, b)\n",
    "        return y\n",
    "\n",
    "    def backward(self, upstream):\n",
    "        \"\"\"\n",
    "        Calculate gradient of loss w.r.t module input and save them in grads.\n",
    "\n",
    "        Args:\n",
    "            upstream : gradient of loss w.r.t module output (loss)\n",
    "        \"\"\"\n",
    "        #########################################\n",
    "        ##              Your Code              ##\n",
    "        #########################################\n",
    "        y , b = self.cache\n",
    "        grad_scores = np.exp(upstream) - y\n",
    "\n",
    "        self.grads['x'] = grad_scores"
   ]
  },
  {
   "cell_type": "code",
   "execution_count": 90,
   "metadata": {},
   "outputs": [
    {
     "name": "stdout",
     "output_type": "stream",
     "text": [
      "Gradient of loss w.r.t output:\n",
      "1\n",
      "Gradient of loss w.r.t input:\n",
      "3.194661255575381\n",
      "Relative error of delta-loss:\n",
      "1.0\n"
     ]
    }
   ],
   "source": [
    "# check gradient, output must be from o(e-10)\n",
    "ce = CrossEntropyLoss()\n",
    "check_gradient_ce(ce, h=1)"
   ]
  },
  {
   "cell_type": "markdown",
   "metadata": {},
   "source": [
    "## Optimization (15 Points)\n",
    "\n",
    "Now that we have our network and loss function, we need to update model paremeters. We can do so by using `Optimizer` class that perform updating rule on model parameters. You need to implement `sgd` and `momentum` strategy for this optimizer. Becarefull to consider regularization update for linear units that require regularization."
   ]
  },
  {
   "cell_type": "code",
   "execution_count": null,
   "metadata": {
    "id": "pDROgraatB0p"
   },
   "outputs": [],
   "source": [
    "class Optimizer():\n",
    "    \"\"\"\n",
    "    Our main optimization class.\n",
    "    \n",
    "    You can add arguments to _sgd and _momentum function if you need to do so, and\n",
    "    pass this arguments to step function when using optimizer. Don't change __init__\n",
    "    or step function.\n",
    "    \"\"\"\n",
    "\n",
    "    def __init__(self, layers, strategy, lr):\n",
    "        \"\"\"\n",
    "        save layers here in order to update their parameters later.\n",
    "\n",
    "        Args:\n",
    "            layers : model layers (those that we want to update their parameters)\n",
    "            strategy : optimization strategy\n",
    "            lr : learning rate\n",
    "        \"\"\"\n",
    "        self.layers = layers\n",
    "        self.strategy = strategy\n",
    "        self.lr = lr\n",
    "        self.strategies = {\n",
    "            'sgd': self._sgd,\n",
    "            'momentum': self._momentum,\n",
    "        }\n",
    "\n",
    "    def step(self, *args):\n",
    "        \"\"\"\n",
    "        Perform updating strategy on all layers paramters.\n",
    "        \"\"\"\n",
    "        self.strategies[self.strategy](*args)\n",
    "\n",
    "    def _sgd(self):\n",
    "        \"\"\"\n",
    "        Perform sgd update on all parameters of layers\n",
    "        \"\"\"\n",
    "        #########################################\n",
    "        ##              Your Code              ##\n",
    "        #########################################\n",
    "        pass\n",
    "    \n",
    "    def _momentum(self):\n",
    "        \"\"\"\n",
    "        Perform momentum update on all parameters of layers\n",
    "        \"\"\"\n",
    "        #########################################\n",
    "        ##              Your Code              ##\n",
    "        #########################################\n",
    "        pass\n"
   ]
  },
  {
   "cell_type": "markdown",
   "metadata": {},
   "source": [
    "# Section 2: CIFAR-10 Classification (35 Points)\n",
    "\n",
    "Now that we can build a neural network we want to solve CIFAR-10 classification problem. This dataset consists of 60000 $32 \\times 32$ coloured images in 10 classes."
   ]
  },
  {
   "cell_type": "markdown",
   "metadata": {},
   "source": [
    "## Data preparation (5 Points)"
   ]
  },
  {
   "cell_type": "code",
   "execution_count": null,
   "metadata": {},
   "outputs": [],
   "source": [
    "#################################################\n",
    "##      Run this cell to download dataset      ##\n",
    "##         the dataset is about 150 MB         ##\n",
    "#################################################\n",
    "!./cifar10_downloader.bash"
   ]
  },
  {
   "cell_type": "code",
   "execution_count": null,
   "metadata": {},
   "outputs": [],
   "source": [
    "#############################################\n",
    "##      Run this cell to load dataset      ##\n",
    "#############################################\n",
    "data = load_dataset(train_num=4000, test_num=1000)\n",
    "\n",
    "for k in data.keys():\n",
    "    print(f'{k}: {data[k].shape}')"
   ]
  },
  {
   "cell_type": "code",
   "execution_count": null,
   "metadata": {},
   "outputs": [],
   "source": [
    "##############################################\n",
    "##      Split train set to train/val        ##\n",
    "################[Your Code]###################\n",
    "\n",
    "\n",
    "\n",
    "\n",
    "##############################################\n",
    "for k in data.keys():\n",
    "    print(f'{k}: {data[k].shape}')"
   ]
  },
  {
   "cell_type": "code",
   "execution_count": null,
   "metadata": {},
   "outputs": [],
   "source": [
    "##################################################\n",
    "##      Visualize 5 samples from each class     ##\n",
    "##################[Your Code]#####################\n"
   ]
  },
  {
   "cell_type": "code",
   "execution_count": null,
   "metadata": {},
   "outputs": [],
   "source": [
    "#####################################################\n",
    "##             Normalize and flatten X             ##\n",
    "####################[Your Code]######################\n",
    "\n",
    "\n",
    "\n",
    "\n",
    "#####################################################\n",
    "for k in data.keys():\n",
    "    print(f'{k}: {data[k].shape}')"
   ]
  },
  {
   "cell_type": "markdown",
   "metadata": {},
   "source": [
    "## Train and Test Model (25 Points)"
   ]
  },
  {
   "cell_type": "markdown",
   "metadata": {},
   "source": [
    "### Batch Sampler\n",
    "We need to sample bathces from our dataset to train model. Complete the following class to have a random sampler."
   ]
  },
  {
   "cell_type": "code",
   "execution_count": null,
   "metadata": {},
   "outputs": [],
   "source": [
    "class RandomSampler(object):\n",
    "    def __init__(self, batch_size, dataset, type):\n",
    "        \"\"\"\n",
    "        Args:\n",
    "            batch_size : sampler batch size\n",
    "            dataset : dataset we want to get batch from that\n",
    "            type : one of {'train', 'test', 'val'}\n",
    "        \"\"\"\n",
    "        self.batch_size = batch_size\n",
    "        self.dataset = dataset\n",
    "        self.x_key = f'X_{type}'\n",
    "        self.y_key = f'Y_{type}'\n",
    "        self.indices = None\n",
    "        self.num_batches = None\n",
    "        ################################################################\n",
    "        ##       Build batches indices and store them in indices      ##\n",
    "        ##          Also store number of batches in num_batches       ##\n",
    "        ##                          Your Code                         ##\n",
    "        ################################################################\n",
    "\n",
    "    def __len__(self):\n",
    "        assert type(self.num_batches) == int\n",
    "        return self.num_batches\n",
    "\n",
    "    def __iter__(self):\n",
    "        \"\"\"\n",
    "        This function call when we iterate an object of this class and\n",
    "        yields one batch on each call.\n",
    "\n",
    "        Yields:\n",
    "            (x, y) : tuple of bathces of x and y\n",
    "        \"\"\"\n",
    "        for idx in self.indices:\n",
    "            x = self.dataset[self.x_key][idx]\n",
    "            y = self.dataset[self.y_key][idx]\n",
    "            yield x, y\n"
   ]
  },
  {
   "cell_type": "markdown",
   "metadata": {},
   "source": [
    "Fill the following functions to update a confusion matrix and calculate f1 score for a confusion matrix. For multi class f1 score read [here](https://towardsdatascience.com/multi-class-metrics-made-simple-part-ii-the-f1-score-ebe8b2c2ca1)."
   ]
  },
  {
   "cell_type": "code",
   "execution_count": null,
   "metadata": {},
   "outputs": [],
   "source": [
    "def update_confusion_matrix(conf_matrix, preds, reals):\n",
    "    \"\"\"\n",
    "    Updates confusion matrix\n",
    "\n",
    "    Args:\n",
    "        conf_matrix : input confusion matrix\n",
    "        preds : array of predicted labels\n",
    "        reals : array of real labels\n",
    "\n",
    "    Returns:\n",
    "        conf_matrix : updated confusion matrix\n",
    "    \"\"\"\n",
    "    #################################\n",
    "    ##          Your Code          ##\n",
    "    #################################\n",
    "    return conf_matrix\n",
    "\n",
    "\n",
    "def f1_score(confusion_matrix):\n",
    "    \"\"\"\n",
    "    calculate macro f1 score from given confusion matrix\n",
    "\n",
    "    Args:\n",
    "        confusion_matrix : given confusion matrix\n",
    "        \n",
    "    Returns:\n",
    "        f1 : macro f1 score\n",
    "    \"\"\"\n",
    "    #################################\n",
    "    ##          Your Code          ##\n",
    "    #################################\n",
    "    f1_score = None\n",
    "    \n",
    "    \n",
    "    return f1_score"
   ]
  },
  {
   "cell_type": "markdown",
   "metadata": {},
   "source": [
    "### Define Model\n",
    "Define an MLP model to solve classification problem."
   ]
  },
  {
   "cell_type": "code",
   "execution_count": null,
   "metadata": {},
   "outputs": [],
   "source": [
    "###############################################\n",
    "##             Define your model             ##\n",
    "##     use a good initializer for layers     ##\n",
    "###############################################\n",
    "\n",
    "model = None"
   ]
  },
  {
   "cell_type": "code",
   "execution_count": null,
   "metadata": {},
   "outputs": [],
   "source": [
    "#########################################\n",
    "##          Hyper parameters           ##\n",
    "#########################################\n",
    "\n",
    "n_epochs = None\n",
    "batch_size = None\n",
    "lr = None\n",
    "reg_coeff = None"
   ]
  },
  {
   "cell_type": "code",
   "execution_count": null,
   "metadata": {},
   "outputs": [],
   "source": [
    "##################################################\n",
    "##      Define optimizer, loss and sampler      ##\n",
    "##################################################\n",
    "\n",
    "optimizer = None\n",
    "criterion = None\n",
    "train_sampler = None\n",
    "val_sampler = None\n",
    "test_sampler = None"
   ]
  },
  {
   "cell_type": "markdown",
   "metadata": {},
   "source": [
    "### Train Model\n",
    "\n",
    "Fill in the below cell to train the model. Store each epoch loss, accuracy and f1-score. Use f1-score to choose best epoch.\n",
    "\n",
    "**Note1**: To do backpropagation you need to first call `backward` function of criterion with 1 as its argument to have gradient of loss w.r.t output of this module and then using model `backward` function with `criterion.grads['x']` argument.\n",
    "\n",
    "**Note2**: You can ignore regularization term in your total loss value and just use criterion, but you must consider that during updating."
   ]
  },
  {
   "cell_type": "code",
   "execution_count": null,
   "metadata": {},
   "outputs": [],
   "source": [
    "#########################################\n",
    "##      Train and Validation loop      ##\n",
    "#########################################\n",
    "train_losses, val_losses = [], []\n",
    "train_accs, val_accs = [], []\n",
    "train_f1, val_f1 = [], []\n",
    "best_model = None\n",
    "best_f1 = 0\n",
    "\n",
    "for epoch in range(n_epochs):\n",
    "    \n",
    "    # Train Phase\n",
    "    total_loss = 0\n",
    "    N = 0\n",
    "    confusion = np.zeros((10, 10))\n",
    "    with tqdm.tqdm(enumerate(train_sampler), total=len(train_sampler)) as pbar:\n",
    "        for i, (x, y) in pbar:\n",
    "            #################################\n",
    "            ##          Your Code          ##\n",
    "            #################################\n",
    "            \n",
    "            acc = None\n",
    "            f1 = None\n",
    "            pbar.set_description(f'Train {epoch} | Loss:{total_loss/N:.2e} | Acc: {acc:.2f}| F1: {f1:.2f}|')\n",
    "    \n",
    "    # save epoch metrics for train phase\n",
    "    train_losses.append(total_loss/N)\n",
    "    train_accs.append(acc)\n",
    "    train_f1.append(f1)\n",
    "    \n",
    "\n",
    "    # Validation Phase\n",
    "    total_loss = 0\n",
    "    N = 0\n",
    "    confusion = np.zeros((10, 10))\n",
    "    with tqdm.tqdm(enumerate(val_sampler), total=len(val_sampler)) as pbar:\n",
    "        for i, (x, y) in pbar:\n",
    "            #################################\n",
    "            ##          Your Code          ##\n",
    "            #################################\n",
    "            \n",
    "            acc = None\n",
    "            f1 = None\n",
    "            pbar.set_description(f'Val   {epoch} | Loss:{total_loss/N:.2e} | Acc: {acc:.2f}| F1: {f1:.2f}|')\n",
    "    \n",
    "    # save epoch metrics for validation phase\n",
    "    val_losses.append(total_loss/N)\n",
    "    val_accs.append(acc)\n",
    "    val_f1.append(f1)\n",
    "    \n",
    "    \n",
    "    #################################\n",
    "    ##       update best model     ##\n",
    "    ##          Your Code          ##\n",
    "    #################################\n",
    "    \n",
    "    \n",
    "    print(f'----------------------------[Epoch{epoch+1} finished!]----------------------------')"
   ]
  },
  {
   "cell_type": "markdown",
   "metadata": {},
   "source": [
    "### Test Model"
   ]
  },
  {
   "cell_type": "code",
   "execution_count": null,
   "metadata": {},
   "outputs": [],
   "source": [
    "######################################################################\n",
    "##      Plot train and validation loss, accuracy and f1 graphs      ##\n",
    "######################################################################\n"
   ]
  },
  {
   "cell_type": "code",
   "execution_count": null,
   "metadata": {},
   "outputs": [],
   "source": [
    "############################################################\n",
    "##                  Test your best model                  ##\n",
    "##          Report loss, accuracy and f1 metrics          ##\n",
    "##      Also plot the confusion matrix for test data      ##\n",
    "############################################################\n"
   ]
  },
  {
   "cell_type": "markdown",
   "metadata": {},
   "source": [
    "## Weights Visualization (5 Points)\n",
    "\n",
    "For the last part we want to visualize weights matrix of the first layer."
   ]
  },
  {
   "cell_type": "code",
   "execution_count": null,
   "metadata": {},
   "outputs": [],
   "source": [
    "##########################################################\n",
    "##          Visualize n of first layer weights          ##\n",
    "##          First reshape them to (32, 32, 3)           ##\n",
    "##########################################################\n",
    "n = 5\n"
   ]
  }
 ],
 "metadata": {
  "colab": {
   "provenance": []
  },
  "kernelspec": {
   "display_name": "Python 3 (ipykernel)",
   "language": "python",
   "name": "python3"
  },
  "language_info": {
   "codemirror_mode": {
    "name": "ipython",
    "version": 3
   },
   "file_extension": ".py",
   "mimetype": "text/x-python",
   "name": "python",
   "nbconvert_exporter": "python",
   "pygments_lexer": "ipython3",
   "version": "3.9.7"
  },
  "vscode": {
   "interpreter": {
    "hash": "81794d4967e6c3204c66dcd87b604927b115b27c00565d3d43f05ba2f3a2cb0d"
   }
  }
 },
 "nbformat": 4,
 "nbformat_minor": 1
}
