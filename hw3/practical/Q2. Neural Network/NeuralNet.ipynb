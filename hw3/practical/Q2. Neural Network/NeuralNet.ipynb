{
 "cells": [
  {
   "cell_type": "markdown",
   "metadata": {
    "id": "DwIW0_7WlRMl"
   },
   "source": [
    "<img src='http://www-scf.usc.edu/~ghasemig/images/sharif.png' alt=\"SUT logo\" width=200 height=200 align=left class=\"saturate\" >\n",
    "\n",
    "<br>\n",
    "<font face=\"Times New Roman\">\n",
    "<div dir=ltr align=center>\n",
    "<font color=0F5298 size=7>\n",
    "    Introduction to Machine Learning <br>\n",
    "<font color=2565AE size=5>\n",
    "    Computer Engineering Department <br>\n",
    "    Fall 2022<br>\n",
    "<font color=3C99D size=5>\n",
    "    Homework 3: Practical - Neural Network <br>\n",
    "<font color=696880 size=4>\n",
    "    Javad Hezareh \n",
    "    \n",
    "    \n",
    "____\n"
   ]
  },
  {
   "cell_type": "markdown",
   "metadata": {
    "id": "ZMhG8-QDlRMo"
   },
   "source": [
    "### Full Name : Lachin Naghashyar\n",
    "### Student Number : 98110179\n",
    "___"
   ]
  },
  {
   "cell_type": "markdown",
   "metadata": {
    "id": "OpVW1syUlRMp"
   },
   "source": [
    "# Problem\n",
    "In this assignment our goal is to develop a framework for simple neural networks, multi layer perceptrons. We are going to use only `numpy` and no other packages to build our own classes and network."
   ]
  },
  {
   "cell_type": "markdown",
   "metadata": {
    "id": "xqhWapIxlRMp"
   },
   "source": [
    "# Setup"
   ]
  },
  {
   "cell_type": "code",
   "execution_count": 1,
   "metadata": {
    "id": "D_a46D-Gz3Rj"
   },
   "outputs": [],
   "source": [
    "###################################\n",
    "#  Do Not Add any other packages  #\n",
    "###################################\n",
    "\n",
    "import numpy as np\n",
    "import seaborn as sn\n",
    "import matplotlib.pyplot as plt\n",
    "import tqdm\n",
    "import copy\n",
    "from utils import *\n",
    "\n",
    "plt.style.use('ggplot')"
   ]
  },
  {
   "cell_type": "markdown",
   "metadata": {
    "id": "juo4kOwJlRMr"
   },
   "source": [
    "# Section 1: Modules implementation (65 Points)\n",
    "We are going to implement required modules for a neural net. Each of this modules must implement the neccessery functions, `_forward` and `backward`. In the following parts, we will implement `LinearLayer`, `ReLU` and `SoftMax` layers."
   ]
  },
  {
   "cell_type": "markdown",
   "metadata": {
    "id": "WlZMa6eXlRMr"
   },
   "source": [
    "## Layers"
   ]
  },
  {
   "cell_type": "markdown",
   "metadata": {
    "id": "zSc-W9jelRMs"
   },
   "source": [
    "#### Linear Layer (10 Points)"
   ]
  },
  {
   "cell_type": "code",
   "execution_count": 2,
   "outputs": [],
   "source": [
    "class LinearLayer(Module):\n",
    "    \"\"\"\n",
    "    A linear layer module which calculate (Wx + b).\n",
    "    \"\"\"\n",
    "\n",
    "    def __init__(self, dim_in, dim_out, initializer, reg, alpha):\n",
    "        \"\"\"\n",
    "        Args:\n",
    "            - dim_in: input dimension,\n",
    "            - dim_out: output dimension,\n",
    "            - initializer: a function which get (dim_in, dim_out) and initialize\n",
    "                a [dim_in x dim_out] matrix,\n",
    "            - reg: L2-regularization flag\n",
    "            - alpha: L2-regularization coefficient\n",
    "        \"\"\"\n",
    "        self.dim_in = dim_in\n",
    "        self.dim_out = dim_out\n",
    "        self.params = {\n",
    "            #########################################\n",
    "            ##          Initialize parameters      ##\n",
    "            ##              Your Code              ##\n",
    "            #########################################\n",
    "            'W': initializer(dim_in, dim_out),\n",
    "            'b': np.zeros(dim_out),\n",
    "            'alpha':alpha,\n",
    "            'reg':reg\n",
    "        }\n",
    "        self.grads = dict()\n",
    "        self.cache = dict()\n",
    "        self.reg = reg\n",
    "        self.alpha = alpha\n",
    "\n",
    "\n",
    "    def _forward(self, x):\n",
    "        \"\"\"\n",
    "        linear forward function, calculate Wx+b for a batch of data\n",
    "\n",
    "        Args:\n",
    "            x : a batch of data\n",
    "\n",
    "        Note:\n",
    "            you need to store some values in cache to be able to\n",
    "            calculate backward path.\n",
    "        \"\"\"\n",
    "        #########################################\n",
    "        ##              Your Code              ##\n",
    "        #########################################\n",
    "        W = np.array(self.params['W'])\n",
    "        b = np.array(self.params['b'])\n",
    "        y = np.dot(x, W.T) + b\n",
    "        self.cache = (x, W, b)\n",
    "        return y\n",
    "\n",
    "    def backward(self, upstream):\n",
    "        \"\"\"\n",
    "        get upstream gradient and returns downstream gradient\n",
    "\n",
    "        Args:\n",
    "            upstream : upstream gradient of loss w.r.t module output\n",
    "\n",
    "        Note:\n",
    "            you need to calculate gradient of loss w.r.t module input\n",
    "            and parameters and store them in grads.\n",
    "        \"\"\"\n",
    "        #########################################\n",
    "        ##              Your Code              ##\n",
    "        #########################################\n",
    "\n",
    "\n",
    "        ### START CODE HERE ### (≈ 3 lines of code)\n",
    "        print(upstream.shape)\n",
    "        x, W, b = self.cache\n",
    "        grad_b = np.sum(upstream, axis=1)\n",
    "        grad_w = np.dot(upstream.T , x)\n",
    "        grad_x = np.dot(upstream, W)\n",
    "        grad_reg = 2*self.alpha*W\n",
    "\n",
    "        self.grads = {\n",
    "            'W': grad_w,\n",
    "            'b': grad_b,\n",
    "            'x': grad_x,\n",
    "            'reg': grad_reg\n",
    "        }\n"
   ],
   "metadata": {
    "id": "wQKizr_2lRMs"
   }
  },
  {
   "cell_type": "code",
   "execution_count": 3,
   "metadata": {
    "colab": {
     "base_uri": "https://localhost:8080/"
    },
    "id": "nrESfISolRMu",
    "outputId": "62f0b432-6e74-4a21-b40a-5b2999b68513"
   },
   "outputs": [
    {
     "output_type": "stream",
     "name": "stdout",
     "text": [
      "(10, 12)\n",
      "Gradient of loss w.r.t output:\n",
      "[[0.82955535 0.21114721 0.29056745 0.76196253 0.48381119 0.26313752\n",
      "  0.17058744 0.68924104 0.14521547 0.36108282 0.17969557 0.61131998]\n",
      " [0.90547691 0.09465278 0.04351438 0.82898441 0.53347611 0.25746229\n",
      "  0.83709683 0.91589097 0.95338569 0.53886974 0.68147718 0.14543317]\n",
      " [0.36605854 0.25725115 0.64065521 0.99467217 0.84735271 0.6116583\n",
      "  0.6585274  0.09264464 0.55180917 0.84839143 0.74920247 0.66146217]\n",
      " [0.48228694 0.96546312 0.48159736 0.23890255 0.62490249 0.71391215\n",
      "  0.39654666 0.08349731 0.25206548 0.14235356 0.84943899 0.30579129]\n",
      " [0.18025764 0.72632517 0.07006783 0.77688796 0.90754448 0.97929669\n",
      "  0.15398316 0.39885902 0.85437948 0.42579468 0.34963434 0.91473698]\n",
      " [0.92071169 0.33599422 0.31872931 0.63541889 0.58434891 0.17077758\n",
      "  0.11395208 0.59733395 0.64102327 0.2976854  0.36232214 0.94163488]\n",
      " [0.10551311 0.04220206 0.55321597 0.03134844 0.82945429 0.71557495\n",
      "  0.4421455  0.89943093 0.15358404 0.01888662 0.93738637 0.70363497]\n",
      " [0.25615749 0.52405876 0.07851757 0.82801702 0.82128155 0.6839097\n",
      "  0.43418109 0.88647521 0.26329912 0.97095353 0.84626562 0.99043451]\n",
      " [0.17365826 0.97193332 0.63421181 0.30386288 0.67835468 0.6601781\n",
      "  0.80468593 0.42069812 0.34247869 0.41258744 0.15539917 0.12872808]\n",
      " [0.50912333 0.76242788 0.23354037 0.83329713 0.27259661 0.37348566\n",
      "  0.09703369 0.62817394 0.98414259 0.63421196 0.12645117 0.32862426]]\n",
      "Gradient of loss w.r.t input:\n",
      "[[-0.37524803 -0.83723455  1.75763993  2.38276385 -1.8643474 ]\n",
      " [-0.09119625 -2.6431259   3.72364112  1.29468208 -2.22928288]\n",
      " [-0.15773019 -1.86742394 -1.01318543  0.9252952  -0.91068795]\n",
      " [-1.10542365 -1.27818545 -0.99989896  1.48989798  0.79752755]\n",
      " [ 0.69345627 -0.38639587 -0.31817642  0.38769537 -0.27282073]\n",
      " [ 0.16151345 -1.00563508  1.47603399  2.23692997 -2.33486484]\n",
      " [-1.5529412  -2.20889707  0.83523477  1.29162283 -0.83671385]\n",
      " [-0.74253193 -1.22383995 -0.17797705  1.66070589 -1.59287738]\n",
      " [ 0.15167736 -2.5823766   0.81160671  1.4126438   2.2911133 ]\n",
      " [ 0.54041698 -1.14342255  1.90607999  1.29357557 -0.45746272]]\n",
      "Gradient of loss w.r.t W:\n",
      "[[ 0.60296793  2.64325465  0.87670883 -1.72008307  1.80180035]\n",
      " [-1.61883506  1.28293081 -1.5340714  -0.11545109  2.78578139]\n",
      " [-1.16068484  1.06887546 -1.75629507 -0.12894812  1.6593709 ]\n",
      " [ 0.4545917   3.05520758  1.44496446 -0.04507846  2.47594291]\n",
      " [ 0.49302393  1.2461954   0.36367171  1.10414817  1.82555873]\n",
      " [ 0.07483492  0.18079655 -0.42817094  1.03425058  2.05791696]\n",
      " [ 0.25953707  0.37095     1.6139916  -0.30006248  0.67160284]\n",
      " [ 2.19551969  1.02177659  2.69240881  0.60108166 -0.87012326]\n",
      " [ 1.2727168   1.28753926  1.40102579  0.22004613  1.56993439]\n",
      " [-0.11174944  2.12204373  1.48540106  0.42674775  1.30315133]\n",
      " [ 0.97263339 -0.1022656   0.81737232 -0.2647868   1.35368133]\n",
      " [ 0.73973444  2.2344255   0.03261304  1.87558462  1.24209346]]\n",
      "Gradient of loss w.r.t b:\n",
      "[4.99732356 6.73572047 7.27968536 5.53675789 6.73776743 5.91993233\n",
      " 5.43237725 7.58355118 5.68677648 5.7831086 ]\n",
      "Relative error of delta-loss (for linear unit):\n",
      "1.4391897515165405e-05\n",
      "Relative error of delta-loss (for regularization):\n",
      "0.00035915700168725047\n"
     ]
    }
   ],
   "source": [
    "# sanity check, output must be from o(e-5)\n",
    "initializer = lambda x, y: np.random.normal(size=(y, x))\n",
    "linear = LinearLayer(5, 12, initializer, reg=True, alpha=1)\n",
    "check_gradient_linear(linear, h=0.00001)"
   ]
  },
  {
   "cell_type": "markdown",
   "metadata": {
    "id": "PjQxoIyQlRMv"
   },
   "source": [
    " #### ReLU Layer (5 Points)"
   ]
  },
  {
   "cell_type": "code",
   "execution_count": 4,
   "metadata": {
    "id": "RSsLumM29_eT"
   },
   "outputs": [],
   "source": [
    "class ReLU(Module):\n",
    "    \"\"\"\n",
    "    Rectified Linear Unit function\n",
    "    \"\"\"\n",
    "\n",
    "    def __init__(self):\n",
    "        self.cache = dict()\n",
    "        self.grads = dict()\n",
    "\n",
    "    def _forward(self, x):\n",
    "        \"\"\"\n",
    "        applies relu function on x\n",
    "\n",
    "        Args:\n",
    "            x : a batch of data\n",
    "\n",
    "        Returns:\n",
    "            y : relu of input\n",
    "        \"\"\"\n",
    "        #########################################\n",
    "        ##              Your Code              ##\n",
    "        #########################################\n",
    "        y = np.maximum(0, x)\n",
    "        self.cache = x\n",
    "        return y\n",
    "\n",
    "    def backward(self, upstream):\n",
    "        \"\"\"\n",
    "        calculate and store gradient of loss w.r.t module input\n",
    "\n",
    "        Args:\n",
    "            upstream : gradient of loss w.r.t model output\n",
    "        \"\"\"\n",
    "        #########################################\n",
    "        ##              Your Code              ##\n",
    "        #########################################\n",
    "        grad_x = np.array(upstream, copy=True)\n",
    "        grad_x[self.cache <= 0] = 0\n",
    "\n",
    "        self.grads['x'] = grad_x\n"
   ]
  },
  {
   "cell_type": "code",
   "execution_count": 5,
   "metadata": {
    "colab": {
     "base_uri": "https://localhost:8080/"
    },
    "id": "qpvxBCk9lRMw",
    "outputId": "42fd4431-8161-4bfc-ffef-dfe063a683e1"
   },
   "outputs": [
    {
     "output_type": "stream",
     "name": "stdout",
     "text": [
      "Gradient of loss w.r.t output:\n",
      "[[0.0584373  0.88325126 0.26846461 0.89464548 0.50320908]\n",
      " [0.09177401 0.38804983 0.72265477 0.53096799 0.3455338 ]\n",
      " [0.24378035 0.21950653 0.93640053 0.87820106 0.33644566]\n",
      " [0.87531923 0.36254974 0.54245228 0.95475059 0.96677731]\n",
      " [0.52121319 0.0189511  0.32733035 0.67793154 0.20010495]\n",
      " [0.7436883  0.46844046 0.26309046 0.4595906  0.83244012]\n",
      " [0.62944357 0.72287473 0.73348264 0.21539666 0.77413853]\n",
      " [0.20357441 0.51746258 0.75884962 0.6687436  0.51406511]\n",
      " [0.71992879 0.77988594 0.72842911 0.12522849 0.8795159 ]\n",
      " [0.64932805 0.24568954 0.25430494 0.42654584 0.25253977]]\n",
      "Gradient of loss w.r.t input:\n",
      "[[0.         0.88325126 0.         0.         0.        ]\n",
      " [0.         0.         0.         0.         0.        ]\n",
      " [0.         0.         0.93640053 0.         0.33644566]\n",
      " [0.87531923 0.36254974 0.         0.         0.96677731]\n",
      " [0.52121319 0.0189511  0.         0.67793154 0.20010495]\n",
      " [0.         0.46844046 0.26309046 0.         0.        ]\n",
      " [0.62944357 0.         0.         0.21539666 0.        ]\n",
      " [0.20357441 0.         0.75884962 0.         0.51406511]\n",
      " [0.         0.         0.72842911 0.         0.        ]\n",
      " [0.64932805 0.24568954 0.25430494 0.42654584 0.25253977]]\n",
      "Relative error of delta-loss:\n",
      "2.484727903125079e-14\n"
     ]
    }
   ],
   "source": [
    "# sanity check - output must be from o(e-8)\n",
    "relu = ReLU()\n",
    "check_gradient_relu(relu)"
   ]
  },
  {
   "cell_type": "markdown",
   "metadata": {
    "id": "aK-MsHnhlRMw"
   },
   "source": [
    "#### SoftMax Layer (15 Points)\n",
    "\n",
    "We could have a layer that calculate softmax for us. In other word, for input $x\\in\\mathcal{R}^N$ it would return $y\\in\\mathcal{R}^n$ where $y_i = \\frac{e^{x_i}}{\\sum e^{x_i}}$. But this method is not numerical stable because $e^{x_i}$ in this formulation can get very large easly and return `nan`. Instead of that we will implement a logarithmic version of softmax which instead of calculating $\\frac{e^{x_i}}{\\sum e^{x_i}}$, we will calculate $\\log\\left(\\frac{e^{x_i}}{\\sum e^{x_i}}\\right) = x_i - \\log\\sum e^{x_i}$. In order to calculate second term you can use `np.logaddexp` but this function only works on two input. For more than two input, fill in the following function to be able to calculate log sum exp of an array of shape (b,n). `axis=1` means sum over columns and `axis=0` sum over rows."
   ]
  },
  {
   "cell_type": "code",
   "execution_count": 6,
   "metadata": {
    "id": "6DdcH0QelRMw"
   },
   "outputs": [],
   "source": [
    "def logsumexp(array, axis=0):\n",
    "    \"\"\"\n",
    "    calculate log(sum(exp(array))) using np.logaddexp\n",
    "\n",
    "    Args:\n",
    "        array : input array\n",
    "        axis : reduce axis, 1 means columns and 0 means rows\n",
    "    \"\"\"\n",
    "    assert len(array) >= 2\n",
    "\n",
    "    # b = x.max(axis=axis, keepdims=True)\n",
    "    # return b + (x - b).exp().sum(axis=axis, keepdims=True).log()\n",
    "    # from scipy.special import logsumexp\n",
    "    # return logsumexp(array, axis=axis)\n",
    "\n",
    "    a_max = np.amax(array, axis=axis, keepdims=True)\n",
    "    return np.log(np.sum(np.exp(array - a_max), axis=axis)) + a_max\n",
    "    #########################################\n",
    "    ##              Your Code              ##\n",
    "    #########################################\n",
    "    # c = np.amax(array, axis=axis, keepdims=True)\n",
    "    # array -= c\n",
    "    # res = np.logaddexp(array[0], array[1])\n",
    "    # for j in range(2,len(array)):\n",
    "    #     res = np.logaddexp(res, array[j])\n",
    "    #\n",
    "    # return res + c"
   ]
  },
  {
   "cell_type": "code",
   "execution_count": 7,
   "metadata": {
    "id": "R4v5_UBB-BCK"
   },
   "outputs": [],
   "source": [
    "class LogSoftMax(Module):\n",
    "    def __init__(self):\n",
    "        self.cache = dict()\n",
    "        self.grads = dict()\n",
    "\n",
    "    def _forward(self, x):\n",
    "        \"\"\"\n",
    "        get x and calculate softmax of that.\n",
    "\n",
    "        Args:\n",
    "            x : batch of data with shape (b,m)\n",
    "\n",
    "        Returns:\n",
    "            y : log softmax of x with shape (b,m)\n",
    "        \"\"\"\n",
    "        #########################################\n",
    "        ##              Your Code              ##\n",
    "        #########################################\n",
    "\n",
    "        # x_max = np.amax(x, axis=0, keepdims=True)\n",
    "        #\n",
    "        #\n",
    "        # tmp = x - x_max\n",
    "        # exp_tmp = np.exp(tmp)\n",
    "        # s = np.sum(exp_tmp, axis=0, keepdims=True)\n",
    "        # out = np.log(s)\n",
    "        # self.cache = tmp - out\n",
    "        # return tmp - out\n",
    "\n",
    "        y = x - logsumexp(x, 0)\n",
    "        self.cache = y\n",
    "        return y\n",
    "\n",
    "\n",
    "    def backward(self, upstream):\n",
    "        \"\"\"\n",
    "        calculate gradient of loss w.r.t module input and save that in grads.\n",
    "\n",
    "        Args:\n",
    "            upstream : gradient of loss w.r.t module output with sahpe (b,m)\n",
    "        \"\"\"\n",
    "        #########################################\n",
    "        ##              Your Code              ##\n",
    "        #########################################\n",
    "        y = self.cache\n",
    "        softmax = np.exp(y)\n",
    "        grad_x = upstream - np.sum(upstream, 0, keepdims=True) * softmax\n",
    "        self.grads['x'] = grad_x\n"
   ]
  },
  {
   "cell_type": "code",
   "execution_count": 8,
   "metadata": {
    "colab": {
     "base_uri": "https://localhost:8080/"
    },
    "id": "XbBqPYUslRM3",
    "outputId": "d654faaa-0722-4df3-f119-47bed1c1efc8"
   },
   "outputs": [
    {
     "output_type": "stream",
     "name": "stdout",
     "text": [
      "Gradient of loss w.r.t output:\n",
      "[[0.1630331  0.13488387 0.64710355 0.267412   0.38909318]\n",
      " [0.17558247 0.28087961 0.28324271 0.94903849 0.49365313]\n",
      " [0.66110396 0.48183119 0.81942941 0.72267524 0.05972474]\n",
      " [0.23687506 0.58419898 0.63517021 0.34454597 0.22345524]\n",
      " [0.88441083 0.96840966 0.22989379 0.11408372 0.45871137]\n",
      " [0.00832097 0.74025973 0.43923602 0.0739073  0.96269913]\n",
      " [0.17190485 0.1383921  0.6479173  0.88009471 0.35911365]\n",
      " [0.42453736 0.08015594 0.24649505 0.0371008  0.95956135]\n",
      " [0.14149331 0.25348514 0.93081829 0.36581357 0.52428419]\n",
      " [0.23683714 0.9252707  0.18926396 0.4527474  0.47814843]]\n",
      "Gradient of loss w.r.t input:\n",
      "[[-0.17856701 -0.20837871  0.28868052 -0.13110957  0.00794666]\n",
      " [-0.11931073 -0.23982889 -0.24886216  0.45537549 -0.13800207]\n",
      " [ 0.34995133  0.20770767  0.27077555  0.19970769 -0.56142173]\n",
      " [ 0.05658271  0.26589525  0.29967548  0.11011559 -0.3690436 ]\n",
      " [ 0.50457597  0.37681144 -0.18053008 -0.35363145 -0.05209772]\n",
      " [-0.18495426  0.22872216 -0.24353994 -0.35373101  0.64580012]\n",
      " [-0.25314381 -0.33879778  0.05878168  0.37461933  0.08348218]\n",
      " [ 0.09730231 -0.3551013  -0.55441948 -0.19870621  0.59228741]\n",
      " [-0.25117539 -0.22987343  0.55891653 -0.10801566 -0.14536666]\n",
      " [-0.02126113  0.29284359 -0.2494781   0.00537581 -0.0635846 ]]\n",
      "Relative error of delta-loss:\n",
      "1.8417663597839936e-07\n"
     ]
    }
   ],
   "source": [
    "# sanity check, output must be from o(e-7)\n",
    "sm = LogSoftMax()\n",
    "check_gradient_softmax(sm)"
   ]
  },
  {
   "cell_type": "markdown",
   "metadata": {
    "id": "gPfN6DORlRM3"
   },
   "source": [
    "## Model (10 Points)\n",
    "We need a model class which gathers our layers togather and performs forward and backward on all of them."
   ]
  },
  {
   "cell_type": "code",
   "execution_count": 9,
   "metadata": {
    "id": "qszI5XZrlRM3"
   },
   "outputs": [],
   "source": [
    "class MLPModel(Module):\n",
    "    \"\"\"\n",
    "    A multilayer neural network model\n",
    "    \"\"\"\n",
    "\n",
    "    def __init__(self, layers):\n",
    "        \"\"\"\n",
    "        Args:\n",
    "            layers : list of model layers\n",
    "        \"\"\"\n",
    "        self.layers = layers\n",
    "\n",
    "    def _forward(self, x):\n",
    "        \"\"\"\n",
    "        Perform forward on x\n",
    "\n",
    "        Args:\n",
    "            x : a batch of data\n",
    "\n",
    "        Returns:\n",
    "            o : model output\n",
    "        \"\"\"\n",
    "        #########################################\n",
    "        ##              Your Code              ##\n",
    "        #########################################\n",
    "        for layer in self.layers:\n",
    "            x = layer._forward(x)\n",
    "\n",
    "        return x\n",
    "    \n",
    "    def backward(self, upstream):\n",
    "        \"\"\"\n",
    "        Perform backward path on whole model\n",
    "\n",
    "        Args:\n",
    "            upstream : gradient of loss w.r.t model output\n",
    "        \"\"\"\n",
    "        #########################################\n",
    "        ##              Your Code              ##\n",
    "        #########################################\n",
    "        for layer in reversed(self.layers):\n",
    "            upstream = layer.backward(upstream)\n",
    "\n",
    "\n",
    "    def get_parameters(self):\n",
    "        \"\"\"\n",
    "        Returns:\n",
    "            parametric_layers : all layers of model which have parameter\n",
    "        \"\"\"\n",
    "        layers_with_param = []\n",
    "        for layer in self.layers:\n",
    "            if hasattr(layer, \"params\"):\n",
    "                layers_with_param.append(layer)\n",
    "        return layers_with_param"
   ]
  },
  {
   "cell_type": "markdown",
   "metadata": {
    "id": "NraqtyQylRM4"
   },
   "source": [
    "## Loss functions (10 Points)\n",
    "We need to implement loss functions to be able to train our network. We will implement CrossEntropy loss function. But notice that we have implemented `LogSoftMax` in logarithmic way so input of the following class will be logarithm of probabilities."
   ]
  },
  {
   "cell_type": "code",
   "execution_count": 10,
   "metadata": {
    "id": "HIBN2fmBpYGG"
   },
   "outputs": [],
   "source": [
    "class CrossEntropyLoss(Module):\n",
    "    def __init__(self, mean=False):\n",
    "        self.mean = mean\n",
    "        self.cache = dict()\n",
    "        self.grads = dict()\n",
    "\n",
    "    def _forward(self, logprobs, targets):\n",
    "        \"\"\"\n",
    "        Calculate cross entropy of inputs.\n",
    "\n",
    "        Args:\n",
    "            probs : matrix of probabilities with shape (b,n)\n",
    "            targets : list of samples classes with shape (b,)\n",
    "\n",
    "        Returns:\n",
    "            y : cross entropy loss\n",
    "        \"\"\"\n",
    "        #########################################\n",
    "        ##              Your Code              ##\n",
    "        #########################################\n",
    "        print(\"logprobs: \" + str(logprobs))\n",
    "        print(\"targets: \" + str(targets))\n",
    "        onehot = np.zeros((targets.shape[0], logprobs.shape[1]))\n",
    "        for i in range(len(targets)):\n",
    "            onehot[i,targets[i]] = 1\n",
    "        y = - np.mean(np.sum(logprobs * onehot, axis=1))\n",
    "        print(y)\n",
    "        self.cache = (y, logprobs, targets)\n",
    "        print(\"y\" + str(y))\n",
    "        return y\n",
    "\n",
    "    def backward(self, upstream):\n",
    "        \"\"\"\n",
    "        Calculate gradient of loss w.r.t module input and save them in grads.\n",
    "\n",
    "        Args:\n",
    "            upstream : gradient of loss w.r.t module output (loss)\n",
    "        \"\"\"\n",
    "        #########################################\n",
    "        ##              Your Code              ##\n",
    "        #########################################\n",
    "        y, logprobs, targets = self.cache\n",
    "        grad_scores = np.zeros(logprobs.shape)\n",
    "        b = targets.shape[0]\n",
    "        grad_scores[range(b),targets]=-1/b\n",
    "\n",
    "        # grad_scores = np.exp(upstream) - y\n",
    "\n",
    "        self.grads['x'] = grad_scores"
   ]
  },
  {
   "cell_type": "code",
   "execution_count": 11,
   "metadata": {
    "colab": {
     "base_uri": "https://localhost:8080/"
    },
    "id": "ukI53JPIlRM4",
    "outputId": "6486982f-e51a-46db-e694-5f76bc9fe976"
   },
   "outputs": [
    {
     "output_type": "stream",
     "name": "stdout",
     "text": [
      "logprobs: [[0.52017038 0.23236287 0.3251872  0.72208595 0.85167715]\n",
      " [0.53269596 0.47361539 0.78391185 0.63777088 0.07182642]\n",
      " [0.32034332 0.10049117 0.69225456 0.12600895 0.92614288]\n",
      " [0.31922354 0.33609825 0.62882215 0.90117525 0.666104  ]\n",
      " [0.92976134 0.6194313  0.90802173 0.94987177 0.93107161]\n",
      " [0.79224194 0.08604319 0.04070643 0.40675771 0.24847198]\n",
      " [0.33147263 0.60824867 0.54324746 0.94553857 0.38202003]\n",
      " [0.55075316 0.54006138 0.71693266 0.84301026 0.0527616 ]\n",
      " [0.78408138 0.40101393 0.22580131 0.1017609  0.84123763]\n",
      " [0.99316331 0.35089296 0.8020476  0.13747194 0.31039424]]\n",
      "targets: [1 3 4 0 0 1 4 1 1 4]\n",
      "-0.4764794271163358\n",
      "y-0.4764794271163358\n",
      "logprobs: [[0.52007038 0.23226287 0.3250872  0.72198595 0.85157715]\n",
      " [0.53259596 0.47351539 0.78381185 0.63767088 0.07172642]\n",
      " [0.32024332 0.10039117 0.69215456 0.12590895 0.92604288]\n",
      " [0.31912354 0.33599825 0.62872215 0.90107525 0.666004  ]\n",
      " [0.92966134 0.6193313  0.90792173 0.94977177 0.93097161]\n",
      " [0.79214194 0.08594319 0.04060643 0.40665771 0.24837198]\n",
      " [0.33137263 0.60814867 0.54314746 0.94543857 0.38192003]\n",
      " [0.55065316 0.53996138 0.71683266 0.84291026 0.0526616 ]\n",
      " [0.78398138 0.40091393 0.22570131 0.1016609  0.84113763]\n",
      " [0.99306331 0.35079296 0.8019476  0.13737194 0.31029424]]\n",
      "targets: [1 3 4 0 0 1 4 1 1 4]\n",
      "-0.47637942711633585\n",
      "y-0.47637942711633585\n",
      "Gradient of loss w.r.t output:\n",
      "1\n",
      "Gradient of loss w.r.t input:\n",
      "[[ 0.  -0.1  0.   0.   0. ]\n",
      " [ 0.   0.   0.  -0.1  0. ]\n",
      " [ 0.   0.   0.   0.  -0.1]\n",
      " [-0.1  0.   0.   0.   0. ]\n",
      " [-0.1  0.   0.   0.   0. ]\n",
      " [ 0.  -0.1  0.   0.   0. ]\n",
      " [ 0.   0.   0.   0.  -0.1]\n",
      " [ 0.  -0.1  0.   0.   0. ]\n",
      " [ 0.  -0.1  0.   0.   0. ]\n",
      " [ 0.   0.   0.   0.  -0.1]]\n",
      "Relative error of delta-loss:\n",
      "3.327145416815998e-13\n"
     ]
    }
   ],
   "source": [
    "# check gradient, output must be from o(e-10)\n",
    "ce = CrossEntropyLoss()\n",
    "check_gradient_ce(ce, h=0.0001)"
   ]
  },
  {
   "cell_type": "markdown",
   "metadata": {
    "id": "_8y19G1nlRM5"
   },
   "source": [
    "## Optimization (15 Points)\n",
    "\n",
    "Now that we have our network and loss function, we need to update model paremeters. We can do so by using `Optimizer` class that perform updating rule on model parameters. You need to implement `sgd` and `momentum` strategy for this optimizer. Becarefull to consider regularization update for linear units that require regularization."
   ]
  },
  {
   "cell_type": "code",
   "execution_count": 12,
   "metadata": {
    "id": "pDROgraatB0p"
   },
   "outputs": [],
   "source": [
    "class Optimizer():\n",
    "    \"\"\"\n",
    "    Our main optimization class.\n",
    "    \n",
    "    You can add arguments to _sgd and _momentum function if you need to do so, and\n",
    "    pass this arguments to step function when using optimizer. Don't change __init__\n",
    "    or step function.\n",
    "    \"\"\"\n",
    "\n",
    "    def __init__(self, layers, strategy, lr):\n",
    "        \"\"\"\n",
    "        save layers here in order to update their parameters later.\n",
    "\n",
    "        Args:\n",
    "            layers : model layers (those that we want to update their parameters)\n",
    "            strategy : optimization strategy\n",
    "            lr : learning rate\n",
    "        \"\"\"\n",
    "        self.layers = layers\n",
    "        self.strategy = strategy\n",
    "        self.lr = lr\n",
    "        self.strategies = {\n",
    "            'sgd': self._sgd,\n",
    "            'momentum': self._momentum,\n",
    "        }\n",
    "\n",
    "    def step(self, *args):\n",
    "        \"\"\"\n",
    "        Perform updating strategy on all layers paramters.\n",
    "        \"\"\"\n",
    "        self.strategies[self.strategy](*args)\n",
    "\n",
    "    def _sgd(self):\n",
    "        \"\"\"\n",
    "        Perform sgd update on all parameters of layers\n",
    "        \"\"\"\n",
    "        #########################################\n",
    "        ##              Your Code              ##\n",
    "        #########################################\n",
    "        for l in self.layers:\n",
    "            if hasattr(l, \"params\"):\n",
    "                l.params[\"W\"] += - self.lr * l.grads[\"W\"]\n",
    "                l.params[\"b\"] += - self.lr * l .grads[\"b\"]\n",
    "                if l.reg:\n",
    "                    l.params[\"W\"] += - self.lr * l.grads[\"reg\"]\n",
    "\n",
    "    def _momentum(self):\n",
    "        \"\"\"\n",
    "        Perform momentum update on all parameters of layers\n",
    "        \"\"\"\n",
    "        #########################################\n",
    "        ##              Your Code              ##\n",
    "        #########################################\n",
    "\n",
    "        ### START CODE HERE ### (approx. 2 lines)\n",
    "        v = {}\n",
    "        for l in range(len(self.layers)):\n",
    "            v[\"dW\"+ str(l + 1)] = np.zeros_like(l.params[\"W\"])\n",
    "            v[\"db\"+ str(l + 1)] = np.zeros_like(l.params[\"b\"])\n",
    "\n",
    "        for l in self.layers:\n",
    "            v[\"dW\"+str(l + 1)] = self._momentum() * v[\"dW\" + str(l + 1)] + (1 - self._momentum()) * l.grads['W']\n",
    "            v[\"db\"+str(l + 1)] = self._momentum() * v[\"db\" + str(l + 1)] + (1 - self._momentum()) * l.grads['b']\n",
    "            l.params[\"W\"] = l.params[\"W\"] - self.lr * v[\"dW\" + str(l + 1)]\n",
    "            l.params[\"b\"] = l.params[\"W\"] - self.lr * v[\"db\" + str(l + 1)]\n"
   ]
  },
  {
   "cell_type": "markdown",
   "metadata": {
    "id": "6rKO-bK_lRM5"
   },
   "source": [
    "# Section 2: CIFAR-10 Classification (35 Points)\n",
    "\n",
    "Now that we can build a neural network we want to solve CIFAR-10 classification problem. This dataset consists of 60000 $32 \\times 32$ coloured images in 10 classes."
   ]
  },
  {
   "cell_type": "markdown",
   "metadata": {
    "id": "yQys4D1-lRM5"
   },
   "source": [
    "## Data preparation (5 Points)"
   ]
  },
  {
   "cell_type": "code",
   "execution_count": 16,
   "metadata": {
    "colab": {
     "base_uri": "https://localhost:8080/"
    },
    "id": "HlddPHdzlRM5",
    "outputId": "1830c8bb-d91d-4ec4-d4c0-b5d8fccaf654"
   },
   "outputs": [
    {
     "output_type": "stream",
     "name": "stdout",
     "text": [
      "/bin/bash: ./cifar10_downloader.bash: Permission denied\n"
     ]
    }
   ],
   "source": [
    "#################################################\n",
    "##      Run this cell to download dataset      ##\n",
    "##         the dataset is about 150 MB         ##\n",
    "#################################################\n",
    "!./cifar10_downloader.bash"
   ]
  },
  {
   "cell_type": "code",
   "execution_count": 17,
   "metadata": {
    "colab": {
     "base_uri": "https://localhost:8080/"
    },
    "id": "mftOoQfAlRM6",
    "outputId": "5cc79b86-0cbe-4d15-e48f-23b8ffc81b19"
   },
   "outputs": [
    {
     "output_type": "stream",
     "name": "stdout",
     "text": [
      "X_train: (4000, 32, 32, 3)\n",
      "Y_train: (4000,)\n",
      "X_test: (1000, 32, 32, 3)\n",
      "Y_test: (1000,)\n"
     ]
    }
   ],
   "source": [
    "#############################################\n",
    "##      Run this cell to load dataset      ##\n",
    "#############################################\n",
    "data = load_dataset(train_num=4000, test_num=1000)\n",
    "\n",
    "for k in data.keys():\n",
    "    print(f'{k}: {data[k].shape}')"
   ]
  },
  {
   "cell_type": "code",
   "execution_count": 19,
   "metadata": {
    "colab": {
     "base_uri": "https://localhost:8080/"
    },
    "id": "iQsWc7B7lRM6",
    "outputId": "7ec6bfff-95f2-4198-c70a-e389677dc7b4"
   },
   "outputs": [
    {
     "output_type": "stream",
     "name": "stdout",
     "text": [
      "X_train: (3200, 32, 32, 3)\n",
      "Y_train: (3200,)\n",
      "X_test: (1000, 32, 32, 3)\n",
      "Y_test: (1000,)\n",
      "X_val: (800, 32, 32, 3)\n",
      "Y_val: (800,)\n"
     ]
    }
   ],
   "source": [
    "##############################################\n",
    "##      Split train set to train/val        ##\n",
    "################[Your Code]###################\n",
    "indices = list(range(len(data[\"X_train\"])))\n",
    "np.random.shuffle(indices)\n",
    "val = int(len(data[\"X_train\"]) * 0.2)\n",
    "data[\"X_val\"]=data[\"X_train\"][indices[0:val],:,: ]\n",
    "data[\"Y_val\"]=data[\"Y_train\"][indices[0:val]]\n",
    "data[\"X_train\"]=np.delete(data[\"X_train\"],indices[0:val], axis=0)\n",
    "data[\"Y_train\"]=np.delete(data[\"Y_train\"],indices[0:val], axis=0 )\n",
    "##############################################\n",
    "for k in data.keys():\n",
    "    print(f'{k}: {data[k].shape}')"
   ]
  },
  {
   "cell_type": "code",
   "execution_count": 23,
   "metadata": {
    "colab": {
     "base_uri": "https://localhost:8080/",
     "height": 704
    },
    "id": "ZxzK-mjalRM6",
    "outputId": "c9f2128e-6dad-4cf2-f0de-d142b263194d"
   },
   "outputs": [
    {
     "output_type": "display_data",
     "data": {
      "text/plain": [
       "<Figure size 864x864 with 25 Axes>"
      ],
      "image/png": "[encoded data removed]"
     },
     "metadata": {}
    }
   ],
   "source": [
    "##################################################\n",
    "##      Visualize 5 samples from each class     ##\n",
    "##################[Your Code]#####################\n",
    "class_num = np.max(data[\"Y_train\"]) - np.min(data[\"Y_train\"]) + 1\n",
    "_, axs = plt.subplots(5, 5, figsize=(12, 12))\n",
    "axs = axs.flatten()\n",
    "imgs = []\n",
    "labels = []\n",
    "for i in range(np.min(data[\"Y_train\"]), np.max(data[\"Y_train\"])+1):\n",
    "  class_i = np.where(data['Y_train']==i)[0]\n",
    "  for j in range(5):\n",
    "    imgs.append(data['X_train'][class_i[j]])\n",
    "    labels.append('class:'+str(i))\n",
    "for img, ax, label in zip(imgs, axs, labels):\n",
    "        ax.imshow(img)\n",
    "        ax.set_xticks([])\n",
    "        ax.set_yticks([])\n",
    "        ax.set_title(label)\n",
    "plt.show()"
   ]
  },
  {
   "cell_type": "code",
   "execution_count": 24,
   "metadata": {
    "colab": {
     "base_uri": "https://localhost:8080/"
    },
    "id": "WJXxZGmBlRM6",
    "outputId": "c7acfaa4-c67c-4878-b845-5aa173548c82"
   },
   "outputs": [
    {
     "output_type": "stream",
     "name": "stdout",
     "text": [
      "X_train: (3200, 32, 32, 3)\n",
      "Y_train: (3200,)\n",
      "X_test: (1000, 32, 32, 3)\n",
      "Y_test: (1000,)\n",
      "X_val: (800, 32, 32, 3)\n",
      "Y_val: (800,)\n",
      "X_train_flattened: (3200, 3072)\n",
      "X_val_flattened: (800, 3072)\n",
      "X_test_flattened: (1000, 3072)\n"
     ]
    }
   ],
   "source": [
    "#####################################################\n",
    "##             Normalize and flatten X             ##\n",
    "####################[Your Code]######################\n",
    "mean = np.mean(data[\"X_train\"])\n",
    "std = np.std(data[\"X_train\"])\n",
    "data[\"X_train\"]-= mean\n",
    "data[\"X_val\"]-= mean\n",
    "data[\"X_test\"]-= mean\n",
    "data[\"X_train\"]/= std\n",
    "data[\"X_val\"]/= std\n",
    "data[\"X_test\"]/= std\n",
    "\n",
    "data[\"X_train_flattened\"]=data[\"X_train\"].reshape(data[\"X_train\"].shape[0],-1)\n",
    "data[\"X_val_flattened\"]=data[\"X_val\"].reshape(data[\"X_val\"].shape[0],-1)\n",
    "data[\"X_test_flattened\"]=data[\"X_test\"].reshape(data[\"X_test\"].shape[0],-1)\n",
    "\n",
    "\n",
    "\n",
    "#####################################################\n",
    "for k in data.keys():\n",
    "    print(f'{k}: {data[k].shape}')"
   ]
  },
  {
   "cell_type": "markdown",
   "metadata": {
    "id": "k5OyEVhrlRM7"
   },
   "source": [
    "## Train and Test Model (25 Points)"
   ]
  },
  {
   "cell_type": "markdown",
   "metadata": {
    "id": "CeByBwpilRM7"
   },
   "source": [
    "### Batch Sampler\n",
    "We need to sample bathces from our dataset to train model. Complete the following class to have a random sampler."
   ]
  },
  {
   "cell_type": "code",
   "execution_count": 25,
   "metadata": {
    "id": "jeJEANGwlRM7"
   },
   "outputs": [],
   "source": [
    "class RandomSampler(object):\n",
    "    def __init__(self, batch_size, dataset, type):\n",
    "        \"\"\"\n",
    "        Args:\n",
    "            batch_size : sampler batch size\n",
    "            dataset : dataset we want to get batch from that\n",
    "            type : one of {'train', 'test', 'val'}\n",
    "        \"\"\"\n",
    "        self.batch_size = batch_size\n",
    "        self.dataset = dataset\n",
    "        self.x_key = f'X_{type}'\n",
    "        self.y_key = f'Y_{type}'\n",
    "        self.indices = []\n",
    "        self.num_batches =  int(dataset.shape[0]/batch_size)\n",
    "        ################################################################\n",
    "        ##       Build batches indices and store them in indices      ##\n",
    "        ##          Also store number of batches in num_batches       ##\n",
    "        ##                          Your Code                         ##\n",
    "        ################################################################\n",
    "        indices=np.array(list(range(dataset.shape[0])))\n",
    "        np.random.shuffle(indices)\n",
    "        self.indices=indices.reshape(self.num_batches,batch_size)\n",
    "\n",
    "    def __len__(self):\n",
    "        assert type(self.num_batches) == int\n",
    "        return self.num_batches\n",
    "\n",
    "    def __iter__(self):\n",
    "        \"\"\"\n",
    "        This function call when we iterate an object of this class and\n",
    "        yields one batch on each call.\n",
    "\n",
    "        Yields:\n",
    "            (x, y) : tuple of bathces of x and y\n",
    "        \"\"\"\n",
    "        for idx in self.indices:\n",
    "            x = self.dataset[self.x_key][idx]\n",
    "            y = self.dataset[self.y_key][idx]\n",
    "            yield x, y\n"
   ]
  },
  {
   "cell_type": "markdown",
   "metadata": {
    "id": "Vlgj2J1KlRM7"
   },
   "source": [
    "Fill the following functions to update a confusion matrix and calculate f1 score for a confusion matrix. For multi class f1 score read [here](https://towardsdatascience.com/multi-class-metrics-made-simple-part-ii-the-f1-score-ebe8b2c2ca1)."
   ]
  },
  {
   "cell_type": "code",
   "execution_count": 27,
   "metadata": {
    "id": "F009GMjblRM7"
   },
   "outputs": [],
   "source": [
    "def update_confusion_matrix(conf_matrix, preds, reals):\n",
    "    \"\"\"\n",
    "    Updates confusion matrix\n",
    "\n",
    "    Args:\n",
    "        conf_matrix : input confusion matrix\n",
    "        preds : array of predicted labels\n",
    "        reals : array of real labels\n",
    "\n",
    "    Returns:\n",
    "        conf_matrix : updated confusion matrix\n",
    "    \"\"\"\n",
    "    #################################\n",
    "    ##          Your Code          ##\n",
    "    #################################\n",
    "    for i in range(len(preds)):\n",
    "        conf_matrix[preds[i], reals[i]]+=1\n",
    "    return conf_matrix\n",
    "\n",
    "\n",
    "def f1_score(confusion_matrix):\n",
    "    \"\"\"\n",
    "    calculate macro f1 score from given confusion matrix\n",
    "\n",
    "    Args:\n",
    "        confusion_matrix : given confusion matrix\n",
    "        \n",
    "    Returns:\n",
    "        f1 : macro f1 score\n",
    "    \"\"\"\n",
    "    #################################\n",
    "    ##          Your Code          ##\n",
    "    #################################\n",
    "  \n",
    "    TP = 0\n",
    "    FP = 0\n",
    "    TN = 0\n",
    "    FN = 0\n",
    "\n",
    "    conf_cop = confusion_matrix.copy()\n",
    "\n",
    "    for j in range(len(conf_cop)):\n",
    "        if (i == j):\n",
    "            TP += conf_cop[i, j]\n",
    "            tmp = np.delete(conf_cop, i, 0)\n",
    "            tmp = np.delete(tmp, j, 1)\n",
    "            TN += np.sum(tmp)\n",
    "        else:\n",
    "            if (conf_cop[i, j] != 0):\n",
    "                FN += conf_cop[i, j]\n",
    "            if (conf_cop[j, i] != 0):\n",
    "                FP += conf_cop[j, i]\n",
    "\n",
    "    recall = TP / (FN + TP)\n",
    "    precision = TP / (TP + FP)\n",
    "    f1_score = 2 * 1/(1/recall + 1/precision)\n",
    "    \n",
    "    return f1_score"
   ]
  },
  {
   "cell_type": "markdown",
   "metadata": {
    "id": "0mFdDNq3lRM7"
   },
   "source": [
    "### Define Model\n",
    "Define an MLP model to solve classification problem."
   ]
  },
  {
   "cell_type": "code",
   "execution_count": 28,
   "metadata": {
    "id": "eN17wv7flRM8"
   },
   "outputs": [],
   "source": [
    "###############################################\n",
    "##             Define your model             ##\n",
    "##     use a good initializer for layers     ##\n",
    "###############################################\n",
    "initializer = lambda x, y: np.random.normal(size=(y, x))\n",
    "linear = LinearLayer(3072, 12, initializer, reg=False, alpha=1)\n",
    "layers = [linear]\n",
    "model = MLPModel(layers)"
   ]
  },
  {
   "cell_type": "code",
   "execution_count": 29,
   "metadata": {
    "id": "GXF8nJLhlRM8"
   },
   "outputs": [],
   "source": [
    "#########################################\n",
    "##          Hyper parameters           ##\n",
    "#########################################\n",
    "n_epochs = 10\n",
    "batch_size = 100\n",
    "lr = 0.1\n",
    "reg_coeff = 0.01"
   ]
  },
  {
   "cell_type": "code",
   "execution_count": 30,
   "metadata": {
    "id": "AFAxJGZmlRM8"
   },
   "outputs": [],
   "source": [
    "##################################################\n",
    "##      Define optimizer, loss and sampler      ##\n",
    "##################################################\n",
    "optimizer =  Optimizer(layers,'sgd',lr)\n",
    "criterion = CrossEntropyLoss()\n",
    "train_sampler = RandomSampler(batch_size,data[\"X_train_flattened\"],\"train\")\n",
    "val_sampler =  RandomSampler(batch_size,data[\"X_val_flattened\"],\"val\")\n",
    "test_sampler =  RandomSampler(batch_size,data[\"X_test_flattened\"],\"test\")\n"
   ]
  },
  {
   "cell_type": "markdown",
   "metadata": {
    "id": "My3vpyftlRM8"
   },
   "source": [
    "### Train Model\n",
    "\n",
    "Fill in the below cell to train the model. Store each epoch loss, accuracy and f1-score. Use f1-score to choose best epoch.\n",
    "\n",
    "**Note1**: To do backpropagation you need to first call `backward` function of criterion with 1 as its argument to have gradient of loss w.r.t output of this module and then using model `backward` function with `criterion.grads['x']` argument.\n",
    "\n",
    "**Note2**: You can ignore regularization term in your total loss value and just use criterion, but you must consider that during updating."
   ]
  },
  {
   "cell_type": "code",
   "execution_count": null,
   "metadata": {
    "id": "ZQ5ZizzXlRM8"
   },
   "outputs": [],
   "source": [
    "#########################################\n",
    "##      Train and Validation loop      ##\n",
    "#########################################\n",
    "train_losses, val_losses = [], []\n",
    "train_accs, val_accs = [], []\n",
    "train_f1, val_f1 = [], []\n",
    "best_model = None\n",
    "best_f1 = 0\n",
    "\n",
    "for epoch in range(n_epochs):\n",
    "    \n",
    "    # Train Phase\n",
    "    total_loss = 0\n",
    "    N = 0\n",
    "    confusion = np.zeros((10, 10))\n",
    "    with tqdm.tqdm(enumerate(train_sampler), total=len(train_sampler)) as pbar:\n",
    "        for i, (x, y) in pbar:\n",
    "            #################################\n",
    "            ##          Your Code          ##\n",
    "            #################################\n",
    "            y_pred = model._forward(x)\n",
    "            acc = np.sum(y_pred == y) / len(y)\n",
    "            update_confusion_matrix(confusion, y_pred, y)\n",
    "            f1 = f1_score(confusion)\n",
    "            \n",
    "            pbar.set_description(f'Train {epoch} | Loss:{total_loss/N:.2e} | Acc: {acc:.2f}| F1: {f1:.2f}|')\n",
    "    \n",
    "    # save epoch metrics for train phase\n",
    "    train_losses.append(total_loss/N)\n",
    "    train_accs.append(acc)\n",
    "    train_f1.append(f1)\n",
    "    \n",
    "\n",
    "    # Validation Phase\n",
    "    total_loss = 0\n",
    "    N = 0\n",
    "    confusion = np.zeros((10, 10))\n",
    "    with tqdm.tqdm(enumerate(val_sampler), total=len(val_sampler)) as pbar:\n",
    "        for i, (x, y) in pbar:\n",
    "            #################################\n",
    "            ##          Your Code          ##\n",
    "            #################################\n",
    "            \n",
    "            acc = None\n",
    "            f1 = None\n",
    "            pbar.set_description(f'Val   {epoch} | Loss:{total_loss/N:.2e} | Acc: {acc:.2f}| F1: {f1:.2f}|')\n",
    "    \n",
    "    # save epoch metrics for validation phase\n",
    "    val_losses.append(total_loss/N)\n",
    "    val_accs.append(acc)\n",
    "    val_f1.append(f1)\n",
    "    \n",
    "    \n",
    "    #################################\n",
    "    ##       update best model     ##\n",
    "    ##          Your Code          ##\n",
    "    #################################\n",
    "    \n",
    "    \n",
    "    print(f'----------------------------[Epoch{epoch+1} finished!]----------------------------')"
   ]
  },
  {
   "cell_type": "markdown",
   "metadata": {
    "id": "ALt6fa1AlRM9"
   },
   "source": [
    "### Test Model"
   ]
  },
  {
   "cell_type": "code",
   "execution_count": null,
   "metadata": {
    "id": "HtbwywmxlRM9"
   },
   "outputs": [],
   "source": [
    "######################################################################\n",
    "##      Plot train and validation loss, accuracy and f1 graphs      ##\n",
    "######################################################################\n"
   ]
  },
  {
   "cell_type": "code",
   "execution_count": null,
   "metadata": {
    "id": "JaknI9EElRM9"
   },
   "outputs": [],
   "source": [
    "############################################################\n",
    "##                  Test your best model                  ##\n",
    "##          Report loss, accuracy and f1 metrics          ##\n",
    "##      Also plot the confusion matrix for test data      ##\n",
    "############################################################\n"
   ]
  },
  {
   "cell_type": "markdown",
   "metadata": {
    "id": "iIklBJpflRM9"
   },
   "source": [
    "## Weights Visualization (5 Points)\n",
    "\n",
    "For the last part we want to visualize weights matrix of the first layer."
   ]
  },
  {
   "cell_type": "code",
   "execution_count": null,
   "metadata": {
    "id": "MEWW2vfElRM9"
   },
   "outputs": [],
   "source": [
    "##########################################################\n",
    "##          Visualize n of first layer weights          ##\n",
    "##          First reshape them to (32, 32, 3)           ##\n",
    "##########################################################\n",
    "n = 5\n"
   ]
  }
 ],
 "metadata": {
  "colab": {
   "provenance": []
  },
  "kernelspec": {
   "display_name": "Python 3 (ipykernel)",
   "language": "python",
   "name": "python3"
  },
  "language_info": {
   "codemirror_mode": {
    "name": "ipython",
    "version": 3
   },
   "file_extension": ".py",
   "mimetype": "text/x-python",
   "name": "python",
   "nbconvert_exporter": "python",
   "pygments_lexer": "ipython3",
   "version": "3.9.7"
  },
  "vscode": {
   "interpreter": {
    "hash": "81794d4967e6c3204c66dcd87b604927b115b27c00565d3d43f05ba2f3a2cb0d"
   }
  }
 },
 "nbformat": 4,
 "nbformat_minor": 0
}
