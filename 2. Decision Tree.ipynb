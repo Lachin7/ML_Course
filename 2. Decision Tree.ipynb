{
 "cells": [
  {
   "cell_type": "markdown",
   "id": "6baf2598",
   "metadata": {
    "ExecuteTime": {
     "end_time": "2022-10-22T21:06:33.084910Z",
     "start_time": "2022-10-22T21:06:33.065246Z"
    }
   },
   "source": [
    "<br><font face=\"Times New Roman\" size=5><div dir=ltr align=center>\n",
    "<font color=blue size=8>\n",
    "    Introduction to Machine Learning <br>\n",
    "<font color=red size=5>\n",
    "    Sharif University of Technology - Computer Engineering Department <br>\n",
    "    Fall 2022<br> <br>\n",
    "<font color=black size=6>\n",
    "    Homework 2: Practical - Decision Tree   \n",
    "<font color=black size=4>\n",
    "    Hamidreza Yaghoubi \n",
    "    \n",
    "<br><br>\n",
    "<font size=4>\n",
    "In this homework, we are going to implement the Classification Decision Tree. Keep in mind to complete all of the following questions and write your own codes in the TODO cells."
   ]
  },
  {
   "cell_type": "markdown",
   "id": "bd3871b7",
   "metadata": {},
   "source": [
    "<font face=\"Times New Roman\" size=4><div dir=ltr>\n",
    "# Problem 2: Classification Decision Tree (100 points)\n",
    "We will implement a Classification Decision Tree from scratch in the following problem. Then we will use our model to predict malignant and benign breast cancer. For this purpose, we will use the breast_cancer.csv dataset which you can find more details about it <a href=\"https://www.kaggle.com/datasets/merishnasuwal/breast-cancer-prediction-dataset\"><font face=\"Roboto\">here</font></a>."
   ]
  },
  {
   "cell_type": "code",
   "execution_count": 1,
   "id": "ccdebb27",
   "metadata": {
    "ExecuteTime": {
     "end_time": "2022-10-22T21:30:24.876526Z",
     "start_time": "2022-10-22T21:30:24.439793Z"
    }
   },
   "outputs": [],
   "source": [
    "import matplotlib.pyplot as plt\n",
    "import pandas as pd\n",
    "from sklearn.model_selection import train_test_split\n",
    "from sklearn.metrics import accuracy_score\n",
    "from math import log\n",
    "import random"
   ]
  },
  {
   "cell_type": "markdown",
   "id": "e2307c50",
   "metadata": {},
   "source": [
    "<font face=\"Times New Roman\" size=4><div dir=ltr>\n",
    "## Classification Decision Tree Class (60 points)\n",
    "In this section, you only need to fill TODO parts. You can find the logic and formula in both course slides and the web, but fill it out on your own. "
   ]
  },
  {
   "cell_type": "code",
   "execution_count": 2,
   "id": "618baebb",
   "metadata": {
    "ExecuteTime": {
     "end_time": "2022-10-22T21:30:25.034364Z",
     "start_time": "2022-10-22T21:30:25.021627Z"
    }
   },
   "outputs": [],
   "source": [
    "class Node:\n",
    "    def __init__(self, feature=None, threshold=None, left=None, right=None, value=None):\n",
    "        self.feature = feature\n",
    "        self.threshold = threshold\n",
    "        self.left = left\n",
    "        self.right = right\n",
    "        self.value = value\n",
    "\n",
    "    def is_leaf(self):\n",
    "        if self.value is not None:\n",
    "            return True\n",
    "        return False"
   ]
  },
  {
   "cell_type": "code",
   "execution_count": 3,
   "id": "71b3b483",
   "metadata": {
    "ExecuteTime": {
     "end_time": "2022-10-22T21:30:25.439792Z",
     "start_time": "2022-10-22T21:30:25.404649Z"
    }
   },
   "outputs": [],
   "source": [
    "import numpy as np\n",
    "\n",
    "\n",
    "class DecisionTree:\n",
    "    def __init__(self, max_depth=None, min_samples_split=2):\n",
    "        self.max_depth = max_depth\n",
    "        self.min_samples_split = min_samples_split\n",
    "        self.root = None\n",
    "\n",
    "    def is_splitting_finished(self, depth, num_class_labels, num_samples):\n",
    "\n",
    "        if depth >= self.max_depth or num_samples <= self.min_samples_split or num_class_labels == 1:\n",
    "            return True\n",
    "\n",
    "        return False\n",
    "\n",
    "    def split(self, X, y, feature, threshold):\n",
    "        left_indexes = X[feature] <= threshold\n",
    "        right_indexes = -left_indexes\n",
    "        X_left = X[left_indexes]\n",
    "        y_left = y[left_indexes]\n",
    "        X_right = X[right_indexes]\n",
    "        y_right = y[right_indexes]\n",
    "\n",
    "        return X_left, X_right, y_left, y_right\n",
    "\n",
    "    def entropy(self, y):\n",
    "        \n",
    "        p1 = np.count_nonzero(np.asarray(y)==1) / len(y)\n",
    "        if p1 == 0 or p1 == 1:\n",
    "            return 0\n",
    "        return - p1 * log(p1,2) - (1-p1) * log(1-p1,2)\n",
    "\n",
    "\n",
    "    def information_gain(self, X, y, feature, threshold):\n",
    "        X_left, X_right, y_left, y_right = self.split(X, y, feature, threshold)\n",
    "        H_y = self.entropy(y)\n",
    "        p = len(X[X[feature] >= threshold]) / len(X)\n",
    "        H_y_given_x = 0\n",
    "        if len(y_left) != 0:\n",
    "            H_y_given_x += (1-p) * self.entropy(y_left)\n",
    "        else:\n",
    "            return H_y - self.entropy(y_right)\n",
    "        if len(y_right) != 0:\n",
    "            H_y_given_x += p * self.entropy(y_right)\n",
    "        else:\n",
    "            return H_y - self.entropy(y_left)\n",
    "\n",
    "        return H_y - H_y_given_x\n",
    "\n",
    "    def best_split(self, X, y):\n",
    "        features = list(X.columns.values)\n",
    "        random.shuffle(features)\n",
    "        best_information_gain = 0\n",
    "        best_feature = None\n",
    "        best_threshold = None\n",
    "        for feature in features:\n",
    "            thresholds = list(set(list(X[feature])))\n",
    "            for threshold in thresholds:\n",
    "                info_gain = self.information_gain(X, y, feature, threshold)\n",
    "                if info_gain >= best_information_gain:\n",
    "                    best_information_gain = info_gain\n",
    "                    best_feature = feature\n",
    "                    best_threshold = threshold\n",
    "        return best_feature, best_threshold\n",
    "\n",
    "    def build_tree(self, X, y, depth=0):\n",
    "        if self.is_splitting_finished(depth, len(X.columns), len(X)):\n",
    "            return None\n",
    "\n",
    "        best_feature, best_threshold = self.best_split(X, y)\n",
    "        X_left, X_right, y_left, y_right = self.split(X, y, best_feature, best_threshold)\n",
    "\n",
    "        left_node = self.build_tree(X_left, y_left, depth=depth + 1)\n",
    "        right_node = self.build_tree(X_right, y_right, depth=depth + 1)\n",
    "\n",
    "        value = None\n",
    "        if left_node is None or right_node is None:\n",
    "            true_value = len(y[y['diagnosis'] == 1])\n",
    "            false_value = len(y[y['diagnosis'] == 0])\n",
    "            if true_value >= false_value:\n",
    "                value = 1\n",
    "            else:\n",
    "                value = 0\n",
    "\n",
    "        return Node(feature=best_feature, threshold=best_threshold, left=left_node, right=right_node, value=value)\n",
    "\n",
    "    def fit(self, X, y):\n",
    "        self.root = self.build_tree(X, y)\n",
    "\n",
    "    def predict(self, X):\n",
    "        tree = self.root\n",
    "        predicted_value = []\n",
    "        for index in list(X.index):\n",
    "            data = X.loc[index]\n",
    "            current_tree = tree\n",
    "            for depth in range(self.max_depth):\n",
    "                if Node.is_leaf(current_tree):\n",
    "                    predicted_value.append(current_tree.value)\n",
    "                    break\n",
    "                feature = current_tree.feature\n",
    "                threshold = current_tree.threshold\n",
    "                if data[feature] <= threshold:\n",
    "                    current_tree = current_tree.left\n",
    "                if data[feature] > threshold:\n",
    "                    current_tree = current_tree.right\n",
    "\n",
    "        return predicted_value"
   ]
  },
  {
   "cell_type": "markdown",
   "id": "8e2197f0",
   "metadata": {},
   "source": [
    "<font face=\"Times New Roman\" size=4><div dir=ltr>\n",
    "## Data Prepration (20 points)\n",
    "In this section, you must perform a good EDA for data. Then split it into train and validation data. We will then use the validation data to find the best model hyperparameters.  "
   ]
  },
  {
   "cell_type": "code",
   "execution_count": 4,
   "id": "da5a4d94",
   "metadata": {
    "ExecuteTime": {
     "end_time": "2022-10-22T21:30:26.199958Z",
     "start_time": "2022-10-22T21:30:26.192910Z"
    }
   },
   "outputs": [],
   "source": [
    "breast_cancer_pdf = pd.read_csv(\"breast_cancer.csv\")"
   ]
  },
  {
   "cell_type": "code",
   "execution_count": 5,
   "id": "27207399",
   "metadata": {
    "ExecuteTime": {
     "end_time": "2022-10-22T21:30:28.478997Z",
     "start_time": "2022-10-22T21:30:28.476044Z"
    }
   },
   "outputs": [
    {
     "name": "stdout",
     "output_type": "stream",
     "text": [
      "<class 'pandas.core.frame.DataFrame'>\n",
      "RangeIndex: 569 entries, 0 to 568\n",
      "Data columns (total 6 columns):\n",
      " #   Column           Non-Null Count  Dtype  \n",
      "---  ------           --------------  -----  \n",
      " 0   mean_radius      569 non-null    float64\n",
      " 1   mean_texture     569 non-null    float64\n",
      " 2   mean_perimeter   569 non-null    float64\n",
      " 3   mean_area        569 non-null    float64\n",
      " 4   mean_smoothness  569 non-null    float64\n",
      " 5   diagnosis        569 non-null    int64  \n",
      "dtypes: float64(5), int64(1)\n",
      "memory usage: 26.8 KB\n"
     ]
    }
   ],
   "source": [
    "import pandas as pd\n",
    "\n",
    "df = pd.read_csv('breast_cancer.csv')\n",
    "\n",
    "df.info()"
   ]
  },
  {
   "cell_type": "markdown",
   "source": [
    "We can see the dataset information and it doesn't contain null data, and we can see the columns and data types of each. Since it doesn't have any missing, null or object or string values, there is no need for data cleaning.\n",
    "We can also get the summary of statistics:"
   ],
   "metadata": {
    "collapsed": false
   }
  },
  {
   "cell_type": "code",
   "execution_count": 6,
   "outputs": [
    {
     "data": {
      "text/plain": "       mean_radius  mean_texture  mean_perimeter  mean_area  mean_smoothness  \\\ncount       569.00        569.00          569.00     569.00           569.00   \nmean         14.13         19.29           91.97     654.89             0.10   \nstd           3.52          4.30           24.30     351.91             0.01   \nmin           6.98          9.71           43.79     143.50             0.05   \n25%          11.70         16.17           75.17     420.30             0.09   \n50%          13.37         18.84           86.24     551.10             0.10   \n75%          15.78         21.80          104.10     782.70             0.11   \nmax          28.11         39.28          188.50    2501.00             0.16   \n\n       diagnosis  \ncount     569.00  \nmean        0.63  \nstd         0.48  \nmin         0.00  \n25%         0.00  \n50%         1.00  \n75%         1.00  \nmax         1.00  ",
      "text/html": "<div>\n<style scoped>\n    .dataframe tbody tr th:only-of-type {\n        vertical-align: middle;\n    }\n\n    .dataframe tbody tr th {\n        vertical-align: top;\n    }\n\n    .dataframe thead th {\n        text-align: right;\n    }\n</style>\n<table border=\"1\" class=\"dataframe\">\n  <thead>\n    <tr style=\"text-align: right;\">\n      <th></th>\n      <th>mean_radius</th>\n      <th>mean_texture</th>\n      <th>mean_perimeter</th>\n      <th>mean_area</th>\n      <th>mean_smoothness</th>\n      <th>diagnosis</th>\n    </tr>\n  </thead>\n  <tbody>\n    <tr>\n      <th>count</th>\n      <td>569.00</td>\n      <td>569.00</td>\n      <td>569.00</td>\n      <td>569.00</td>\n      <td>569.00</td>\n      <td>569.00</td>\n    </tr>\n    <tr>\n      <th>mean</th>\n      <td>14.13</td>\n      <td>19.29</td>\n      <td>91.97</td>\n      <td>654.89</td>\n      <td>0.10</td>\n      <td>0.63</td>\n    </tr>\n    <tr>\n      <th>std</th>\n      <td>3.52</td>\n      <td>4.30</td>\n      <td>24.30</td>\n      <td>351.91</td>\n      <td>0.01</td>\n      <td>0.48</td>\n    </tr>\n    <tr>\n      <th>min</th>\n      <td>6.98</td>\n      <td>9.71</td>\n      <td>43.79</td>\n      <td>143.50</td>\n      <td>0.05</td>\n      <td>0.00</td>\n    </tr>\n    <tr>\n      <th>25%</th>\n      <td>11.70</td>\n      <td>16.17</td>\n      <td>75.17</td>\n      <td>420.30</td>\n      <td>0.09</td>\n      <td>0.00</td>\n    </tr>\n    <tr>\n      <th>50%</th>\n      <td>13.37</td>\n      <td>18.84</td>\n      <td>86.24</td>\n      <td>551.10</td>\n      <td>0.10</td>\n      <td>1.00</td>\n    </tr>\n    <tr>\n      <th>75%</th>\n      <td>15.78</td>\n      <td>21.80</td>\n      <td>104.10</td>\n      <td>782.70</td>\n      <td>0.11</td>\n      <td>1.00</td>\n    </tr>\n    <tr>\n      <th>max</th>\n      <td>28.11</td>\n      <td>39.28</td>\n      <td>188.50</td>\n      <td>2501.00</td>\n      <td>0.16</td>\n      <td>1.00</td>\n    </tr>\n  </tbody>\n</table>\n</div>"
     },
     "metadata": {},
     "output_type": "display_data"
    }
   ],
   "source": [
    "display(df.describe().round(2))"
   ],
   "metadata": {
    "collapsed": false
   }
  },
  {
   "cell_type": "code",
   "execution_count": 7,
   "outputs": [
    {
     "data": {
      "text/plain": "   mean_radius  mean_texture  mean_perimeter  mean_area  mean_smoothness  \\\n0        17.99         10.38          122.80     1001.0          0.11840   \n1        20.57         17.77          132.90     1326.0          0.08474   \n2        19.69         21.25          130.00     1203.0          0.10960   \n3        11.42         20.38           77.58      386.1          0.14250   \n4        20.29         14.34          135.10     1297.0          0.10030   \n\n   diagnosis  \n0          0  \n1          0  \n2          0  \n3          0  \n4          0  ",
      "text/html": "<div>\n<style scoped>\n    .dataframe tbody tr th:only-of-type {\n        vertical-align: middle;\n    }\n\n    .dataframe tbody tr th {\n        vertical-align: top;\n    }\n\n    .dataframe thead th {\n        text-align: right;\n    }\n</style>\n<table border=\"1\" class=\"dataframe\">\n  <thead>\n    <tr style=\"text-align: right;\">\n      <th></th>\n      <th>mean_radius</th>\n      <th>mean_texture</th>\n      <th>mean_perimeter</th>\n      <th>mean_area</th>\n      <th>mean_smoothness</th>\n      <th>diagnosis</th>\n    </tr>\n  </thead>\n  <tbody>\n    <tr>\n      <th>0</th>\n      <td>17.99</td>\n      <td>10.38</td>\n      <td>122.80</td>\n      <td>1001.0</td>\n      <td>0.11840</td>\n      <td>0</td>\n    </tr>\n    <tr>\n      <th>1</th>\n      <td>20.57</td>\n      <td>17.77</td>\n      <td>132.90</td>\n      <td>1326.0</td>\n      <td>0.08474</td>\n      <td>0</td>\n    </tr>\n    <tr>\n      <th>2</th>\n      <td>19.69</td>\n      <td>21.25</td>\n      <td>130.00</td>\n      <td>1203.0</td>\n      <td>0.10960</td>\n      <td>0</td>\n    </tr>\n    <tr>\n      <th>3</th>\n      <td>11.42</td>\n      <td>20.38</td>\n      <td>77.58</td>\n      <td>386.1</td>\n      <td>0.14250</td>\n      <td>0</td>\n    </tr>\n    <tr>\n      <th>4</th>\n      <td>20.29</td>\n      <td>14.34</td>\n      <td>135.10</td>\n      <td>1297.0</td>\n      <td>0.10030</td>\n      <td>0</td>\n    </tr>\n  </tbody>\n</table>\n</div>"
     },
     "execution_count": 7,
     "metadata": {},
     "output_type": "execute_result"
    }
   ],
   "source": [
    "df.head()"
   ],
   "metadata": {
    "collapsed": false
   }
  },
  {
   "cell_type": "code",
   "execution_count": 8,
   "outputs": [
    {
     "data": {
      "text/plain": "                 mean_radius  mean_texture  mean_perimeter  mean_area  \\\nmean_radius         1.000000      0.323782        0.997855   0.987357   \nmean_texture        0.323782      1.000000        0.329533   0.321086   \nmean_perimeter      0.997855      0.329533        1.000000   0.986507   \nmean_area           0.987357      0.321086        0.986507   1.000000   \nmean_smoothness     0.170581     -0.023389        0.207278   0.177028   \ndiagnosis          -0.730029     -0.415185       -0.742636  -0.708984   \n\n                 mean_smoothness  diagnosis  \nmean_radius             0.170581  -0.730029  \nmean_texture           -0.023389  -0.415185  \nmean_perimeter          0.207278  -0.742636  \nmean_area               0.177028  -0.708984  \nmean_smoothness         1.000000  -0.358560  \ndiagnosis              -0.358560   1.000000  ",
      "text/html": "<div>\n<style scoped>\n    .dataframe tbody tr th:only-of-type {\n        vertical-align: middle;\n    }\n\n    .dataframe tbody tr th {\n        vertical-align: top;\n    }\n\n    .dataframe thead th {\n        text-align: right;\n    }\n</style>\n<table border=\"1\" class=\"dataframe\">\n  <thead>\n    <tr style=\"text-align: right;\">\n      <th></th>\n      <th>mean_radius</th>\n      <th>mean_texture</th>\n      <th>mean_perimeter</th>\n      <th>mean_area</th>\n      <th>mean_smoothness</th>\n      <th>diagnosis</th>\n    </tr>\n  </thead>\n  <tbody>\n    <tr>\n      <th>mean_radius</th>\n      <td>1.000000</td>\n      <td>0.323782</td>\n      <td>0.997855</td>\n      <td>0.987357</td>\n      <td>0.170581</td>\n      <td>-0.730029</td>\n    </tr>\n    <tr>\n      <th>mean_texture</th>\n      <td>0.323782</td>\n      <td>1.000000</td>\n      <td>0.329533</td>\n      <td>0.321086</td>\n      <td>-0.023389</td>\n      <td>-0.415185</td>\n    </tr>\n    <tr>\n      <th>mean_perimeter</th>\n      <td>0.997855</td>\n      <td>0.329533</td>\n      <td>1.000000</td>\n      <td>0.986507</td>\n      <td>0.207278</td>\n      <td>-0.742636</td>\n    </tr>\n    <tr>\n      <th>mean_area</th>\n      <td>0.987357</td>\n      <td>0.321086</td>\n      <td>0.986507</td>\n      <td>1.000000</td>\n      <td>0.177028</td>\n      <td>-0.708984</td>\n    </tr>\n    <tr>\n      <th>mean_smoothness</th>\n      <td>0.170581</td>\n      <td>-0.023389</td>\n      <td>0.207278</td>\n      <td>0.177028</td>\n      <td>1.000000</td>\n      <td>-0.358560</td>\n    </tr>\n    <tr>\n      <th>diagnosis</th>\n      <td>-0.730029</td>\n      <td>-0.415185</td>\n      <td>-0.742636</td>\n      <td>-0.708984</td>\n      <td>-0.358560</td>\n      <td>1.000000</td>\n    </tr>\n  </tbody>\n</table>\n</div>"
     },
     "execution_count": 8,
     "metadata": {},
     "output_type": "execute_result"
    }
   ],
   "source": [
    "df.corr()"
   ],
   "metadata": {
    "collapsed": false
   }
  },
  {
   "cell_type": "code",
   "execution_count": 9,
   "outputs": [
    {
     "name": "stdout",
     "output_type": "stream",
     "text": [
      "Skewness: 1.6457321756240424\n"
     ]
    }
   ],
   "source": [
    "print(\"Skewness: \"+str(df['mean_area'].skew()))"
   ],
   "metadata": {
    "collapsed": false
   }
  },
  {
   "cell_type": "code",
   "execution_count": 10,
   "outputs": [
    {
     "data": {
      "text/plain": "<Figure size 640x480 with 1 Axes>",
      "image/png": "[encoded data removed]"
     },
     "metadata": {},
     "output_type": "display_data"
    }
   ],
   "source": [
    "import matplotlib.pyplot as plt\n",
    "plt.plot(df['mean_area'], c='b')\n",
    "plt.plot(df['mean_perimeter'], c='r')\n",
    "plt.show()"
   ],
   "metadata": {
    "collapsed": false
   }
  },
  {
   "cell_type": "code",
   "execution_count": 11,
   "id": "39ba4c34",
   "metadata": {
    "ExecuteTime": {
     "end_time": "2022-10-22T21:30:38.003703Z",
     "start_time": "2022-10-22T21:30:37.996292Z"
    }
   },
   "outputs": [],
   "source": [
    "X = df.iloc[:, 0:5]\n",
    "y = df.iloc[:, 5:]\n",
    "\n",
    "x_train, x_val, y_train, y_val = train_test_split(X, y, test_size=0.70, random_state=42)"
   ]
  },
  {
   "cell_type": "markdown",
   "id": "cefd7a92",
   "metadata": {},
   "source": [
    "<font face=\"Times New Roman\" size=4><div dir=ltr>\n",
    "## Training And Tuning Hyperparameters (20 points)\n",
    "In this section, you only need to find the best hyperparameters for your model. You can test different values and permutations of hyperparameters by adding them to the lists below. Your model must have at least accuracy=0.85 on validation data."
   ]
  },
  {
   "cell_type": "markdown",
   "source": [
    "max depth of the tree is a limit to stop further splitting of nodes when the specified tree depth has been reached during the building of the initial decision tree. The theoretical maximum depth a decsion tree can achieve is one less than the number of training samples, but no sane algorithm will let you reach this point for obvious reasons, one big reason being overfitting.\n",
    "\n",
    "Morever, min_samples_split is the minimum number of samples required to split an internal node. it's default values is set to be 2 and high values may prevent model from learning relations.\n"
   ],
   "metadata": {
    "collapsed": false
   }
  },
  {
   "cell_type": "code",
   "execution_count": 12,
   "id": "assigned-estate",
   "metadata": {
    "ExecuteTime": {
     "end_time": "2022-10-22T21:36:15.733600Z",
     "start_time": "2022-10-22T21:36:15.730426Z"
    }
   },
   "outputs": [],
   "source": [
    "max_depths = [1,2,3,4,5,6,7,8,9,10,11,12]\n",
    "min_samples_splits = [1,2,3,4,5,6,7,8]"
   ]
  },
  {
   "cell_type": "code",
   "execution_count": 13,
   "id": "58003410",
   "metadata": {},
   "outputs": [
    {
     "name": "stdout",
     "output_type": "stream",
     "text": [
      "accuracy of training set for [min_samples_splits= 1 - max_depths= 1] =0.5764705882352941\n",
      "accuracy of validation set for [min_samples_splits= 1 - max_depths= 1] =0.6491228070175439\n",
      "------------------------------------------------\n",
      "accuracy of training set for [min_samples_splits= 2 - max_depths= 1] =0.5764705882352941\n",
      "accuracy of validation set for [min_samples_splits= 2 - max_depths= 1] =0.6491228070175439\n",
      "------------------------------------------------\n",
      "accuracy of training set for [min_samples_splits= 3 - max_depths= 1] =0.5764705882352941\n",
      "accuracy of validation set for [min_samples_splits= 3 - max_depths= 1] =0.6491228070175439\n",
      "------------------------------------------------\n",
      "accuracy of training set for [min_samples_splits= 4 - max_depths= 1] =0.5764705882352941\n",
      "accuracy of validation set for [min_samples_splits= 4 - max_depths= 1] =0.6491228070175439\n",
      "------------------------------------------------\n",
      "accuracy of training set for [min_samples_splits= 5 - max_depths= 1] =0.5764705882352941\n",
      "accuracy of validation set for [min_samples_splits= 5 - max_depths= 1] =0.6491228070175439\n",
      "------------------------------------------------\n",
      "accuracy of training set for [min_samples_splits= 6 - max_depths= 1] =0.5764705882352941\n",
      "accuracy of validation set for [min_samples_splits= 6 - max_depths= 1] =0.6491228070175439\n",
      "------------------------------------------------\n",
      "accuracy of training set for [min_samples_splits= 7 - max_depths= 1] =0.5764705882352941\n",
      "accuracy of validation set for [min_samples_splits= 7 - max_depths= 1] =0.6491228070175439\n",
      "------------------------------------------------\n",
      "accuracy of training set for [min_samples_splits= 8 - max_depths= 1] =0.5764705882352941\n",
      "accuracy of validation set for [min_samples_splits= 8 - max_depths= 1] =0.6491228070175439\n",
      "------------------------------------------------\n",
      "accuracy of training set for [min_samples_splits= 1 - max_depths= 2] =0.8705882352941177\n",
      "accuracy of validation set for [min_samples_splits= 1 - max_depths= 2] =0.8771929824561403\n",
      "------------------------------------------------\n",
      "accuracy of training set for [min_samples_splits= 2 - max_depths= 2] =0.8705882352941177\n",
      "accuracy of validation set for [min_samples_splits= 2 - max_depths= 2] =0.8771929824561403\n",
      "------------------------------------------------\n",
      "accuracy of training set for [min_samples_splits= 3 - max_depths= 2] =0.8705882352941177\n",
      "accuracy of validation set for [min_samples_splits= 3 - max_depths= 2] =0.8771929824561403\n",
      "------------------------------------------------\n",
      "accuracy of training set for [min_samples_splits= 4 - max_depths= 2] =0.8705882352941177\n",
      "accuracy of validation set for [min_samples_splits= 4 - max_depths= 2] =0.8771929824561403\n",
      "------------------------------------------------\n",
      "accuracy of training set for [min_samples_splits= 5 - max_depths= 2] =0.8705882352941177\n",
      "accuracy of validation set for [min_samples_splits= 5 - max_depths= 2] =0.8771929824561403\n",
      "------------------------------------------------\n",
      "accuracy of training set for [min_samples_splits= 6 - max_depths= 2] =0.8705882352941177\n",
      "accuracy of validation set for [min_samples_splits= 6 - max_depths= 2] =0.8771929824561403\n",
      "------------------------------------------------\n",
      "accuracy of training set for [min_samples_splits= 7 - max_depths= 2] =0.8705882352941177\n",
      "accuracy of validation set for [min_samples_splits= 7 - max_depths= 2] =0.8771929824561403\n",
      "------------------------------------------------\n",
      "accuracy of training set for [min_samples_splits= 8 - max_depths= 2] =0.8705882352941177\n",
      "accuracy of validation set for [min_samples_splits= 8 - max_depths= 2] =0.8771929824561403\n",
      "------------------------------------------------\n",
      "accuracy of training set for [min_samples_splits= 1 - max_depths= 3] =0.8705882352941177\n",
      "accuracy of validation set for [min_samples_splits= 1 - max_depths= 3] =0.8771929824561403\n",
      "------------------------------------------------\n",
      "accuracy of training set for [min_samples_splits= 2 - max_depths= 3] =0.8705882352941177\n",
      "accuracy of validation set for [min_samples_splits= 2 - max_depths= 3] =0.8771929824561403\n",
      "------------------------------------------------\n",
      "accuracy of training set for [min_samples_splits= 3 - max_depths= 3] =0.8705882352941177\n",
      "accuracy of validation set for [min_samples_splits= 3 - max_depths= 3] =0.8771929824561403\n",
      "------------------------------------------------\n",
      "accuracy of training set for [min_samples_splits= 4 - max_depths= 3] =0.8705882352941177\n",
      "accuracy of validation set for [min_samples_splits= 4 - max_depths= 3] =0.8771929824561403\n",
      "------------------------------------------------\n",
      "accuracy of training set for [min_samples_splits= 5 - max_depths= 3] =0.8705882352941177\n",
      "accuracy of validation set for [min_samples_splits= 5 - max_depths= 3] =0.8771929824561403\n",
      "------------------------------------------------\n",
      "accuracy of training set for [min_samples_splits= 6 - max_depths= 3] =0.8705882352941177\n",
      "accuracy of validation set for [min_samples_splits= 6 - max_depths= 3] =0.8771929824561403\n",
      "------------------------------------------------\n",
      "accuracy of training set for [min_samples_splits= 7 - max_depths= 3] =0.8705882352941177\n",
      "accuracy of validation set for [min_samples_splits= 7 - max_depths= 3] =0.8771929824561403\n",
      "------------------------------------------------\n",
      "accuracy of training set for [min_samples_splits= 8 - max_depths= 3] =0.8705882352941177\n",
      "accuracy of validation set for [min_samples_splits= 8 - max_depths= 3] =0.8771929824561403\n",
      "------------------------------------------------\n",
      "accuracy of training set for [min_samples_splits= 1 - max_depths= 4] =0.9176470588235294\n",
      "accuracy of validation set for [min_samples_splits= 1 - max_depths= 4] =0.8721804511278195\n",
      "------------------------------------------------\n",
      "accuracy of training set for [min_samples_splits= 2 - max_depths= 4] =0.9176470588235294\n",
      "accuracy of validation set for [min_samples_splits= 2 - max_depths= 4] =0.8721804511278195\n",
      "------------------------------------------------\n",
      "accuracy of training set for [min_samples_splits= 3 - max_depths= 4] =0.9176470588235294\n",
      "accuracy of validation set for [min_samples_splits= 3 - max_depths= 4] =0.8721804511278195\n",
      "------------------------------------------------\n",
      "accuracy of training set for [min_samples_splits= 4 - max_depths= 4] =0.9176470588235294\n",
      "accuracy of validation set for [min_samples_splits= 4 - max_depths= 4] =0.8721804511278195\n",
      "------------------------------------------------\n",
      "accuracy of training set for [min_samples_splits= 5 - max_depths= 4] =0.888235294117647\n",
      "accuracy of validation set for [min_samples_splits= 5 - max_depths= 4] =0.8421052631578947\n",
      "------------------------------------------------\n",
      "accuracy of training set for [min_samples_splits= 6 - max_depths= 4] =0.888235294117647\n",
      "accuracy of validation set for [min_samples_splits= 6 - max_depths= 4] =0.8421052631578947\n",
      "------------------------------------------------\n",
      "accuracy of training set for [min_samples_splits= 7 - max_depths= 4] =0.888235294117647\n",
      "accuracy of validation set for [min_samples_splits= 7 - max_depths= 4] =0.8421052631578947\n",
      "------------------------------------------------\n",
      "accuracy of training set for [min_samples_splits= 8 - max_depths= 4] =0.888235294117647\n",
      "accuracy of validation set for [min_samples_splits= 8 - max_depths= 4] =0.8421052631578947\n",
      "------------------------------------------------\n",
      "accuracy of training set for [min_samples_splits= 1 - max_depths= 5] =0.9294117647058824\n",
      "accuracy of validation set for [min_samples_splits= 1 - max_depths= 5] =0.9047619047619048\n",
      "------------------------------------------------\n",
      "accuracy of training set for [min_samples_splits= 2 - max_depths= 5] =0.9294117647058824\n",
      "accuracy of validation set for [min_samples_splits= 2 - max_depths= 5] =0.9047619047619048\n",
      "------------------------------------------------\n",
      "accuracy of training set for [min_samples_splits= 3 - max_depths= 5] =0.9294117647058824\n",
      "accuracy of validation set for [min_samples_splits= 3 - max_depths= 5] =0.9047619047619048\n",
      "------------------------------------------------\n",
      "accuracy of training set for [min_samples_splits= 4 - max_depths= 5] =0.9294117647058824\n",
      "accuracy of validation set for [min_samples_splits= 4 - max_depths= 5] =0.9047619047619048\n",
      "------------------------------------------------\n",
      "accuracy of training set for [min_samples_splits= 5 - max_depths= 5] =0.888235294117647\n",
      "accuracy of validation set for [min_samples_splits= 5 - max_depths= 5] =0.8421052631578947\n",
      "------------------------------------------------\n",
      "accuracy of training set for [min_samples_splits= 6 - max_depths= 5] =0.888235294117647\n",
      "accuracy of validation set for [min_samples_splits= 6 - max_depths= 5] =0.8421052631578947\n",
      "------------------------------------------------\n",
      "accuracy of training set for [min_samples_splits= 7 - max_depths= 5] =0.888235294117647\n",
      "accuracy of validation set for [min_samples_splits= 7 - max_depths= 5] =0.8421052631578947\n",
      "------------------------------------------------\n",
      "accuracy of training set for [min_samples_splits= 8 - max_depths= 5] =0.888235294117647\n",
      "accuracy of validation set for [min_samples_splits= 8 - max_depths= 5] =0.8421052631578947\n",
      "------------------------------------------------\n",
      "accuracy of training set for [min_samples_splits= 1 - max_depths= 6] =0.9470588235294117\n",
      "accuracy of validation set for [min_samples_splits= 1 - max_depths= 6] =0.9122807017543859\n",
      "------------------------------------------------\n",
      "accuracy of training set for [min_samples_splits= 2 - max_depths= 6] =0.9470588235294117\n",
      "accuracy of validation set for [min_samples_splits= 2 - max_depths= 6] =0.9047619047619048\n",
      "------------------------------------------------\n",
      "accuracy of training set for [min_samples_splits= 3 - max_depths= 6] =0.9294117647058824\n",
      "accuracy of validation set for [min_samples_splits= 3 - max_depths= 6] =0.9047619047619048\n",
      "------------------------------------------------\n",
      "accuracy of training set for [min_samples_splits= 4 - max_depths= 6] =0.9294117647058824\n",
      "accuracy of validation set for [min_samples_splits= 4 - max_depths= 6] =0.9047619047619048\n",
      "------------------------------------------------\n",
      "accuracy of training set for [min_samples_splits= 5 - max_depths= 6] =0.888235294117647\n",
      "accuracy of validation set for [min_samples_splits= 5 - max_depths= 6] =0.8421052631578947\n",
      "------------------------------------------------\n",
      "accuracy of training set for [min_samples_splits= 6 - max_depths= 6] =0.888235294117647\n",
      "accuracy of validation set for [min_samples_splits= 6 - max_depths= 6] =0.8421052631578947\n",
      "------------------------------------------------\n",
      "accuracy of training set for [min_samples_splits= 7 - max_depths= 6] =0.888235294117647\n",
      "accuracy of validation set for [min_samples_splits= 7 - max_depths= 6] =0.8421052631578947\n",
      "------------------------------------------------\n",
      "accuracy of training set for [min_samples_splits= 8 - max_depths= 6] =0.888235294117647\n",
      "accuracy of validation set for [min_samples_splits= 8 - max_depths= 6] =0.8421052631578947\n",
      "------------------------------------------------\n",
      "accuracy of training set for [min_samples_splits= 1 - max_depths= 7] =0.9470588235294117\n",
      "accuracy of validation set for [min_samples_splits= 1 - max_depths= 7] =0.9047619047619048\n",
      "------------------------------------------------\n",
      "accuracy of training set for [min_samples_splits= 2 - max_depths= 7] =0.9470588235294117\n",
      "accuracy of validation set for [min_samples_splits= 2 - max_depths= 7] =0.899749373433584\n",
      "------------------------------------------------\n",
      "accuracy of training set for [min_samples_splits= 3 - max_depths= 7] =0.9294117647058824\n",
      "accuracy of validation set for [min_samples_splits= 3 - max_depths= 7] =0.9047619047619048\n",
      "------------------------------------------------\n",
      "accuracy of training set for [min_samples_splits= 4 - max_depths= 7] =0.9294117647058824\n",
      "accuracy of validation set for [min_samples_splits= 4 - max_depths= 7] =0.9047619047619048\n",
      "------------------------------------------------\n",
      "accuracy of training set for [min_samples_splits= 5 - max_depths= 7] =0.888235294117647\n",
      "accuracy of validation set for [min_samples_splits= 5 - max_depths= 7] =0.8421052631578947\n",
      "------------------------------------------------\n",
      "accuracy of training set for [min_samples_splits= 6 - max_depths= 7] =0.888235294117647\n",
      "accuracy of validation set for [min_samples_splits= 6 - max_depths= 7] =0.8421052631578947\n",
      "------------------------------------------------\n",
      "accuracy of training set for [min_samples_splits= 7 - max_depths= 7] =0.888235294117647\n",
      "accuracy of validation set for [min_samples_splits= 7 - max_depths= 7] =0.8421052631578947\n",
      "------------------------------------------------\n",
      "accuracy of training set for [min_samples_splits= 8 - max_depths= 7] =0.888235294117647\n",
      "accuracy of validation set for [min_samples_splits= 8 - max_depths= 7] =0.8421052631578947\n",
      "------------------------------------------------\n",
      "accuracy of training set for [min_samples_splits= 1 - max_depths= 8] =0.9470588235294117\n",
      "accuracy of validation set for [min_samples_splits= 1 - max_depths= 8] =0.9223057644110275\n",
      "------------------------------------------------\n",
      "accuracy of training set for [min_samples_splits= 2 - max_depths= 8] =0.9470588235294117\n",
      "accuracy of validation set for [min_samples_splits= 2 - max_depths= 8] =0.899749373433584\n",
      "------------------------------------------------\n",
      "accuracy of training set for [min_samples_splits= 3 - max_depths= 8] =0.9294117647058824\n",
      "accuracy of validation set for [min_samples_splits= 3 - max_depths= 8] =0.9047619047619048\n",
      "------------------------------------------------\n",
      "accuracy of training set for [min_samples_splits= 4 - max_depths= 8] =0.9294117647058824\n",
      "accuracy of validation set for [min_samples_splits= 4 - max_depths= 8] =0.9047619047619048\n",
      "------------------------------------------------\n",
      "accuracy of training set for [min_samples_splits= 5 - max_depths= 8] =0.888235294117647\n",
      "accuracy of validation set for [min_samples_splits= 5 - max_depths= 8] =0.8421052631578947\n",
      "------------------------------------------------\n",
      "accuracy of training set for [min_samples_splits= 6 - max_depths= 8] =0.888235294117647\n",
      "accuracy of validation set for [min_samples_splits= 6 - max_depths= 8] =0.8421052631578947\n",
      "------------------------------------------------\n",
      "accuracy of training set for [min_samples_splits= 7 - max_depths= 8] =0.888235294117647\n",
      "accuracy of validation set for [min_samples_splits= 7 - max_depths= 8] =0.8421052631578947\n",
      "------------------------------------------------\n",
      "accuracy of training set for [min_samples_splits= 8 - max_depths= 8] =0.888235294117647\n",
      "accuracy of validation set for [min_samples_splits= 8 - max_depths= 8] =0.8421052631578947\n",
      "------------------------------------------------\n",
      "accuracy of training set for [min_samples_splits= 1 - max_depths= 9] =0.9470588235294117\n",
      "accuracy of validation set for [min_samples_splits= 1 - max_depths= 9] =0.9172932330827067\n",
      "------------------------------------------------\n",
      "accuracy of training set for [min_samples_splits= 2 - max_depths= 9] =0.9470588235294117\n",
      "accuracy of validation set for [min_samples_splits= 2 - max_depths= 9] =0.899749373433584\n",
      "------------------------------------------------\n",
      "accuracy of training set for [min_samples_splits= 3 - max_depths= 9] =0.9294117647058824\n",
      "accuracy of validation set for [min_samples_splits= 3 - max_depths= 9] =0.9047619047619048\n",
      "------------------------------------------------\n",
      "accuracy of training set for [min_samples_splits= 4 - max_depths= 9] =0.9294117647058824\n",
      "accuracy of validation set for [min_samples_splits= 4 - max_depths= 9] =0.9047619047619048\n",
      "------------------------------------------------\n",
      "accuracy of training set for [min_samples_splits= 5 - max_depths= 9] =0.888235294117647\n",
      "accuracy of validation set for [min_samples_splits= 5 - max_depths= 9] =0.8421052631578947\n",
      "------------------------------------------------\n",
      "accuracy of training set for [min_samples_splits= 6 - max_depths= 9] =0.888235294117647\n",
      "accuracy of validation set for [min_samples_splits= 6 - max_depths= 9] =0.8421052631578947\n",
      "------------------------------------------------\n",
      "accuracy of training set for [min_samples_splits= 7 - max_depths= 9] =0.888235294117647\n",
      "accuracy of validation set for [min_samples_splits= 7 - max_depths= 9] =0.8421052631578947\n",
      "------------------------------------------------\n",
      "accuracy of training set for [min_samples_splits= 8 - max_depths= 9] =0.888235294117647\n",
      "accuracy of validation set for [min_samples_splits= 8 - max_depths= 9] =0.8421052631578947\n",
      "------------------------------------------------\n",
      "accuracy of training set for [min_samples_splits= 1 - max_depths= 10] =0.9470588235294117\n",
      "accuracy of validation set for [min_samples_splits= 1 - max_depths= 10] =0.9122807017543859\n",
      "------------------------------------------------\n",
      "accuracy of training set for [min_samples_splits= 2 - max_depths= 10] =0.9470588235294117\n",
      "accuracy of validation set for [min_samples_splits= 2 - max_depths= 10] =0.9047619047619048\n",
      "------------------------------------------------\n",
      "accuracy of training set for [min_samples_splits= 3 - max_depths= 10] =0.9294117647058824\n",
      "accuracy of validation set for [min_samples_splits= 3 - max_depths= 10] =0.9047619047619048\n",
      "------------------------------------------------\n",
      "accuracy of training set for [min_samples_splits= 4 - max_depths= 10] =0.9294117647058824\n",
      "accuracy of validation set for [min_samples_splits= 4 - max_depths= 10] =0.9047619047619048\n",
      "------------------------------------------------\n",
      "accuracy of training set for [min_samples_splits= 5 - max_depths= 10] =0.888235294117647\n",
      "accuracy of validation set for [min_samples_splits= 5 - max_depths= 10] =0.8421052631578947\n",
      "------------------------------------------------\n",
      "accuracy of training set for [min_samples_splits= 6 - max_depths= 10] =0.888235294117647\n",
      "accuracy of validation set for [min_samples_splits= 6 - max_depths= 10] =0.8421052631578947\n",
      "------------------------------------------------\n",
      "accuracy of training set for [min_samples_splits= 7 - max_depths= 10] =0.888235294117647\n",
      "accuracy of validation set for [min_samples_splits= 7 - max_depths= 10] =0.8421052631578947\n",
      "------------------------------------------------\n",
      "accuracy of training set for [min_samples_splits= 8 - max_depths= 10] =0.888235294117647\n",
      "accuracy of validation set for [min_samples_splits= 8 - max_depths= 10] =0.8421052631578947\n",
      "------------------------------------------------\n",
      "accuracy of training set for [min_samples_splits= 1 - max_depths= 11] =0.9470588235294117\n",
      "accuracy of validation set for [min_samples_splits= 1 - max_depths= 11] =0.9172932330827067\n",
      "------------------------------------------------\n",
      "accuracy of training set for [min_samples_splits= 2 - max_depths= 11] =0.9470588235294117\n",
      "accuracy of validation set for [min_samples_splits= 2 - max_depths= 11] =0.899749373433584\n",
      "------------------------------------------------\n",
      "accuracy of training set for [min_samples_splits= 3 - max_depths= 11] =0.9294117647058824\n",
      "accuracy of validation set for [min_samples_splits= 3 - max_depths= 11] =0.9047619047619048\n",
      "------------------------------------------------\n",
      "accuracy of training set for [min_samples_splits= 4 - max_depths= 11] =0.9294117647058824\n",
      "accuracy of validation set for [min_samples_splits= 4 - max_depths= 11] =0.9047619047619048\n",
      "------------------------------------------------\n",
      "accuracy of training set for [min_samples_splits= 5 - max_depths= 11] =0.888235294117647\n",
      "accuracy of validation set for [min_samples_splits= 5 - max_depths= 11] =0.8421052631578947\n",
      "------------------------------------------------\n",
      "accuracy of training set for [min_samples_splits= 6 - max_depths= 11] =0.888235294117647\n",
      "accuracy of validation set for [min_samples_splits= 6 - max_depths= 11] =0.8421052631578947\n",
      "------------------------------------------------\n",
      "accuracy of training set for [min_samples_splits= 7 - max_depths= 11] =0.888235294117647\n",
      "accuracy of validation set for [min_samples_splits= 7 - max_depths= 11] =0.8421052631578947\n",
      "------------------------------------------------\n",
      "accuracy of training set for [min_samples_splits= 8 - max_depths= 11] =0.888235294117647\n",
      "accuracy of validation set for [min_samples_splits= 8 - max_depths= 11] =0.8421052631578947\n",
      "------------------------------------------------\n",
      "accuracy of training set for [min_samples_splits= 1 - max_depths= 12] =0.9470588235294117\n",
      "accuracy of validation set for [min_samples_splits= 1 - max_depths= 12] =0.9172932330827067\n",
      "------------------------------------------------\n",
      "accuracy of training set for [min_samples_splits= 2 - max_depths= 12] =0.9470588235294117\n",
      "accuracy of validation set for [min_samples_splits= 2 - max_depths= 12] =0.9223057644110275\n",
      "------------------------------------------------\n",
      "accuracy of training set for [min_samples_splits= 3 - max_depths= 12] =0.9294117647058824\n",
      "accuracy of validation set for [min_samples_splits= 3 - max_depths= 12] =0.9047619047619048\n",
      "------------------------------------------------\n",
      "accuracy of training set for [min_samples_splits= 4 - max_depths= 12] =0.9294117647058824\n",
      "accuracy of validation set for [min_samples_splits= 4 - max_depths= 12] =0.9047619047619048\n",
      "------------------------------------------------\n",
      "accuracy of training set for [min_samples_splits= 5 - max_depths= 12] =0.888235294117647\n",
      "accuracy of validation set for [min_samples_splits= 5 - max_depths= 12] =0.8421052631578947\n",
      "------------------------------------------------\n",
      "accuracy of training set for [min_samples_splits= 6 - max_depths= 12] =0.888235294117647\n",
      "accuracy of validation set for [min_samples_splits= 6 - max_depths= 12] =0.8421052631578947\n",
      "------------------------------------------------\n",
      "accuracy of training set for [min_samples_splits= 7 - max_depths= 12] =0.888235294117647\n",
      "accuracy of validation set for [min_samples_splits= 7 - max_depths= 12] =0.8421052631578947\n",
      "------------------------------------------------\n",
      "accuracy of training set for [min_samples_splits= 8 - max_depths= 12] =0.888235294117647\n",
      "accuracy of validation set for [min_samples_splits= 8 - max_depths= 12] =0.8421052631578947\n",
      "------------------------------------------------\n"
     ]
    }
   ],
   "source": [
    "best_max_depth = None\n",
    "best_min_samples_split = None\n",
    "best_accuracy = 0\n",
    "best_model = None\n",
    "for max_depth in max_depths:\n",
    "    for min_samples_split in min_samples_splits:\n",
    "        clf = DecisionTree(max_depth, min_samples_split)\n",
    "        clf.fit(x_train, y_train)\n",
    "        y_val_pred = clf.predict(x_val)\n",
    "        y_train_pred = clf.predict(x_train)\n",
    "        accuracy = accuracy_score(y_val_pred, y_val)\n",
    "        train_accuracy = accuracy_score(y_train_pred, y_train)\n",
    "        print(\"accuracy of training set for [min_samples_splits= \"+str(min_samples_split) +\" - max_depths= \"+str(max_depth)+ \"] =\"+str(train_accuracy))\n",
    "        print(f\"accuracy of validation set for [min_samples_splits= \"+str(min_samples_split) +\" - max_depths= \"+str(max_depth)+ \"] =\"+str(accuracy))\n",
    "        print(\"------------------------------------------------\")\n",
    "        if accuracy >= best_accuracy:\n",
    "            best_accuracy = accuracy\n",
    "            best_max_depth = max_depth\n",
    "            best_min_samples_split = min_samples_split\n",
    "            best_model = clf"
   ]
  },
  {
   "cell_type": "code",
   "execution_count": 14,
   "outputs": [
    {
     "name": "stdout",
     "output_type": "stream",
     "text": [
      "best_max_depth: 12 best_min_samples_split: 2 best_accuracy: 0.9223057644110275 best_model<__main__.DecisionTree object at 0x10b864310>\n"
     ]
    }
   ],
   "source": [
    "print(\"best_max_depth: \"+str(best_max_depth)+\" best_min_samples_split: \"+str(best_min_samples_split)+\" best_accuracy: \"+str(best_accuracy)+\" best_model\"+ str(best_model))"
   ],
   "metadata": {
    "collapsed": false
   }
  },
  {
   "cell_type": "code",
   "execution_count": null,
   "outputs": [],
   "source": [],
   "metadata": {
    "collapsed": false
   }
  }
 ],
 "metadata": {
  "kernelspec": {
   "display_name": "Python 3 (ipykernel)",
   "language": "python",
   "name": "python3"
  },
  "language_info": {
   "codemirror_mode": {
    "name": "ipython",
    "version": 3
   },
   "file_extension": ".py",
   "mimetype": "text/x-python",
   "name": "python",
   "nbconvert_exporter": "python",
   "pygments_lexer": "ipython3",
   "version": "3.9.7"
  },
  "toc": {
   "base_numbering": 1,
   "nav_menu": {},
   "number_sections": true,
   "sideBar": true,
   "skip_h1_title": false,
   "title_cell": "Table of Contents",
   "title_sidebar": "Contents",
   "toc_cell": false,
   "toc_position": {},
   "toc_section_display": true,
   "toc_window_display": false
  },
  "varInspector": {
   "cols": {
    "lenName": 16,
    "lenType": 16,
    "lenVar": 40
   },
   "kernels_config": {
    "python": {
     "delete_cmd_postfix": "",
     "delete_cmd_prefix": "del ",
     "library": "var_list.py",
     "varRefreshCmd": "print(var_dic_list())"
    },
    "r": {
     "delete_cmd_postfix": ") ",
     "delete_cmd_prefix": "rm(",
     "library": "var_list.r",
     "varRefreshCmd": "cat(var_dic_list()) "
    }
   },
   "types_to_exclude": [
    "module",
    "function",
    "builtin_function_or_method",
    "instance",
    "_Feature"
   ],
   "window_display": false
  }
 },
 "nbformat": 4,
 "nbformat_minor": 5
}
